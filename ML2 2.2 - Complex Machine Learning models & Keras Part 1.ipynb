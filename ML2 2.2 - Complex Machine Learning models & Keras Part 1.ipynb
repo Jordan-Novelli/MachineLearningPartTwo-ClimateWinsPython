{
 "cells": [
  {
   "cell_type": "markdown",
   "id": "98bb1c71-f05b-46c9-9643-72aea61086dd",
   "metadata": {},
   "source": [
    "# ML2 2.2 - Complex Machine Learning models & Keras Part 1"
   ]
  },
  {
   "cell_type": "markdown",
   "id": "3dbb348c-27d1-44cf-8d54-e8ad5559fc76",
   "metadata": {},
   "source": [
    "### This script contains the following:\n",
    "\n",
    "#### 1. Importing Libraries\n",
    "#### 2. Set Up Keras Model\n",
    "#### 3. Cleaning Data\n",
    "        Dropping Columns\n",
    "        Fill in three observations with local data within the dataset\n",
    "        Export (file to be used in later exercises)\n",
    "        Keras Layer Model\n",
    "        Split Data\n",
    "#### 4. RNN\n",
    "        Confusion Matrix"
   ]
  },
  {
   "cell_type": "markdown",
   "id": "f131aa5a-4fc3-4356-aa97-6d2f96f066bd",
   "metadata": {},
   "source": [
    "### 1. Importing Libraries"
   ]
  },
  {
   "cell_type": "code",
   "execution_count": 214,
   "id": "37e665c9-ec12-40d2-945b-e479754df509",
   "metadata": {},
   "outputs": [],
   "source": [
    "### 1. Importing Libraries\n",
    "\n",
    "import pandas as pd\n",
    "import numpy as np\n",
    "import seaborn as sns\n",
    "import os\n",
    "import operator\n",
    "import matplotlib.pyplot as plt\n",
    "from sklearn.model_selection import train_test_split\n",
    "from sklearn.preprocessing import LabelEncoder\n",
    "import tensorflow as tf\n",
    "from tensorflow import keras\n",
    "from tensorflow.keras import layers\n",
    "from keras.models import Sequential\n",
    "from tensorflow.keras.layers import LSTM, Dense, Dropout, TimeDistributed\n",
    "from keras.layers import Conv1D, Conv2D, Dense, BatchNormalization, Flatten, MaxPooling1D\n",
    "from keras.layers import LSTM\n",
    "from keras.layers import Dense, Dropout\n",
    "from numpy import unique\n",
    "from numpy import reshape\n",
    "from keras import utils"
   ]
  },
  {
   "cell_type": "code",
   "execution_count": 4,
   "id": "77129f62-363d-4b2c-938c-8a4e3f1001ef",
   "metadata": {},
   "outputs": [],
   "source": [
    "# Importing unscaled ClimateWins data\n",
    "\n",
    "climatewins_original = pd.read_csv(r'D:\\Career Foundry\\3) Data Specialization\\Machine Learning with Python\\Achievement 2 - Real-World Application of Machine Learning\\ClimateWins\\DataSet\\European Climate Assessment and Data Set Project.csv')"
   ]
  },
  {
   "cell_type": "code",
   "execution_count": 6,
   "id": "58210577-52dc-46d0-956b-8b45b4293f4e",
   "metadata": {},
   "outputs": [],
   "source": [
    "# Importing Pleasant Weather data\n",
    "\n",
    "pleasant_weather = pd.read_csv(r'D:\\Career Foundry\\3) Data Specialization\\Machine Learning with Python\\Achievement 2 - Real-World Application of Machine Learning\\ClimateWins\\DataSet\\Dataset-Answers-Weather_Prediction_Pleasant_Weather.csv')"
   ]
  },
  {
   "cell_type": "code",
   "execution_count": 8,
   "id": "af607da9-40cb-4088-aede-6d3f1b9d32b2",
   "metadata": {},
   "outputs": [],
   "source": [
    "# Creating Path\n",
    "\n",
    "path = r'D:\\Career Foundry\\3) Data Specialization\\Machine Learning with Python\\Achievement 2 - Real-World Application of Machine Learning'"
   ]
  },
  {
   "cell_type": "markdown",
   "id": "fceaf869-add7-451b-8832-5f664d5359bf",
   "metadata": {
    "jp-MarkdownHeadingCollapsed": true
   },
   "source": [
    "### 2. Set Up Keras Model"
   ]
  },
  {
   "cell_type": "markdown",
   "id": "5c67118a-05da-40b6-ac39-767f3bedc7de",
   "metadata": {},
   "source": [
    "###### I'll be running the RNN with LSTM. RNN is similar to CNN but works well with time components. While CNN works well with images. I want to see how well the looping works with determing pleasant weather with our data sets."
   ]
  },
  {
   "cell_type": "code",
   "execution_count": 12,
   "id": "f9e9679b-2800-4ac1-937a-72ef62d3f833",
   "metadata": {},
   "outputs": [
    {
     "name": "stderr",
     "output_type": "stream",
     "text": [
      "C:\\Users\\jmesi\\anaconda3\\Lib\\site-packages\\keras\\src\\layers\\core\\dense.py:93: UserWarning: Do not pass an `input_shape`/`input_dim` argument to a layer. When using Sequential models, prefer using an `Input(shape)` object as the first layer in the model instead.\n",
      "  super().__init__(activity_regularizer=activity_regularizer, **kwargs)\n"
     ]
    }
   ],
   "source": [
    "# Make a new model and this time start with an input shape\n",
    "\n",
    "model = Sequential()\n",
    "model.add(layers.Dense(2, activation='sigmoid', input_shape=(15,)))\n",
    "model.add(layers.Dense(3))\n",
    "model.add(layers.Dense(4))"
   ]
  },
  {
   "cell_type": "code",
   "execution_count": 14,
   "id": "b248012c-5344-4b9f-9c66-5d05b7167c3b",
   "metadata": {},
   "outputs": [
    {
     "name": "stdout",
     "output_type": "stream",
     "text": [
      "3\n"
     ]
    }
   ],
   "source": [
    "# This model also has more layers\n",
    "\n",
    "print(len(model.layers))"
   ]
  },
  {
   "cell_type": "code",
   "execution_count": 16,
   "id": "86c3e163-0ecd-4287-860b-87015289997b",
   "metadata": {},
   "outputs": [
    {
     "data": {
      "text/plain": [
       "[<Variable path=sequential/dense/kernel, shape=(15, 2), dtype=float32, value=[[ 0.16957152 -0.02725273]\n",
       "  [ 0.46163917 -0.33149084]\n",
       "  [ 0.07418078  0.0310123 ]\n",
       "  [-0.5935027  -0.0763936 ]\n",
       "  [ 0.55306184  0.15423185]\n",
       "  [ 0.20598805  0.1354177 ]\n",
       "  [ 0.19095826  0.1585514 ]\n",
       "  [ 0.3900516  -0.09507504]\n",
       "  [-0.29025695 -0.50720423]\n",
       "  [-0.2704999   0.4584725 ]\n",
       "  [-0.579708   -0.49273396]\n",
       "  [-0.39667255 -0.22834292]\n",
       "  [ 0.57648337 -0.00786197]\n",
       "  [ 0.5356134  -0.43524355]\n",
       "  [ 0.4208479   0.5542191 ]]>,\n",
       " <Variable path=sequential/dense/bias, shape=(2,), dtype=float32, value=[0. 0.]>,\n",
       " <Variable path=sequential/dense_1/kernel, shape=(2, 3), dtype=float32, value=[[-0.8328927   0.06951284 -0.26126665]\n",
       "  [-0.39947397  0.07572758 -0.8707267 ]]>,\n",
       " <Variable path=sequential/dense_1/bias, shape=(3,), dtype=float32, value=[0. 0. 0.]>,\n",
       " <Variable path=sequential/dense_2/kernel, shape=(3, 4), dtype=float32, value=[[-0.25749177  0.57534313  0.49404705 -0.59601545]\n",
       "  [-0.1674816  -0.20648044  0.13822174  0.3160019 ]\n",
       "  [ 0.27616954 -0.13704634 -0.4216463  -0.7534347 ]]>,\n",
       " <Variable path=sequential/dense_2/bias, shape=(4,), dtype=float32, value=[0. 0. 0. 0.]>]"
      ]
     },
     "execution_count": 16,
     "metadata": {},
     "output_type": "execute_result"
    }
   ],
   "source": [
    "# Model weights are there even though the model hasn't been run yet\n",
    "\n",
    "model.weights"
   ]
  },
  {
   "cell_type": "code",
   "execution_count": 18,
   "id": "0668c7d3-479a-4583-bc29-2a4c47c748e6",
   "metadata": {},
   "outputs": [
    {
     "data": {
      "text/html": [
       "<pre style=\"white-space:pre;overflow-x:auto;line-height:normal;font-family:Menlo,'DejaVu Sans Mono',consolas,'Courier New',monospace\"><span style=\"font-weight: bold\">Model: \"sequential\"</span>\n",
       "</pre>\n"
      ],
      "text/plain": [
       "\u001b[1mModel: \"sequential\"\u001b[0m\n"
      ]
     },
     "metadata": {},
     "output_type": "display_data"
    },
    {
     "data": {
      "text/html": [
       "<pre style=\"white-space:pre;overflow-x:auto;line-height:normal;font-family:Menlo,'DejaVu Sans Mono',consolas,'Courier New',monospace\">┏━━━━━━━━━━━━━━━━━━━━━━━━━━━━━━━━━━━━━━┳━━━━━━━━━━━━━━━━━━━━━━━━━━━━━┳━━━━━━━━━━━━━━━━━┓\n",
       "┃<span style=\"font-weight: bold\"> Layer (type)                         </span>┃<span style=\"font-weight: bold\"> Output Shape                </span>┃<span style=\"font-weight: bold\">         Param # </span>┃\n",
       "┡━━━━━━━━━━━━━━━━━━━━━━━━━━━━━━━━━━━━━━╇━━━━━━━━━━━━━━━━━━━━━━━━━━━━━╇━━━━━━━━━━━━━━━━━┩\n",
       "│ dense (<span style=\"color: #0087ff; text-decoration-color: #0087ff\">Dense</span>)                        │ (<span style=\"color: #00d7ff; text-decoration-color: #00d7ff\">None</span>, <span style=\"color: #00af00; text-decoration-color: #00af00\">2</span>)                   │              <span style=\"color: #00af00; text-decoration-color: #00af00\">32</span> │\n",
       "├──────────────────────────────────────┼─────────────────────────────┼─────────────────┤\n",
       "│ dense_1 (<span style=\"color: #0087ff; text-decoration-color: #0087ff\">Dense</span>)                      │ (<span style=\"color: #00d7ff; text-decoration-color: #00d7ff\">None</span>, <span style=\"color: #00af00; text-decoration-color: #00af00\">3</span>)                   │               <span style=\"color: #00af00; text-decoration-color: #00af00\">9</span> │\n",
       "├──────────────────────────────────────┼─────────────────────────────┼─────────────────┤\n",
       "│ dense_2 (<span style=\"color: #0087ff; text-decoration-color: #0087ff\">Dense</span>)                      │ (<span style=\"color: #00d7ff; text-decoration-color: #00d7ff\">None</span>, <span style=\"color: #00af00; text-decoration-color: #00af00\">4</span>)                   │              <span style=\"color: #00af00; text-decoration-color: #00af00\">16</span> │\n",
       "└──────────────────────────────────────┴─────────────────────────────┴─────────────────┘\n",
       "</pre>\n"
      ],
      "text/plain": [
       "┏━━━━━━━━━━━━━━━━━━━━━━━━━━━━━━━━━━━━━━┳━━━━━━━━━━━━━━━━━━━━━━━━━━━━━┳━━━━━━━━━━━━━━━━━┓\n",
       "┃\u001b[1m \u001b[0m\u001b[1mLayer (type)                        \u001b[0m\u001b[1m \u001b[0m┃\u001b[1m \u001b[0m\u001b[1mOutput Shape               \u001b[0m\u001b[1m \u001b[0m┃\u001b[1m \u001b[0m\u001b[1m        Param #\u001b[0m\u001b[1m \u001b[0m┃\n",
       "┡━━━━━━━━━━━━━━━━━━━━━━━━━━━━━━━━━━━━━━╇━━━━━━━━━━━━━━━━━━━━━━━━━━━━━╇━━━━━━━━━━━━━━━━━┩\n",
       "│ dense (\u001b[38;5;33mDense\u001b[0m)                        │ (\u001b[38;5;45mNone\u001b[0m, \u001b[38;5;34m2\u001b[0m)                   │              \u001b[38;5;34m32\u001b[0m │\n",
       "├──────────────────────────────────────┼─────────────────────────────┼─────────────────┤\n",
       "│ dense_1 (\u001b[38;5;33mDense\u001b[0m)                      │ (\u001b[38;5;45mNone\u001b[0m, \u001b[38;5;34m3\u001b[0m)                   │               \u001b[38;5;34m9\u001b[0m │\n",
       "├──────────────────────────────────────┼─────────────────────────────┼─────────────────┤\n",
       "│ dense_2 (\u001b[38;5;33mDense\u001b[0m)                      │ (\u001b[38;5;45mNone\u001b[0m, \u001b[38;5;34m4\u001b[0m)                   │              \u001b[38;5;34m16\u001b[0m │\n",
       "└──────────────────────────────────────┴─────────────────────────────┴─────────────────┘\n"
      ]
     },
     "metadata": {},
     "output_type": "display_data"
    },
    {
     "data": {
      "text/html": [
       "<pre style=\"white-space:pre;overflow-x:auto;line-height:normal;font-family:Menlo,'DejaVu Sans Mono',consolas,'Courier New',monospace\"><span style=\"font-weight: bold\"> Total params: </span><span style=\"color: #00af00; text-decoration-color: #00af00\">57</span> (228.00 B)\n",
       "</pre>\n"
      ],
      "text/plain": [
       "\u001b[1m Total params: \u001b[0m\u001b[38;5;34m57\u001b[0m (228.00 B)\n"
      ]
     },
     "metadata": {},
     "output_type": "display_data"
    },
    {
     "data": {
      "text/html": [
       "<pre style=\"white-space:pre;overflow-x:auto;line-height:normal;font-family:Menlo,'DejaVu Sans Mono',consolas,'Courier New',monospace\"><span style=\"font-weight: bold\"> Trainable params: </span><span style=\"color: #00af00; text-decoration-color: #00af00\">57</span> (228.00 B)\n",
       "</pre>\n"
      ],
      "text/plain": [
       "\u001b[1m Trainable params: \u001b[0m\u001b[38;5;34m57\u001b[0m (228.00 B)\n"
      ]
     },
     "metadata": {},
     "output_type": "display_data"
    },
    {
     "data": {
      "text/html": [
       "<pre style=\"white-space:pre;overflow-x:auto;line-height:normal;font-family:Menlo,'DejaVu Sans Mono',consolas,'Courier New',monospace\"><span style=\"font-weight: bold\"> Non-trainable params: </span><span style=\"color: #00af00; text-decoration-color: #00af00\">0</span> (0.00 B)\n",
       "</pre>\n"
      ],
      "text/plain": [
       "\u001b[1m Non-trainable params: \u001b[0m\u001b[38;5;34m0\u001b[0m (0.00 B)\n"
      ]
     },
     "metadata": {},
     "output_type": "display_data"
    }
   ],
   "source": [
    "# Now the model shows three layers, each of the type entered above, but there are no inputs yet.\n",
    "\n",
    "model.summary()"
   ]
  },
  {
   "cell_type": "markdown",
   "id": "16cfa813-b51b-4c90-8b62-c26b9a6110c0",
   "metadata": {
    "jp-MarkdownHeadingCollapsed": true
   },
   "source": [
    "### 3. Cleaning Data"
   ]
  },
  {
   "cell_type": "code",
   "execution_count": 21,
   "id": "ed97e3b8-4490-43ac-af70-652795c65412",
   "metadata": {},
   "outputs": [],
   "source": [
    "# Exploring size and shape of both data sets"
   ]
  },
  {
   "cell_type": "code",
   "execution_count": 23,
   "id": "db0a544e-858b-4437-9b71-53f54204715e",
   "metadata": {},
   "outputs": [
    {
     "data": {
      "text/html": [
       "<div>\n",
       "<style scoped>\n",
       "    .dataframe tbody tr th:only-of-type {\n",
       "        vertical-align: middle;\n",
       "    }\n",
       "\n",
       "    .dataframe tbody tr th {\n",
       "        vertical-align: top;\n",
       "    }\n",
       "\n",
       "    .dataframe thead th {\n",
       "        text-align: right;\n",
       "    }\n",
       "</style>\n",
       "<table border=\"1\" class=\"dataframe\">\n",
       "  <thead>\n",
       "    <tr style=\"text-align: right;\">\n",
       "      <th></th>\n",
       "      <th>DATE</th>\n",
       "      <th>MONTH</th>\n",
       "      <th>BASEL_cloud_cover</th>\n",
       "      <th>BASEL_wind_speed</th>\n",
       "      <th>BASEL_humidity</th>\n",
       "      <th>BASEL_pressure</th>\n",
       "      <th>BASEL_global_radiation</th>\n",
       "      <th>BASEL_precipitation</th>\n",
       "      <th>BASEL_snow_depth</th>\n",
       "      <th>BASEL_sunshine</th>\n",
       "      <th>...</th>\n",
       "      <th>VALENTIA_cloud_cover</th>\n",
       "      <th>VALENTIA_humidity</th>\n",
       "      <th>VALENTIA_pressure</th>\n",
       "      <th>VALENTIA_global_radiation</th>\n",
       "      <th>VALENTIA_precipitation</th>\n",
       "      <th>VALENTIA_snow_depth</th>\n",
       "      <th>VALENTIA_sunshine</th>\n",
       "      <th>VALENTIA_temp_mean</th>\n",
       "      <th>VALENTIA_temp_min</th>\n",
       "      <th>VALENTIA_temp_max</th>\n",
       "    </tr>\n",
       "  </thead>\n",
       "  <tbody>\n",
       "    <tr>\n",
       "      <th>0</th>\n",
       "      <td>19600101</td>\n",
       "      <td>1</td>\n",
       "      <td>7</td>\n",
       "      <td>2.1</td>\n",
       "      <td>0.85</td>\n",
       "      <td>1.018</td>\n",
       "      <td>0.32</td>\n",
       "      <td>0.09</td>\n",
       "      <td>0</td>\n",
       "      <td>0.7</td>\n",
       "      <td>...</td>\n",
       "      <td>5</td>\n",
       "      <td>0.88</td>\n",
       "      <td>1.0003</td>\n",
       "      <td>0.45</td>\n",
       "      <td>0.34</td>\n",
       "      <td>0</td>\n",
       "      <td>4.7</td>\n",
       "      <td>8.5</td>\n",
       "      <td>6.0</td>\n",
       "      <td>10.9</td>\n",
       "    </tr>\n",
       "    <tr>\n",
       "      <th>1</th>\n",
       "      <td>19600102</td>\n",
       "      <td>1</td>\n",
       "      <td>6</td>\n",
       "      <td>2.1</td>\n",
       "      <td>0.84</td>\n",
       "      <td>1.018</td>\n",
       "      <td>0.36</td>\n",
       "      <td>1.05</td>\n",
       "      <td>0</td>\n",
       "      <td>1.1</td>\n",
       "      <td>...</td>\n",
       "      <td>7</td>\n",
       "      <td>0.91</td>\n",
       "      <td>1.0007</td>\n",
       "      <td>0.25</td>\n",
       "      <td>0.84</td>\n",
       "      <td>0</td>\n",
       "      <td>0.7</td>\n",
       "      <td>8.9</td>\n",
       "      <td>5.6</td>\n",
       "      <td>12.1</td>\n",
       "    </tr>\n",
       "    <tr>\n",
       "      <th>2</th>\n",
       "      <td>19600103</td>\n",
       "      <td>1</td>\n",
       "      <td>8</td>\n",
       "      <td>2.1</td>\n",
       "      <td>0.90</td>\n",
       "      <td>1.018</td>\n",
       "      <td>0.18</td>\n",
       "      <td>0.30</td>\n",
       "      <td>0</td>\n",
       "      <td>0.0</td>\n",
       "      <td>...</td>\n",
       "      <td>7</td>\n",
       "      <td>0.91</td>\n",
       "      <td>1.0096</td>\n",
       "      <td>0.17</td>\n",
       "      <td>0.08</td>\n",
       "      <td>0</td>\n",
       "      <td>0.1</td>\n",
       "      <td>10.5</td>\n",
       "      <td>8.1</td>\n",
       "      <td>12.9</td>\n",
       "    </tr>\n",
       "    <tr>\n",
       "      <th>3</th>\n",
       "      <td>19600104</td>\n",
       "      <td>1</td>\n",
       "      <td>3</td>\n",
       "      <td>2.1</td>\n",
       "      <td>0.92</td>\n",
       "      <td>1.018</td>\n",
       "      <td>0.58</td>\n",
       "      <td>0.00</td>\n",
       "      <td>0</td>\n",
       "      <td>4.1</td>\n",
       "      <td>...</td>\n",
       "      <td>7</td>\n",
       "      <td>0.86</td>\n",
       "      <td>1.0184</td>\n",
       "      <td>0.13</td>\n",
       "      <td>0.98</td>\n",
       "      <td>0</td>\n",
       "      <td>0.0</td>\n",
       "      <td>7.4</td>\n",
       "      <td>7.3</td>\n",
       "      <td>10.6</td>\n",
       "    </tr>\n",
       "    <tr>\n",
       "      <th>4</th>\n",
       "      <td>19600105</td>\n",
       "      <td>1</td>\n",
       "      <td>6</td>\n",
       "      <td>2.1</td>\n",
       "      <td>0.95</td>\n",
       "      <td>1.018</td>\n",
       "      <td>0.65</td>\n",
       "      <td>0.14</td>\n",
       "      <td>0</td>\n",
       "      <td>5.4</td>\n",
       "      <td>...</td>\n",
       "      <td>3</td>\n",
       "      <td>0.80</td>\n",
       "      <td>1.0328</td>\n",
       "      <td>0.46</td>\n",
       "      <td>0.00</td>\n",
       "      <td>0</td>\n",
       "      <td>5.7</td>\n",
       "      <td>5.7</td>\n",
       "      <td>3.0</td>\n",
       "      <td>8.4</td>\n",
       "    </tr>\n",
       "  </tbody>\n",
       "</table>\n",
       "<p>5 rows × 170 columns</p>\n",
       "</div>"
      ],
      "text/plain": [
       "       DATE  MONTH  BASEL_cloud_cover  BASEL_wind_speed  BASEL_humidity  \\\n",
       "0  19600101      1                  7               2.1            0.85   \n",
       "1  19600102      1                  6               2.1            0.84   \n",
       "2  19600103      1                  8               2.1            0.90   \n",
       "3  19600104      1                  3               2.1            0.92   \n",
       "4  19600105      1                  6               2.1            0.95   \n",
       "\n",
       "   BASEL_pressure  BASEL_global_radiation  BASEL_precipitation  \\\n",
       "0           1.018                    0.32                 0.09   \n",
       "1           1.018                    0.36                 1.05   \n",
       "2           1.018                    0.18                 0.30   \n",
       "3           1.018                    0.58                 0.00   \n",
       "4           1.018                    0.65                 0.14   \n",
       "\n",
       "   BASEL_snow_depth  BASEL_sunshine  ...  VALENTIA_cloud_cover  \\\n",
       "0                 0             0.7  ...                     5   \n",
       "1                 0             1.1  ...                     7   \n",
       "2                 0             0.0  ...                     7   \n",
       "3                 0             4.1  ...                     7   \n",
       "4                 0             5.4  ...                     3   \n",
       "\n",
       "   VALENTIA_humidity  VALENTIA_pressure  VALENTIA_global_radiation  \\\n",
       "0               0.88             1.0003                       0.45   \n",
       "1               0.91             1.0007                       0.25   \n",
       "2               0.91             1.0096                       0.17   \n",
       "3               0.86             1.0184                       0.13   \n",
       "4               0.80             1.0328                       0.46   \n",
       "\n",
       "   VALENTIA_precipitation  VALENTIA_snow_depth  VALENTIA_sunshine  \\\n",
       "0                    0.34                    0                4.7   \n",
       "1                    0.84                    0                0.7   \n",
       "2                    0.08                    0                0.1   \n",
       "3                    0.98                    0                0.0   \n",
       "4                    0.00                    0                5.7   \n",
       "\n",
       "   VALENTIA_temp_mean  VALENTIA_temp_min  VALENTIA_temp_max  \n",
       "0                 8.5                6.0               10.9  \n",
       "1                 8.9                5.6               12.1  \n",
       "2                10.5                8.1               12.9  \n",
       "3                 7.4                7.3               10.6  \n",
       "4                 5.7                3.0                8.4  \n",
       "\n",
       "[5 rows x 170 columns]"
      ]
     },
     "execution_count": 23,
     "metadata": {},
     "output_type": "execute_result"
    }
   ],
   "source": [
    "climatewins_original.head()"
   ]
  },
  {
   "cell_type": "code",
   "execution_count": 25,
   "id": "29b92784-4acd-4f40-afd2-f3e5910d7a59",
   "metadata": {},
   "outputs": [
    {
     "data": {
      "text/html": [
       "<div>\n",
       "<style scoped>\n",
       "    .dataframe tbody tr th:only-of-type {\n",
       "        vertical-align: middle;\n",
       "    }\n",
       "\n",
       "    .dataframe tbody tr th {\n",
       "        vertical-align: top;\n",
       "    }\n",
       "\n",
       "    .dataframe thead th {\n",
       "        text-align: right;\n",
       "    }\n",
       "</style>\n",
       "<table border=\"1\" class=\"dataframe\">\n",
       "  <thead>\n",
       "    <tr style=\"text-align: right;\">\n",
       "      <th></th>\n",
       "      <th>DATE</th>\n",
       "      <th>BASEL_pleasant_weather</th>\n",
       "      <th>BELGRADE_pleasant_weather</th>\n",
       "      <th>BUDAPEST_pleasant_weather</th>\n",
       "      <th>DEBILT_pleasant_weather</th>\n",
       "      <th>DUSSELDORF_pleasant_weather</th>\n",
       "      <th>HEATHROW_pleasant_weather</th>\n",
       "      <th>KASSEL_pleasant_weather</th>\n",
       "      <th>LJUBLJANA_pleasant_weather</th>\n",
       "      <th>MAASTRICHT_pleasant_weather</th>\n",
       "      <th>MADRID_pleasant_weather</th>\n",
       "      <th>MUNCHENB_pleasant_weather</th>\n",
       "      <th>OSLO_pleasant_weather</th>\n",
       "      <th>SONNBLICK_pleasant_weather</th>\n",
       "      <th>STOCKHOLM_pleasant_weather</th>\n",
       "      <th>VALENTIA_pleasant_weather</th>\n",
       "    </tr>\n",
       "  </thead>\n",
       "  <tbody>\n",
       "    <tr>\n",
       "      <th>0</th>\n",
       "      <td>19600101</td>\n",
       "      <td>0</td>\n",
       "      <td>0</td>\n",
       "      <td>0</td>\n",
       "      <td>0</td>\n",
       "      <td>0</td>\n",
       "      <td>0</td>\n",
       "      <td>0</td>\n",
       "      <td>0</td>\n",
       "      <td>0</td>\n",
       "      <td>0</td>\n",
       "      <td>0</td>\n",
       "      <td>0</td>\n",
       "      <td>0</td>\n",
       "      <td>0</td>\n",
       "      <td>0</td>\n",
       "    </tr>\n",
       "    <tr>\n",
       "      <th>1</th>\n",
       "      <td>19600102</td>\n",
       "      <td>0</td>\n",
       "      <td>0</td>\n",
       "      <td>0</td>\n",
       "      <td>0</td>\n",
       "      <td>0</td>\n",
       "      <td>0</td>\n",
       "      <td>0</td>\n",
       "      <td>0</td>\n",
       "      <td>0</td>\n",
       "      <td>0</td>\n",
       "      <td>0</td>\n",
       "      <td>0</td>\n",
       "      <td>0</td>\n",
       "      <td>0</td>\n",
       "      <td>0</td>\n",
       "    </tr>\n",
       "    <tr>\n",
       "      <th>2</th>\n",
       "      <td>19600103</td>\n",
       "      <td>0</td>\n",
       "      <td>0</td>\n",
       "      <td>0</td>\n",
       "      <td>0</td>\n",
       "      <td>0</td>\n",
       "      <td>0</td>\n",
       "      <td>0</td>\n",
       "      <td>0</td>\n",
       "      <td>0</td>\n",
       "      <td>0</td>\n",
       "      <td>0</td>\n",
       "      <td>0</td>\n",
       "      <td>0</td>\n",
       "      <td>0</td>\n",
       "      <td>0</td>\n",
       "    </tr>\n",
       "    <tr>\n",
       "      <th>3</th>\n",
       "      <td>19600104</td>\n",
       "      <td>0</td>\n",
       "      <td>0</td>\n",
       "      <td>0</td>\n",
       "      <td>0</td>\n",
       "      <td>0</td>\n",
       "      <td>0</td>\n",
       "      <td>0</td>\n",
       "      <td>0</td>\n",
       "      <td>0</td>\n",
       "      <td>0</td>\n",
       "      <td>0</td>\n",
       "      <td>0</td>\n",
       "      <td>0</td>\n",
       "      <td>0</td>\n",
       "      <td>0</td>\n",
       "    </tr>\n",
       "    <tr>\n",
       "      <th>4</th>\n",
       "      <td>19600105</td>\n",
       "      <td>0</td>\n",
       "      <td>0</td>\n",
       "      <td>0</td>\n",
       "      <td>0</td>\n",
       "      <td>0</td>\n",
       "      <td>0</td>\n",
       "      <td>0</td>\n",
       "      <td>0</td>\n",
       "      <td>0</td>\n",
       "      <td>0</td>\n",
       "      <td>0</td>\n",
       "      <td>0</td>\n",
       "      <td>0</td>\n",
       "      <td>0</td>\n",
       "      <td>0</td>\n",
       "    </tr>\n",
       "  </tbody>\n",
       "</table>\n",
       "</div>"
      ],
      "text/plain": [
       "       DATE  BASEL_pleasant_weather  BELGRADE_pleasant_weather  \\\n",
       "0  19600101                       0                          0   \n",
       "1  19600102                       0                          0   \n",
       "2  19600103                       0                          0   \n",
       "3  19600104                       0                          0   \n",
       "4  19600105                       0                          0   \n",
       "\n",
       "   BUDAPEST_pleasant_weather  DEBILT_pleasant_weather  \\\n",
       "0                          0                        0   \n",
       "1                          0                        0   \n",
       "2                          0                        0   \n",
       "3                          0                        0   \n",
       "4                          0                        0   \n",
       "\n",
       "   DUSSELDORF_pleasant_weather  HEATHROW_pleasant_weather  \\\n",
       "0                            0                          0   \n",
       "1                            0                          0   \n",
       "2                            0                          0   \n",
       "3                            0                          0   \n",
       "4                            0                          0   \n",
       "\n",
       "   KASSEL_pleasant_weather  LJUBLJANA_pleasant_weather  \\\n",
       "0                        0                           0   \n",
       "1                        0                           0   \n",
       "2                        0                           0   \n",
       "3                        0                           0   \n",
       "4                        0                           0   \n",
       "\n",
       "   MAASTRICHT_pleasant_weather  MADRID_pleasant_weather  \\\n",
       "0                            0                        0   \n",
       "1                            0                        0   \n",
       "2                            0                        0   \n",
       "3                            0                        0   \n",
       "4                            0                        0   \n",
       "\n",
       "   MUNCHENB_pleasant_weather  OSLO_pleasant_weather  \\\n",
       "0                          0                      0   \n",
       "1                          0                      0   \n",
       "2                          0                      0   \n",
       "3                          0                      0   \n",
       "4                          0                      0   \n",
       "\n",
       "   SONNBLICK_pleasant_weather  STOCKHOLM_pleasant_weather  \\\n",
       "0                           0                           0   \n",
       "1                           0                           0   \n",
       "2                           0                           0   \n",
       "3                           0                           0   \n",
       "4                           0                           0   \n",
       "\n",
       "   VALENTIA_pleasant_weather  \n",
       "0                          0  \n",
       "1                          0  \n",
       "2                          0  \n",
       "3                          0  \n",
       "4                          0  "
      ]
     },
     "execution_count": 25,
     "metadata": {},
     "output_type": "execute_result"
    }
   ],
   "source": [
    "pleasant_weather.head()"
   ]
  },
  {
   "cell_type": "code",
   "execution_count": 27,
   "id": "cbc7332c-cad4-4166-8d8f-bdc2be36d906",
   "metadata": {},
   "outputs": [
    {
     "data": {
      "text/plain": [
       "(22950, 170)"
      ]
     },
     "execution_count": 27,
     "metadata": {},
     "output_type": "execute_result"
    }
   ],
   "source": [
    "climatewins_original.shape"
   ]
  },
  {
   "cell_type": "code",
   "execution_count": 29,
   "id": "a68f299b-131f-49d5-a2e6-c0422728d7d4",
   "metadata": {},
   "outputs": [
    {
     "data": {
      "text/plain": [
       "(22950, 16)"
      ]
     },
     "execution_count": 29,
     "metadata": {},
     "output_type": "execute_result"
    }
   ],
   "source": [
    "pleasant_weather.shape"
   ]
  },
  {
   "cell_type": "code",
   "execution_count": 31,
   "id": "197bbd52-bb9f-457e-bb0a-73aec90ede23",
   "metadata": {},
   "outputs": [],
   "source": [
    "# Checking missing values, duplicats and comparing columns by list."
   ]
  },
  {
   "cell_type": "code",
   "execution_count": 33,
   "id": "42bc8586-df29-4d91-8a2a-acbae60cb5fb",
   "metadata": {},
   "outputs": [],
   "source": [
    "missing_values_climate = climatewins_original.isnull().sum()"
   ]
  },
  {
   "cell_type": "code",
   "execution_count": 35,
   "id": "2e67f61e-2ef5-4114-ae86-63c34a32d1dc",
   "metadata": {},
   "outputs": [
    {
     "name": "stdout",
     "output_type": "stream",
     "text": [
      "DATE                   0\n",
      "MONTH                  0\n",
      "BASEL_cloud_cover      0\n",
      "BASEL_wind_speed       0\n",
      "BASEL_humidity         0\n",
      "                      ..\n",
      "VALENTIA_snow_depth    0\n",
      "VALENTIA_sunshine      0\n",
      "VALENTIA_temp_mean     0\n",
      "VALENTIA_temp_min      0\n",
      "VALENTIA_temp_max      0\n",
      "Length: 170, dtype: int64\n"
     ]
    }
   ],
   "source": [
    "print(missing_values_climate)"
   ]
  },
  {
   "cell_type": "code",
   "execution_count": 37,
   "id": "d72697f3-bf10-4a45-965d-00f7b0b5dc6b",
   "metadata": {},
   "outputs": [],
   "source": [
    "missing_values_pleasant = pleasant_weather.isnull().sum()"
   ]
  },
  {
   "cell_type": "code",
   "execution_count": 39,
   "id": "27cc8a15-7e4b-4a38-bc7e-daab04c9c716",
   "metadata": {},
   "outputs": [
    {
     "name": "stdout",
     "output_type": "stream",
     "text": [
      "DATE                           0\n",
      "BASEL_pleasant_weather         0\n",
      "BELGRADE_pleasant_weather      0\n",
      "BUDAPEST_pleasant_weather      0\n",
      "DEBILT_pleasant_weather        0\n",
      "DUSSELDORF_pleasant_weather    0\n",
      "HEATHROW_pleasant_weather      0\n",
      "KASSEL_pleasant_weather        0\n",
      "LJUBLJANA_pleasant_weather     0\n",
      "MAASTRICHT_pleasant_weather    0\n",
      "MADRID_pleasant_weather        0\n",
      "MUNCHENB_pleasant_weather      0\n",
      "OSLO_pleasant_weather          0\n",
      "SONNBLICK_pleasant_weather     0\n",
      "STOCKHOLM_pleasant_weather     0\n",
      "VALENTIA_pleasant_weather      0\n",
      "dtype: int64\n"
     ]
    }
   ],
   "source": [
    "print(missing_values_pleasant)"
   ]
  },
  {
   "cell_type": "code",
   "execution_count": 41,
   "id": "c94f0d55-9e9d-4df0-aceb-864fbd518e99",
   "metadata": {},
   "outputs": [],
   "source": [
    "climate_dups = climatewins_original[climatewins_original.duplicated()]"
   ]
  },
  {
   "cell_type": "code",
   "execution_count": 43,
   "id": "f62dc49f-98a9-45f6-8462-c5ad7cd1fdf2",
   "metadata": {},
   "outputs": [
    {
     "data": {
      "text/html": [
       "<div>\n",
       "<style scoped>\n",
       "    .dataframe tbody tr th:only-of-type {\n",
       "        vertical-align: middle;\n",
       "    }\n",
       "\n",
       "    .dataframe tbody tr th {\n",
       "        vertical-align: top;\n",
       "    }\n",
       "\n",
       "    .dataframe thead th {\n",
       "        text-align: right;\n",
       "    }\n",
       "</style>\n",
       "<table border=\"1\" class=\"dataframe\">\n",
       "  <thead>\n",
       "    <tr style=\"text-align: right;\">\n",
       "      <th></th>\n",
       "      <th>DATE</th>\n",
       "      <th>MONTH</th>\n",
       "      <th>BASEL_cloud_cover</th>\n",
       "      <th>BASEL_wind_speed</th>\n",
       "      <th>BASEL_humidity</th>\n",
       "      <th>BASEL_pressure</th>\n",
       "      <th>BASEL_global_radiation</th>\n",
       "      <th>BASEL_precipitation</th>\n",
       "      <th>BASEL_snow_depth</th>\n",
       "      <th>BASEL_sunshine</th>\n",
       "      <th>...</th>\n",
       "      <th>VALENTIA_cloud_cover</th>\n",
       "      <th>VALENTIA_humidity</th>\n",
       "      <th>VALENTIA_pressure</th>\n",
       "      <th>VALENTIA_global_radiation</th>\n",
       "      <th>VALENTIA_precipitation</th>\n",
       "      <th>VALENTIA_snow_depth</th>\n",
       "      <th>VALENTIA_sunshine</th>\n",
       "      <th>VALENTIA_temp_mean</th>\n",
       "      <th>VALENTIA_temp_min</th>\n",
       "      <th>VALENTIA_temp_max</th>\n",
       "    </tr>\n",
       "  </thead>\n",
       "  <tbody>\n",
       "  </tbody>\n",
       "</table>\n",
       "<p>0 rows × 170 columns</p>\n",
       "</div>"
      ],
      "text/plain": [
       "Empty DataFrame\n",
       "Columns: [DATE, MONTH, BASEL_cloud_cover, BASEL_wind_speed, BASEL_humidity, BASEL_pressure, BASEL_global_radiation, BASEL_precipitation, BASEL_snow_depth, BASEL_sunshine, BASEL_temp_mean, BASEL_temp_min, BASEL_temp_max, BELGRADE_cloud_cover, BELGRADE_humidity, BELGRADE_pressure, BELGRADE_global_radiation, BELGRADE_precipitation, BELGRADE_sunshine, BELGRADE_temp_mean, BELGRADE_temp_min, BELGRADE_temp_max, BUDAPEST_cloud_cover, BUDAPEST_humidity, BUDAPEST_pressure, BUDAPEST_global_radiation, BUDAPEST_precipitation, BUDAPEST_sunshine, BUDAPEST_temp_mean, BUDAPEST_temp_min, BUDAPEST_temp_max, DEBILT_cloud_cover, DEBILT_wind_speed, DEBILT_humidity, DEBILT_pressure, DEBILT_global_radiation, DEBILT_precipitation, DEBILT_sunshine, DEBILT_temp_mean, DEBILT_temp_min, DEBILT_temp_max, DUSSELDORF_cloud_cover, DUSSELDORF_wind_speed, DUSSELDORF_humidity, DUSSELDORF_pressure, DUSSELDORF_global_radiation, DUSSELDORF_precipitation, DUSSELDORF_snow_depth, DUSSELDORF_sunshine, DUSSELDORF_temp_mean, DUSSELDORF_temp_min, DUSSELDORF_temp_max, GDANSK_cloud_cover, GDANSK_humidity, GDANSK_precipitation, GDANSK_snow_depth, GDANSK_temp_mean, GDANSK_temp_min, GDANSK_temp_max, HEATHROW_cloud_cover, HEATHROW_humidity, HEATHROW_pressure, HEATHROW_global_radiation, HEATHROW_precipitation, HEATHROW_snow_depth, HEATHROW_sunshine, HEATHROW_temp_mean, HEATHROW_temp_min, HEATHROW_temp_max, KASSEL_wind_speed, KASSEL_humidity, KASSEL_pressure, KASSEL_global_radiation, KASSEL_precipitation, KASSEL_sunshine, KASSEL_temp_mean, KASSEL_temp_min, KASSEL_temp_max, LJUBLJANA_cloud_cover, LJUBLJANA_wind_speed, LJUBLJANA_humidity, LJUBLJANA_pressure, LJUBLJANA_global_radiation, LJUBLJANA_precipitation, LJUBLJANA_sunshine, LJUBLJANA_temp_mean, LJUBLJANA_temp_min, LJUBLJANA_temp_max, MAASTRICHT_cloud_cover, MAASTRICHT_wind_speed, MAASTRICHT_humidity, MAASTRICHT_pressure, MAASTRICHT_global_radiation, MAASTRICHT_precipitation, MAASTRICHT_sunshine, MAASTRICHT_temp_mean, MAASTRICHT_temp_min, MAASTRICHT_temp_max, MADRID_cloud_cover, MADRID_wind_speed, ...]\n",
       "Index: []\n",
       "\n",
       "[0 rows x 170 columns]"
      ]
     },
     "execution_count": 43,
     "metadata": {},
     "output_type": "execute_result"
    }
   ],
   "source": [
    "climate_dups"
   ]
  },
  {
   "cell_type": "code",
   "execution_count": 45,
   "id": "e4135801-f7de-4353-8ea7-8f08cb12abf2",
   "metadata": {},
   "outputs": [],
   "source": [
    "pleasant_dups = pleasant_weather[pleasant_weather.duplicated()]"
   ]
  },
  {
   "cell_type": "code",
   "execution_count": 47,
   "id": "30df1829-3d31-4634-a9a9-e4d6ccb119e1",
   "metadata": {},
   "outputs": [
    {
     "data": {
      "text/html": [
       "<div>\n",
       "<style scoped>\n",
       "    .dataframe tbody tr th:only-of-type {\n",
       "        vertical-align: middle;\n",
       "    }\n",
       "\n",
       "    .dataframe tbody tr th {\n",
       "        vertical-align: top;\n",
       "    }\n",
       "\n",
       "    .dataframe thead th {\n",
       "        text-align: right;\n",
       "    }\n",
       "</style>\n",
       "<table border=\"1\" class=\"dataframe\">\n",
       "  <thead>\n",
       "    <tr style=\"text-align: right;\">\n",
       "      <th></th>\n",
       "      <th>DATE</th>\n",
       "      <th>BASEL_pleasant_weather</th>\n",
       "      <th>BELGRADE_pleasant_weather</th>\n",
       "      <th>BUDAPEST_pleasant_weather</th>\n",
       "      <th>DEBILT_pleasant_weather</th>\n",
       "      <th>DUSSELDORF_pleasant_weather</th>\n",
       "      <th>HEATHROW_pleasant_weather</th>\n",
       "      <th>KASSEL_pleasant_weather</th>\n",
       "      <th>LJUBLJANA_pleasant_weather</th>\n",
       "      <th>MAASTRICHT_pleasant_weather</th>\n",
       "      <th>MADRID_pleasant_weather</th>\n",
       "      <th>MUNCHENB_pleasant_weather</th>\n",
       "      <th>OSLO_pleasant_weather</th>\n",
       "      <th>SONNBLICK_pleasant_weather</th>\n",
       "      <th>STOCKHOLM_pleasant_weather</th>\n",
       "      <th>VALENTIA_pleasant_weather</th>\n",
       "    </tr>\n",
       "  </thead>\n",
       "  <tbody>\n",
       "  </tbody>\n",
       "</table>\n",
       "</div>"
      ],
      "text/plain": [
       "Empty DataFrame\n",
       "Columns: [DATE, BASEL_pleasant_weather, BELGRADE_pleasant_weather, BUDAPEST_pleasant_weather, DEBILT_pleasant_weather, DUSSELDORF_pleasant_weather, HEATHROW_pleasant_weather, KASSEL_pleasant_weather, LJUBLJANA_pleasant_weather, MAASTRICHT_pleasant_weather, MADRID_pleasant_weather, MUNCHENB_pleasant_weather, OSLO_pleasant_weather, SONNBLICK_pleasant_weather, STOCKHOLM_pleasant_weather, VALENTIA_pleasant_weather]\n",
       "Index: []"
      ]
     },
     "execution_count": 47,
     "metadata": {},
     "output_type": "execute_result"
    }
   ],
   "source": [
    "pleasant_dups"
   ]
  },
  {
   "cell_type": "code",
   "execution_count": 49,
   "id": "8df58a72-4d12-45ce-98bb-ae8345d62b69",
   "metadata": {},
   "outputs": [],
   "source": [
    "climate_list = climatewins_original.columns.tolist()"
   ]
  },
  {
   "cell_type": "code",
   "execution_count": 51,
   "id": "338916e9-5d91-4179-b2d7-8ee6eac5aa6d",
   "metadata": {
    "scrolled": true
   },
   "outputs": [
    {
     "data": {
      "text/plain": [
       "['DATE',\n",
       " 'MONTH',\n",
       " 'BASEL_cloud_cover',\n",
       " 'BASEL_wind_speed',\n",
       " 'BASEL_humidity',\n",
       " 'BASEL_pressure',\n",
       " 'BASEL_global_radiation',\n",
       " 'BASEL_precipitation',\n",
       " 'BASEL_snow_depth',\n",
       " 'BASEL_sunshine',\n",
       " 'BASEL_temp_mean',\n",
       " 'BASEL_temp_min',\n",
       " 'BASEL_temp_max',\n",
       " 'BELGRADE_cloud_cover',\n",
       " 'BELGRADE_humidity',\n",
       " 'BELGRADE_pressure',\n",
       " 'BELGRADE_global_radiation',\n",
       " 'BELGRADE_precipitation',\n",
       " 'BELGRADE_sunshine',\n",
       " 'BELGRADE_temp_mean',\n",
       " 'BELGRADE_temp_min',\n",
       " 'BELGRADE_temp_max',\n",
       " 'BUDAPEST_cloud_cover',\n",
       " 'BUDAPEST_humidity',\n",
       " 'BUDAPEST_pressure',\n",
       " 'BUDAPEST_global_radiation',\n",
       " 'BUDAPEST_precipitation',\n",
       " 'BUDAPEST_sunshine',\n",
       " 'BUDAPEST_temp_mean',\n",
       " 'BUDAPEST_temp_min',\n",
       " 'BUDAPEST_temp_max',\n",
       " 'DEBILT_cloud_cover',\n",
       " 'DEBILT_wind_speed',\n",
       " 'DEBILT_humidity',\n",
       " 'DEBILT_pressure',\n",
       " 'DEBILT_global_radiation',\n",
       " 'DEBILT_precipitation',\n",
       " 'DEBILT_sunshine',\n",
       " 'DEBILT_temp_mean',\n",
       " 'DEBILT_temp_min',\n",
       " 'DEBILT_temp_max',\n",
       " 'DUSSELDORF_cloud_cover',\n",
       " 'DUSSELDORF_wind_speed',\n",
       " 'DUSSELDORF_humidity',\n",
       " 'DUSSELDORF_pressure',\n",
       " 'DUSSELDORF_global_radiation',\n",
       " 'DUSSELDORF_precipitation',\n",
       " 'DUSSELDORF_snow_depth',\n",
       " 'DUSSELDORF_sunshine',\n",
       " 'DUSSELDORF_temp_mean',\n",
       " 'DUSSELDORF_temp_min',\n",
       " 'DUSSELDORF_temp_max',\n",
       " 'GDANSK_cloud_cover',\n",
       " 'GDANSK_humidity',\n",
       " 'GDANSK_precipitation',\n",
       " 'GDANSK_snow_depth',\n",
       " 'GDANSK_temp_mean',\n",
       " 'GDANSK_temp_min',\n",
       " 'GDANSK_temp_max',\n",
       " 'HEATHROW_cloud_cover',\n",
       " 'HEATHROW_humidity',\n",
       " 'HEATHROW_pressure',\n",
       " 'HEATHROW_global_radiation',\n",
       " 'HEATHROW_precipitation',\n",
       " 'HEATHROW_snow_depth',\n",
       " 'HEATHROW_sunshine',\n",
       " 'HEATHROW_temp_mean',\n",
       " 'HEATHROW_temp_min',\n",
       " 'HEATHROW_temp_max',\n",
       " 'KASSEL_wind_speed',\n",
       " 'KASSEL_humidity',\n",
       " 'KASSEL_pressure',\n",
       " 'KASSEL_global_radiation',\n",
       " 'KASSEL_precipitation',\n",
       " 'KASSEL_sunshine',\n",
       " 'KASSEL_temp_mean',\n",
       " 'KASSEL_temp_min',\n",
       " 'KASSEL_temp_max',\n",
       " 'LJUBLJANA_cloud_cover',\n",
       " 'LJUBLJANA_wind_speed',\n",
       " 'LJUBLJANA_humidity',\n",
       " 'LJUBLJANA_pressure',\n",
       " 'LJUBLJANA_global_radiation',\n",
       " 'LJUBLJANA_precipitation',\n",
       " 'LJUBLJANA_sunshine',\n",
       " 'LJUBLJANA_temp_mean',\n",
       " 'LJUBLJANA_temp_min',\n",
       " 'LJUBLJANA_temp_max',\n",
       " 'MAASTRICHT_cloud_cover',\n",
       " 'MAASTRICHT_wind_speed',\n",
       " 'MAASTRICHT_humidity',\n",
       " 'MAASTRICHT_pressure',\n",
       " 'MAASTRICHT_global_radiation',\n",
       " 'MAASTRICHT_precipitation',\n",
       " 'MAASTRICHT_sunshine',\n",
       " 'MAASTRICHT_temp_mean',\n",
       " 'MAASTRICHT_temp_min',\n",
       " 'MAASTRICHT_temp_max',\n",
       " 'MADRID_cloud_cover',\n",
       " 'MADRID_wind_speed',\n",
       " 'MADRID_humidity',\n",
       " 'MADRID_pressure',\n",
       " 'MADRID_global_radiation',\n",
       " 'MADRID_precipitation',\n",
       " 'MADRID_sunshine',\n",
       " 'MADRID_temp_mean',\n",
       " 'MADRID_temp_min',\n",
       " 'MADRID_temp_max',\n",
       " 'MUNCHENB_cloud_cover',\n",
       " 'MUNCHENB_humidity',\n",
       " 'MUNCHENB_global_radiation',\n",
       " 'MUNCHENB_precipitation',\n",
       " 'MUNCHENB_snow_depth',\n",
       " 'MUNCHENB_sunshine',\n",
       " 'MUNCHENB_temp_mean',\n",
       " 'MUNCHENB_temp_min',\n",
       " 'MUNCHENB_temp_max',\n",
       " 'OSLO_cloud_cover',\n",
       " 'OSLO_wind_speed',\n",
       " 'OSLO_humidity',\n",
       " 'OSLO_pressure',\n",
       " 'OSLO_global_radiation',\n",
       " 'OSLO_precipitation',\n",
       " 'OSLO_snow_depth',\n",
       " 'OSLO_sunshine',\n",
       " 'OSLO_temp_mean',\n",
       " 'OSLO_temp_min',\n",
       " 'OSLO_temp_max',\n",
       " 'ROMA_cloud_cover',\n",
       " 'ROMA_wind_speed',\n",
       " 'ROMA_humidity',\n",
       " 'ROMA_pressure',\n",
       " 'ROMA_sunshine',\n",
       " 'ROMA_temp_mean',\n",
       " 'SONNBLICK_cloud_cover',\n",
       " 'SONNBLICK_wind_speed',\n",
       " 'SONNBLICK_humidity',\n",
       " 'SONNBLICK_pressure',\n",
       " 'SONNBLICK_global_radiation',\n",
       " 'SONNBLICK_precipitation',\n",
       " 'SONNBLICK_sunshine',\n",
       " 'SONNBLICK_temp_mean',\n",
       " 'SONNBLICK_temp_min',\n",
       " 'SONNBLICK_temp_max',\n",
       " 'STOCKHOLM_cloud_cover',\n",
       " 'STOCKHOLM_pressure',\n",
       " 'STOCKHOLM_global_radiation',\n",
       " 'STOCKHOLM_precipitation',\n",
       " 'STOCKHOLM_sunshine',\n",
       " 'STOCKHOLM_temp_mean',\n",
       " 'STOCKHOLM_temp_min',\n",
       " 'STOCKHOLM_temp_max',\n",
       " 'TOURS_wind_speed',\n",
       " 'TOURS_humidity',\n",
       " 'TOURS_pressure',\n",
       " 'TOURS_global_radiation',\n",
       " 'TOURS_precipitation',\n",
       " 'TOURS_temp_mean',\n",
       " 'TOURS_temp_min',\n",
       " 'TOURS_temp_max',\n",
       " 'VALENTIA_cloud_cover',\n",
       " 'VALENTIA_humidity',\n",
       " 'VALENTIA_pressure',\n",
       " 'VALENTIA_global_radiation',\n",
       " 'VALENTIA_precipitation',\n",
       " 'VALENTIA_snow_depth',\n",
       " 'VALENTIA_sunshine',\n",
       " 'VALENTIA_temp_mean',\n",
       " 'VALENTIA_temp_min',\n",
       " 'VALENTIA_temp_max']"
      ]
     },
     "execution_count": 51,
     "metadata": {},
     "output_type": "execute_result"
    }
   ],
   "source": [
    "climate_list"
   ]
  },
  {
   "cell_type": "code",
   "execution_count": 53,
   "id": "a5611f15-13bd-408e-852b-e40616531ddb",
   "metadata": {},
   "outputs": [],
   "source": [
    "pleasant_list = pleasant_weather.columns.tolist()"
   ]
  },
  {
   "cell_type": "code",
   "execution_count": 55,
   "id": "f0c72d83-6b4c-4058-8397-474b02b2a272",
   "metadata": {},
   "outputs": [
    {
     "data": {
      "text/plain": [
       "['DATE',\n",
       " 'BASEL_pleasant_weather',\n",
       " 'BELGRADE_pleasant_weather',\n",
       " 'BUDAPEST_pleasant_weather',\n",
       " 'DEBILT_pleasant_weather',\n",
       " 'DUSSELDORF_pleasant_weather',\n",
       " 'HEATHROW_pleasant_weather',\n",
       " 'KASSEL_pleasant_weather',\n",
       " 'LJUBLJANA_pleasant_weather',\n",
       " 'MAASTRICHT_pleasant_weather',\n",
       " 'MADRID_pleasant_weather',\n",
       " 'MUNCHENB_pleasant_weather',\n",
       " 'OSLO_pleasant_weather',\n",
       " 'SONNBLICK_pleasant_weather',\n",
       " 'STOCKHOLM_pleasant_weather',\n",
       " 'VALENTIA_pleasant_weather']"
      ]
     },
     "execution_count": 55,
     "metadata": {},
     "output_type": "execute_result"
    }
   ],
   "source": [
    "pleasant_list"
   ]
  },
  {
   "cell_type": "markdown",
   "id": "38c0aacf-c50c-4f20-8d11-5d1fa97554a4",
   "metadata": {},
   "source": [
    "##### There are no missing values nor duplicates detected. When looking at the list for the pleasant weather data set it's missing GDANSK, ROMA and TOURS. These three weather stations will be dropped from the Climatewins data set. Further exploration determined that BELGRADE, BUDAPEST, HEARTHROM, MUNCHENB, STOCKHOLM AND VALENTIA (6) locations are missing the winds_speed observation and BELGRADE, BUDAPEST, DEBILT, KASSEL, LJUBLJANA, MAASTRICHT, MADRID, SONNBLICK AND STOCKHOLM (9) weather stations are missing the snow_depth observation. The columns for wind_speed and snow_depth will be removed for all weather stations. Additionally  KASSEL is missing the cloud_cover observation, MUNCHENB is missing the humidity observation and STOCKHOLM is missing the pressure observation. These missing observation will be substituded with their closest weather station: LJUBLJANA subs for KASSEL, SONNBLICK subs for MUNCHENB, and OSLO subs for STOCKHOLM. These findings will leave the data with 15 weather stations with 9 weather observations."
   ]
  },
  {
   "cell_type": "markdown",
   "id": "7f7019a2-63f5-450d-b0ae-8f33c2e6c9f6",
   "metadata": {},
   "source": [
    "#### Dropping Columns       "
   ]
  },
  {
   "cell_type": "code",
   "execution_count": 59,
   "id": "869d3eeb-70eb-40ee-b8ed-1319460306d1",
   "metadata": {},
   "outputs": [],
   "source": [
    "# Dropping DATE, MONTH, three Weather stations, and two weather observations from each weather station."
   ]
  },
  {
   "cell_type": "code",
   "execution_count": 61,
   "id": "2f0bd64f-08cb-4512-9b4d-b4dca371c0b0",
   "metadata": {},
   "outputs": [],
   "source": [
    "climatewins_drops = climatewins_original.drop(columns=['DATE',\n",
    " 'MONTH',\n",
    " 'BASEL_wind_speed',\n",
    " 'BASEL_snow_depth',\n",
    " 'DEBILT_wind_speed',\n",
    " 'DUSSELDORF_wind_speed',\n",
    " 'DUSSELDORF_snow_depth',\n",
    " 'HEATHROW_snow_depth',\n",
    " 'KASSEL_wind_speed',\n",
    " 'LJUBLJANA_wind_speed',\n",
    " 'MAASTRICHT_wind_speed',\n",
    " 'MADRID_wind_speed',\n",
    " 'MUNCHENB_snow_depth',\n",
    " 'OSLO_wind_speed',\n",
    " 'OSLO_snow_depth',\n",
    " 'SONNBLICK_wind_speed',\n",
    " 'VALENTIA_snow_depth', \n",
    " 'TOURS_wind_speed',\n",
    " 'TOURS_humidity',\n",
    " 'TOURS_pressure',\n",
    " 'TOURS_global_radiation',\n",
    " 'TOURS_precipitation',\n",
    " 'TOURS_temp_mean',\n",
    " 'TOURS_temp_min',\n",
    " 'TOURS_temp_max',\n",
    " 'ROMA_cloud_cover',\n",
    " 'ROMA_wind_speed',\n",
    " 'ROMA_humidity',\n",
    " 'ROMA_pressure',\n",
    " 'ROMA_sunshine',\n",
    " 'ROMA_temp_mean',\n",
    " 'GDANSK_cloud_cover',\n",
    " 'GDANSK_humidity',\n",
    " 'GDANSK_precipitation',\n",
    " 'GDANSK_snow_depth',\n",
    " 'GDANSK_temp_mean',\n",
    " 'GDANSK_temp_min',\n",
    " 'GDANSK_temp_max',])"
   ]
  },
  {
   "cell_type": "code",
   "execution_count": 63,
   "id": "0b2c5fe8-3d1d-4296-8158-b1009429e3be",
   "metadata": {},
   "outputs": [],
   "source": [
    "pleasant_drops = pleasant_weather.drop(columns=['DATE'])"
   ]
  },
  {
   "cell_type": "code",
   "execution_count": 65,
   "id": "bd6a8d3d-d8ec-4022-9703-6d58cdb688e3",
   "metadata": {},
   "outputs": [
    {
     "data": {
      "text/plain": [
       "(22950, 132)"
      ]
     },
     "execution_count": 65,
     "metadata": {},
     "output_type": "execute_result"
    }
   ],
   "source": [
    "climatewins_drops.shape"
   ]
  },
  {
   "cell_type": "code",
   "execution_count": 67,
   "id": "9ee77094-86ba-428f-bd3f-ad5151d5bf3c",
   "metadata": {},
   "outputs": [
    {
     "data": {
      "text/plain": [
       "(22950, 15)"
      ]
     },
     "execution_count": 67,
     "metadata": {},
     "output_type": "execute_result"
    }
   ],
   "source": [
    "pleasant_drops.shape"
   ]
  },
  {
   "cell_type": "markdown",
   "id": "af9905f2-4fe3-45da-b3fa-e8bd1beb5ac2",
   "metadata": {},
   "source": [
    "#### Fill in three observations with local data within the dataset for climatewins_d"
   ]
  },
  {
   "cell_type": "code",
   "execution_count": 70,
   "id": "78676276-708a-4b65-98d6-bba576b3bab9",
   "metadata": {},
   "outputs": [],
   "source": [
    "# KASSEL is missing the cloud_cover observation, LJUBLJANA subs for KASSEL.\n",
    "\n",
    "climatewins_drops['LJUBLJANA_cloud_cover_KASSEL'] = climatewins_drops['LJUBLJANA_cloud_cover']"
   ]
  },
  {
   "cell_type": "code",
   "execution_count": 72,
   "id": "fa6f9d08-364b-4b27-9462-1f41fadae2ac",
   "metadata": {},
   "outputs": [],
   "source": [
    "# MUNCHENB is missing the pressure observation, SONNBLICK subs for MUNCHENB.\n",
    "\n",
    "climatewins_drops['SONNBLICK_pressure_MUNCHENB'] = climatewins_drops['SONNBLICK_pressure']"
   ]
  },
  {
   "cell_type": "code",
   "execution_count": 74,
   "id": "4ea1bfd6-ddde-4afc-8df0-6ba5e3953791",
   "metadata": {},
   "outputs": [],
   "source": [
    "# STOCKHOLM is missing the humidity observation, OSLO subs for STOCKHOLM.\n",
    "\n",
    "climatewins_drops['OSLO_humidity_STOCKHOLM'] = climatewins_drops['OSLO_humidity']"
   ]
  },
  {
   "cell_type": "code",
   "execution_count": 76,
   "id": "3d5017d9-d839-4ee1-ab0c-f2a2a2daa212",
   "metadata": {},
   "outputs": [
    {
     "data": {
      "text/plain": [
       "(22950, 135)"
      ]
     },
     "execution_count": 76,
     "metadata": {},
     "output_type": "execute_result"
    }
   ],
   "source": [
    "climatewins_drops.shape"
   ]
  },
  {
   "cell_type": "code",
   "execution_count": 78,
   "id": "3e2d9332-992c-41f3-92e3-2cd08e2bb161",
   "metadata": {},
   "outputs": [],
   "source": [
    "climatewins_drops_list = climatewins_drops.columns.tolist()"
   ]
  },
  {
   "cell_type": "code",
   "execution_count": 80,
   "id": "e041ae22-cbe0-42f8-935e-42c969e07156",
   "metadata": {
    "scrolled": true
   },
   "outputs": [
    {
     "data": {
      "text/plain": [
       "['BASEL_cloud_cover',\n",
       " 'BASEL_humidity',\n",
       " 'BASEL_pressure',\n",
       " 'BASEL_global_radiation',\n",
       " 'BASEL_precipitation',\n",
       " 'BASEL_sunshine',\n",
       " 'BASEL_temp_mean',\n",
       " 'BASEL_temp_min',\n",
       " 'BASEL_temp_max',\n",
       " 'BELGRADE_cloud_cover',\n",
       " 'BELGRADE_humidity',\n",
       " 'BELGRADE_pressure',\n",
       " 'BELGRADE_global_radiation',\n",
       " 'BELGRADE_precipitation',\n",
       " 'BELGRADE_sunshine',\n",
       " 'BELGRADE_temp_mean',\n",
       " 'BELGRADE_temp_min',\n",
       " 'BELGRADE_temp_max',\n",
       " 'BUDAPEST_cloud_cover',\n",
       " 'BUDAPEST_humidity',\n",
       " 'BUDAPEST_pressure',\n",
       " 'BUDAPEST_global_radiation',\n",
       " 'BUDAPEST_precipitation',\n",
       " 'BUDAPEST_sunshine',\n",
       " 'BUDAPEST_temp_mean',\n",
       " 'BUDAPEST_temp_min',\n",
       " 'BUDAPEST_temp_max',\n",
       " 'DEBILT_cloud_cover',\n",
       " 'DEBILT_humidity',\n",
       " 'DEBILT_pressure',\n",
       " 'DEBILT_global_radiation',\n",
       " 'DEBILT_precipitation',\n",
       " 'DEBILT_sunshine',\n",
       " 'DEBILT_temp_mean',\n",
       " 'DEBILT_temp_min',\n",
       " 'DEBILT_temp_max',\n",
       " 'DUSSELDORF_cloud_cover',\n",
       " 'DUSSELDORF_humidity',\n",
       " 'DUSSELDORF_pressure',\n",
       " 'DUSSELDORF_global_radiation',\n",
       " 'DUSSELDORF_precipitation',\n",
       " 'DUSSELDORF_sunshine',\n",
       " 'DUSSELDORF_temp_mean',\n",
       " 'DUSSELDORF_temp_min',\n",
       " 'DUSSELDORF_temp_max',\n",
       " 'HEATHROW_cloud_cover',\n",
       " 'HEATHROW_humidity',\n",
       " 'HEATHROW_pressure',\n",
       " 'HEATHROW_global_radiation',\n",
       " 'HEATHROW_precipitation',\n",
       " 'HEATHROW_sunshine',\n",
       " 'HEATHROW_temp_mean',\n",
       " 'HEATHROW_temp_min',\n",
       " 'HEATHROW_temp_max',\n",
       " 'KASSEL_humidity',\n",
       " 'KASSEL_pressure',\n",
       " 'KASSEL_global_radiation',\n",
       " 'KASSEL_precipitation',\n",
       " 'KASSEL_sunshine',\n",
       " 'KASSEL_temp_mean',\n",
       " 'KASSEL_temp_min',\n",
       " 'KASSEL_temp_max',\n",
       " 'LJUBLJANA_cloud_cover',\n",
       " 'LJUBLJANA_humidity',\n",
       " 'LJUBLJANA_pressure',\n",
       " 'LJUBLJANA_global_radiation',\n",
       " 'LJUBLJANA_precipitation',\n",
       " 'LJUBLJANA_sunshine',\n",
       " 'LJUBLJANA_temp_mean',\n",
       " 'LJUBLJANA_temp_min',\n",
       " 'LJUBLJANA_temp_max',\n",
       " 'MAASTRICHT_cloud_cover',\n",
       " 'MAASTRICHT_humidity',\n",
       " 'MAASTRICHT_pressure',\n",
       " 'MAASTRICHT_global_radiation',\n",
       " 'MAASTRICHT_precipitation',\n",
       " 'MAASTRICHT_sunshine',\n",
       " 'MAASTRICHT_temp_mean',\n",
       " 'MAASTRICHT_temp_min',\n",
       " 'MAASTRICHT_temp_max',\n",
       " 'MADRID_cloud_cover',\n",
       " 'MADRID_humidity',\n",
       " 'MADRID_pressure',\n",
       " 'MADRID_global_radiation',\n",
       " 'MADRID_precipitation',\n",
       " 'MADRID_sunshine',\n",
       " 'MADRID_temp_mean',\n",
       " 'MADRID_temp_min',\n",
       " 'MADRID_temp_max',\n",
       " 'MUNCHENB_cloud_cover',\n",
       " 'MUNCHENB_humidity',\n",
       " 'MUNCHENB_global_radiation',\n",
       " 'MUNCHENB_precipitation',\n",
       " 'MUNCHENB_sunshine',\n",
       " 'MUNCHENB_temp_mean',\n",
       " 'MUNCHENB_temp_min',\n",
       " 'MUNCHENB_temp_max',\n",
       " 'OSLO_cloud_cover',\n",
       " 'OSLO_humidity',\n",
       " 'OSLO_pressure',\n",
       " 'OSLO_global_radiation',\n",
       " 'OSLO_precipitation',\n",
       " 'OSLO_sunshine',\n",
       " 'OSLO_temp_mean',\n",
       " 'OSLO_temp_min',\n",
       " 'OSLO_temp_max',\n",
       " 'SONNBLICK_cloud_cover',\n",
       " 'SONNBLICK_humidity',\n",
       " 'SONNBLICK_pressure',\n",
       " 'SONNBLICK_global_radiation',\n",
       " 'SONNBLICK_precipitation',\n",
       " 'SONNBLICK_sunshine',\n",
       " 'SONNBLICK_temp_mean',\n",
       " 'SONNBLICK_temp_min',\n",
       " 'SONNBLICK_temp_max',\n",
       " 'STOCKHOLM_cloud_cover',\n",
       " 'STOCKHOLM_pressure',\n",
       " 'STOCKHOLM_global_radiation',\n",
       " 'STOCKHOLM_precipitation',\n",
       " 'STOCKHOLM_sunshine',\n",
       " 'STOCKHOLM_temp_mean',\n",
       " 'STOCKHOLM_temp_min',\n",
       " 'STOCKHOLM_temp_max',\n",
       " 'VALENTIA_cloud_cover',\n",
       " 'VALENTIA_humidity',\n",
       " 'VALENTIA_pressure',\n",
       " 'VALENTIA_global_radiation',\n",
       " 'VALENTIA_precipitation',\n",
       " 'VALENTIA_sunshine',\n",
       " 'VALENTIA_temp_mean',\n",
       " 'VALENTIA_temp_min',\n",
       " 'VALENTIA_temp_max',\n",
       " 'LJUBLJANA_cloud_cover_KASSEL',\n",
       " 'SONNBLICK_pressure_MUNCHENB',\n",
       " 'OSLO_humidity_STOCKHOLM']"
      ]
     },
     "execution_count": 80,
     "metadata": {},
     "output_type": "execute_result"
    }
   ],
   "source": [
    "climatewins_drops_list"
   ]
  },
  {
   "cell_type": "code",
   "execution_count": 82,
   "id": "d24ecadd-8529-4667-8409-2229ef1c2a57",
   "metadata": {},
   "outputs": [],
   "source": [
    "# Renaming column Kassel cloud cover\n",
    "\n",
    "climatewins_drops.rename(columns = {'LJUBLJANA_cloud_cover_KASSEL' : 'KASSEL_cloud_cover'}, inplace = True)"
   ]
  },
  {
   "cell_type": "code",
   "execution_count": 84,
   "id": "3c42bcd8-828a-49d2-bf32-37ca793e0cd7",
   "metadata": {},
   "outputs": [],
   "source": [
    "# Renaming column Munchenb pressure\n",
    "\n",
    "climatewins_drops.rename(columns = {'SONNBLICK_pressure_MUNCHENB' : 'MUNCHENB_pressure'}, inplace = True)"
   ]
  },
  {
   "cell_type": "code",
   "execution_count": 86,
   "id": "f701db0f-42c6-4188-8988-b4993aeac48d",
   "metadata": {},
   "outputs": [],
   "source": [
    "# Renaming column Stockholm humidity\n",
    "\n",
    "climatewins_drops.rename(columns = {'OSLO_humidity_STOCKHOLM' : 'STOCKHOLM_humidity'}, inplace = True)"
   ]
  },
  {
   "cell_type": "code",
   "execution_count": 88,
   "id": "045644f0-f475-45b2-9031-8e17773c862f",
   "metadata": {},
   "outputs": [],
   "source": [
    "climatewins_drops_rename = climatewins_drops.columns.tolist()"
   ]
  },
  {
   "cell_type": "code",
   "execution_count": 90,
   "id": "3f450a5a-b0f1-4388-8210-067f86a1c34b",
   "metadata": {
    "scrolled": true
   },
   "outputs": [
    {
     "data": {
      "text/plain": [
       "['BASEL_cloud_cover',\n",
       " 'BASEL_humidity',\n",
       " 'BASEL_pressure',\n",
       " 'BASEL_global_radiation',\n",
       " 'BASEL_precipitation',\n",
       " 'BASEL_sunshine',\n",
       " 'BASEL_temp_mean',\n",
       " 'BASEL_temp_min',\n",
       " 'BASEL_temp_max',\n",
       " 'BELGRADE_cloud_cover',\n",
       " 'BELGRADE_humidity',\n",
       " 'BELGRADE_pressure',\n",
       " 'BELGRADE_global_radiation',\n",
       " 'BELGRADE_precipitation',\n",
       " 'BELGRADE_sunshine',\n",
       " 'BELGRADE_temp_mean',\n",
       " 'BELGRADE_temp_min',\n",
       " 'BELGRADE_temp_max',\n",
       " 'BUDAPEST_cloud_cover',\n",
       " 'BUDAPEST_humidity',\n",
       " 'BUDAPEST_pressure',\n",
       " 'BUDAPEST_global_radiation',\n",
       " 'BUDAPEST_precipitation',\n",
       " 'BUDAPEST_sunshine',\n",
       " 'BUDAPEST_temp_mean',\n",
       " 'BUDAPEST_temp_min',\n",
       " 'BUDAPEST_temp_max',\n",
       " 'DEBILT_cloud_cover',\n",
       " 'DEBILT_humidity',\n",
       " 'DEBILT_pressure',\n",
       " 'DEBILT_global_radiation',\n",
       " 'DEBILT_precipitation',\n",
       " 'DEBILT_sunshine',\n",
       " 'DEBILT_temp_mean',\n",
       " 'DEBILT_temp_min',\n",
       " 'DEBILT_temp_max',\n",
       " 'DUSSELDORF_cloud_cover',\n",
       " 'DUSSELDORF_humidity',\n",
       " 'DUSSELDORF_pressure',\n",
       " 'DUSSELDORF_global_radiation',\n",
       " 'DUSSELDORF_precipitation',\n",
       " 'DUSSELDORF_sunshine',\n",
       " 'DUSSELDORF_temp_mean',\n",
       " 'DUSSELDORF_temp_min',\n",
       " 'DUSSELDORF_temp_max',\n",
       " 'HEATHROW_cloud_cover',\n",
       " 'HEATHROW_humidity',\n",
       " 'HEATHROW_pressure',\n",
       " 'HEATHROW_global_radiation',\n",
       " 'HEATHROW_precipitation',\n",
       " 'HEATHROW_sunshine',\n",
       " 'HEATHROW_temp_mean',\n",
       " 'HEATHROW_temp_min',\n",
       " 'HEATHROW_temp_max',\n",
       " 'KASSEL_humidity',\n",
       " 'KASSEL_pressure',\n",
       " 'KASSEL_global_radiation',\n",
       " 'KASSEL_precipitation',\n",
       " 'KASSEL_sunshine',\n",
       " 'KASSEL_temp_mean',\n",
       " 'KASSEL_temp_min',\n",
       " 'KASSEL_temp_max',\n",
       " 'LJUBLJANA_cloud_cover',\n",
       " 'LJUBLJANA_humidity',\n",
       " 'LJUBLJANA_pressure',\n",
       " 'LJUBLJANA_global_radiation',\n",
       " 'LJUBLJANA_precipitation',\n",
       " 'LJUBLJANA_sunshine',\n",
       " 'LJUBLJANA_temp_mean',\n",
       " 'LJUBLJANA_temp_min',\n",
       " 'LJUBLJANA_temp_max',\n",
       " 'MAASTRICHT_cloud_cover',\n",
       " 'MAASTRICHT_humidity',\n",
       " 'MAASTRICHT_pressure',\n",
       " 'MAASTRICHT_global_radiation',\n",
       " 'MAASTRICHT_precipitation',\n",
       " 'MAASTRICHT_sunshine',\n",
       " 'MAASTRICHT_temp_mean',\n",
       " 'MAASTRICHT_temp_min',\n",
       " 'MAASTRICHT_temp_max',\n",
       " 'MADRID_cloud_cover',\n",
       " 'MADRID_humidity',\n",
       " 'MADRID_pressure',\n",
       " 'MADRID_global_radiation',\n",
       " 'MADRID_precipitation',\n",
       " 'MADRID_sunshine',\n",
       " 'MADRID_temp_mean',\n",
       " 'MADRID_temp_min',\n",
       " 'MADRID_temp_max',\n",
       " 'MUNCHENB_cloud_cover',\n",
       " 'MUNCHENB_humidity',\n",
       " 'MUNCHENB_global_radiation',\n",
       " 'MUNCHENB_precipitation',\n",
       " 'MUNCHENB_sunshine',\n",
       " 'MUNCHENB_temp_mean',\n",
       " 'MUNCHENB_temp_min',\n",
       " 'MUNCHENB_temp_max',\n",
       " 'OSLO_cloud_cover',\n",
       " 'OSLO_humidity',\n",
       " 'OSLO_pressure',\n",
       " 'OSLO_global_radiation',\n",
       " 'OSLO_precipitation',\n",
       " 'OSLO_sunshine',\n",
       " 'OSLO_temp_mean',\n",
       " 'OSLO_temp_min',\n",
       " 'OSLO_temp_max',\n",
       " 'SONNBLICK_cloud_cover',\n",
       " 'SONNBLICK_humidity',\n",
       " 'SONNBLICK_pressure',\n",
       " 'SONNBLICK_global_radiation',\n",
       " 'SONNBLICK_precipitation',\n",
       " 'SONNBLICK_sunshine',\n",
       " 'SONNBLICK_temp_mean',\n",
       " 'SONNBLICK_temp_min',\n",
       " 'SONNBLICK_temp_max',\n",
       " 'STOCKHOLM_cloud_cover',\n",
       " 'STOCKHOLM_pressure',\n",
       " 'STOCKHOLM_global_radiation',\n",
       " 'STOCKHOLM_precipitation',\n",
       " 'STOCKHOLM_sunshine',\n",
       " 'STOCKHOLM_temp_mean',\n",
       " 'STOCKHOLM_temp_min',\n",
       " 'STOCKHOLM_temp_max',\n",
       " 'VALENTIA_cloud_cover',\n",
       " 'VALENTIA_humidity',\n",
       " 'VALENTIA_pressure',\n",
       " 'VALENTIA_global_radiation',\n",
       " 'VALENTIA_precipitation',\n",
       " 'VALENTIA_sunshine',\n",
       " 'VALENTIA_temp_mean',\n",
       " 'VALENTIA_temp_min',\n",
       " 'VALENTIA_temp_max',\n",
       " 'KASSEL_cloud_cover',\n",
       " 'MUNCHENB_pressure',\n",
       " 'STOCKHOLM_humidity']"
      ]
     },
     "execution_count": 90,
     "metadata": {},
     "output_type": "execute_result"
    }
   ],
   "source": [
    "climatewins_drops_rename"
   ]
  },
  {
   "cell_type": "markdown",
   "id": "29c73a99-af64-4690-8ac0-584ad9ffa963",
   "metadata": {},
   "source": [
    "##### There are now a total of 15 weather stations with 9 observations each."
   ]
  },
  {
   "cell_type": "code",
   "execution_count": 93,
   "id": "dcff4e99-c97a-412c-a013-8ffbc5690bfb",
   "metadata": {},
   "outputs": [],
   "source": [
    "# Checking shape of both cleaned data sets before exporting"
   ]
  },
  {
   "cell_type": "code",
   "execution_count": 95,
   "id": "7f6604b9-06f9-4983-8581-d252a65bb4c8",
   "metadata": {},
   "outputs": [
    {
     "data": {
      "text/plain": [
       "(22950, 135)"
      ]
     },
     "execution_count": 95,
     "metadata": {},
     "output_type": "execute_result"
    }
   ],
   "source": [
    "climatewins_drops.shape"
   ]
  },
  {
   "cell_type": "code",
   "execution_count": 97,
   "id": "9d0082a0-0510-4937-830a-df60d1fe3fef",
   "metadata": {},
   "outputs": [
    {
     "data": {
      "text/plain": [
       "(22950, 15)"
      ]
     },
     "execution_count": 97,
     "metadata": {},
     "output_type": "execute_result"
    }
   ],
   "source": [
    "pleasant_drops.shape"
   ]
  },
  {
   "cell_type": "markdown",
   "id": "5e04952b-1504-4792-8eb4-210b5dabc2a0",
   "metadata": {},
   "source": [
    "#### Export (this will be used in the next exercise)"
   ]
  },
  {
   "cell_type": "code",
   "execution_count": 100,
   "id": "daa6d09c-1860-44dc-9fc7-7fb10ba5d0ae",
   "metadata": {},
   "outputs": [],
   "source": [
    "climatewins_drops.to_csv(os.path.join(path,'ClimateWins', 'Unsupervised Learning', 'ML2_2.2_Climatewins_cleaned.csv'))"
   ]
  },
  {
   "cell_type": "code",
   "execution_count": 101,
   "id": "0c64d6f5-795d-483e-931a-45464282fe3d",
   "metadata": {},
   "outputs": [],
   "source": [
    "pleasant_drops.to_csv(os.path.join(path,'ClimateWins', 'Unsupervised Learning', 'ML2_2.2_Pleasant_cleaned.csv'))"
   ]
  },
  {
   "cell_type": "markdown",
   "id": "8dd5b301-c3f4-40ea-85c1-577a37b56ee5",
   "metadata": {},
   "source": [
    "#### Split Data"
   ]
  },
  {
   "cell_type": "code",
   "execution_count": 105,
   "id": "f0491227-9690-4b86-9300-dbaa0a87a4d2",
   "metadata": {},
   "outputs": [],
   "source": [
    "# Create an 'X' matrix\n",
    "\n",
    "X = climatewins_drops\n",
    "y = pleasant_drops"
   ]
  },
  {
   "cell_type": "code",
   "execution_count": 107,
   "id": "4587cbbd-fddc-4e6a-9ac7-fc249e00312e",
   "metadata": {},
   "outputs": [
    {
     "data": {
      "text/html": [
       "<div>\n",
       "<style scoped>\n",
       "    .dataframe tbody tr th:only-of-type {\n",
       "        vertical-align: middle;\n",
       "    }\n",
       "\n",
       "    .dataframe tbody tr th {\n",
       "        vertical-align: top;\n",
       "    }\n",
       "\n",
       "    .dataframe thead th {\n",
       "        text-align: right;\n",
       "    }\n",
       "</style>\n",
       "<table border=\"1\" class=\"dataframe\">\n",
       "  <thead>\n",
       "    <tr style=\"text-align: right;\">\n",
       "      <th></th>\n",
       "      <th>BASEL_cloud_cover</th>\n",
       "      <th>BASEL_humidity</th>\n",
       "      <th>BASEL_pressure</th>\n",
       "      <th>BASEL_global_radiation</th>\n",
       "      <th>BASEL_precipitation</th>\n",
       "      <th>BASEL_sunshine</th>\n",
       "      <th>BASEL_temp_mean</th>\n",
       "      <th>BASEL_temp_min</th>\n",
       "      <th>BASEL_temp_max</th>\n",
       "      <th>BELGRADE_cloud_cover</th>\n",
       "      <th>...</th>\n",
       "      <th>VALENTIA_pressure</th>\n",
       "      <th>VALENTIA_global_radiation</th>\n",
       "      <th>VALENTIA_precipitation</th>\n",
       "      <th>VALENTIA_sunshine</th>\n",
       "      <th>VALENTIA_temp_mean</th>\n",
       "      <th>VALENTIA_temp_min</th>\n",
       "      <th>VALENTIA_temp_max</th>\n",
       "      <th>KASSEL_cloud_cover</th>\n",
       "      <th>MUNCHENB_pressure</th>\n",
       "      <th>STOCKHOLM_humidity</th>\n",
       "    </tr>\n",
       "  </thead>\n",
       "  <tbody>\n",
       "    <tr>\n",
       "      <th>0</th>\n",
       "      <td>7</td>\n",
       "      <td>0.85</td>\n",
       "      <td>1.0180</td>\n",
       "      <td>0.32</td>\n",
       "      <td>0.09</td>\n",
       "      <td>0.7</td>\n",
       "      <td>6.5</td>\n",
       "      <td>0.8</td>\n",
       "      <td>10.9</td>\n",
       "      <td>1</td>\n",
       "      <td>...</td>\n",
       "      <td>1.0003</td>\n",
       "      <td>0.45</td>\n",
       "      <td>0.34</td>\n",
       "      <td>4.7</td>\n",
       "      <td>8.5</td>\n",
       "      <td>6.0</td>\n",
       "      <td>10.9</td>\n",
       "      <td>8</td>\n",
       "      <td>1.0304</td>\n",
       "      <td>0.98</td>\n",
       "    </tr>\n",
       "    <tr>\n",
       "      <th>1</th>\n",
       "      <td>6</td>\n",
       "      <td>0.84</td>\n",
       "      <td>1.0180</td>\n",
       "      <td>0.36</td>\n",
       "      <td>1.05</td>\n",
       "      <td>1.1</td>\n",
       "      <td>6.1</td>\n",
       "      <td>3.3</td>\n",
       "      <td>10.1</td>\n",
       "      <td>6</td>\n",
       "      <td>...</td>\n",
       "      <td>1.0007</td>\n",
       "      <td>0.25</td>\n",
       "      <td>0.84</td>\n",
       "      <td>0.7</td>\n",
       "      <td>8.9</td>\n",
       "      <td>5.6</td>\n",
       "      <td>12.1</td>\n",
       "      <td>6</td>\n",
       "      <td>1.0292</td>\n",
       "      <td>0.62</td>\n",
       "    </tr>\n",
       "    <tr>\n",
       "      <th>2</th>\n",
       "      <td>8</td>\n",
       "      <td>0.90</td>\n",
       "      <td>1.0180</td>\n",
       "      <td>0.18</td>\n",
       "      <td>0.30</td>\n",
       "      <td>0.0</td>\n",
       "      <td>8.5</td>\n",
       "      <td>5.1</td>\n",
       "      <td>9.9</td>\n",
       "      <td>6</td>\n",
       "      <td>...</td>\n",
       "      <td>1.0096</td>\n",
       "      <td>0.17</td>\n",
       "      <td>0.08</td>\n",
       "      <td>0.1</td>\n",
       "      <td>10.5</td>\n",
       "      <td>8.1</td>\n",
       "      <td>12.9</td>\n",
       "      <td>8</td>\n",
       "      <td>1.0320</td>\n",
       "      <td>0.69</td>\n",
       "    </tr>\n",
       "    <tr>\n",
       "      <th>3</th>\n",
       "      <td>3</td>\n",
       "      <td>0.92</td>\n",
       "      <td>1.0180</td>\n",
       "      <td>0.58</td>\n",
       "      <td>0.00</td>\n",
       "      <td>4.1</td>\n",
       "      <td>6.3</td>\n",
       "      <td>3.8</td>\n",
       "      <td>10.6</td>\n",
       "      <td>8</td>\n",
       "      <td>...</td>\n",
       "      <td>1.0184</td>\n",
       "      <td>0.13</td>\n",
       "      <td>0.98</td>\n",
       "      <td>0.0</td>\n",
       "      <td>7.4</td>\n",
       "      <td>7.3</td>\n",
       "      <td>10.6</td>\n",
       "      <td>6</td>\n",
       "      <td>1.0443</td>\n",
       "      <td>0.98</td>\n",
       "    </tr>\n",
       "    <tr>\n",
       "      <th>4</th>\n",
       "      <td>6</td>\n",
       "      <td>0.95</td>\n",
       "      <td>1.0180</td>\n",
       "      <td>0.65</td>\n",
       "      <td>0.14</td>\n",
       "      <td>5.4</td>\n",
       "      <td>3.0</td>\n",
       "      <td>-0.7</td>\n",
       "      <td>6.0</td>\n",
       "      <td>8</td>\n",
       "      <td>...</td>\n",
       "      <td>1.0328</td>\n",
       "      <td>0.46</td>\n",
       "      <td>0.00</td>\n",
       "      <td>5.7</td>\n",
       "      <td>5.7</td>\n",
       "      <td>3.0</td>\n",
       "      <td>8.4</td>\n",
       "      <td>7</td>\n",
       "      <td>1.0430</td>\n",
       "      <td>0.96</td>\n",
       "    </tr>\n",
       "    <tr>\n",
       "      <th>...</th>\n",
       "      <td>...</td>\n",
       "      <td>...</td>\n",
       "      <td>...</td>\n",
       "      <td>...</td>\n",
       "      <td>...</td>\n",
       "      <td>...</td>\n",
       "      <td>...</td>\n",
       "      <td>...</td>\n",
       "      <td>...</td>\n",
       "      <td>...</td>\n",
       "      <td>...</td>\n",
       "      <td>...</td>\n",
       "      <td>...</td>\n",
       "      <td>...</td>\n",
       "      <td>...</td>\n",
       "      <td>...</td>\n",
       "      <td>...</td>\n",
       "      <td>...</td>\n",
       "      <td>...</td>\n",
       "      <td>...</td>\n",
       "      <td>...</td>\n",
       "    </tr>\n",
       "    <tr>\n",
       "      <th>22945</th>\n",
       "      <td>1</td>\n",
       "      <td>0.79</td>\n",
       "      <td>1.0248</td>\n",
       "      <td>1.34</td>\n",
       "      <td>0.22</td>\n",
       "      <td>7.7</td>\n",
       "      <td>15.9</td>\n",
       "      <td>11.4</td>\n",
       "      <td>21.4</td>\n",
       "      <td>2</td>\n",
       "      <td>...</td>\n",
       "      <td>1.0142</td>\n",
       "      <td>1.13</td>\n",
       "      <td>0.41</td>\n",
       "      <td>3.4</td>\n",
       "      <td>10.7</td>\n",
       "      <td>7.9</td>\n",
       "      <td>13.5</td>\n",
       "      <td>4</td>\n",
       "      <td>1.0263</td>\n",
       "      <td>0.98</td>\n",
       "    </tr>\n",
       "    <tr>\n",
       "      <th>22946</th>\n",
       "      <td>6</td>\n",
       "      <td>0.77</td>\n",
       "      <td>1.0244</td>\n",
       "      <td>1.34</td>\n",
       "      <td>0.22</td>\n",
       "      <td>5.4</td>\n",
       "      <td>16.7</td>\n",
       "      <td>14.3</td>\n",
       "      <td>21.9</td>\n",
       "      <td>0</td>\n",
       "      <td>...</td>\n",
       "      <td>1.0142</td>\n",
       "      <td>1.13</td>\n",
       "      <td>0.41</td>\n",
       "      <td>3.4</td>\n",
       "      <td>10.7</td>\n",
       "      <td>7.9</td>\n",
       "      <td>13.5</td>\n",
       "      <td>3</td>\n",
       "      <td>1.0263</td>\n",
       "      <td>1.00</td>\n",
       "    </tr>\n",
       "    <tr>\n",
       "      <th>22947</th>\n",
       "      <td>4</td>\n",
       "      <td>0.76</td>\n",
       "      <td>1.0227</td>\n",
       "      <td>1.34</td>\n",
       "      <td>0.22</td>\n",
       "      <td>6.1</td>\n",
       "      <td>16.7</td>\n",
       "      <td>13.1</td>\n",
       "      <td>22.4</td>\n",
       "      <td>2</td>\n",
       "      <td>...</td>\n",
       "      <td>1.0142</td>\n",
       "      <td>1.13</td>\n",
       "      <td>0.41</td>\n",
       "      <td>3.4</td>\n",
       "      <td>10.7</td>\n",
       "      <td>7.9</td>\n",
       "      <td>13.5</td>\n",
       "      <td>3</td>\n",
       "      <td>1.0263</td>\n",
       "      <td>0.85</td>\n",
       "    </tr>\n",
       "    <tr>\n",
       "      <th>22948</th>\n",
       "      <td>5</td>\n",
       "      <td>0.80</td>\n",
       "      <td>1.0212</td>\n",
       "      <td>1.34</td>\n",
       "      <td>0.22</td>\n",
       "      <td>5.8</td>\n",
       "      <td>15.4</td>\n",
       "      <td>11.6</td>\n",
       "      <td>21.1</td>\n",
       "      <td>1</td>\n",
       "      <td>...</td>\n",
       "      <td>1.0142</td>\n",
       "      <td>1.13</td>\n",
       "      <td>0.41</td>\n",
       "      <td>3.4</td>\n",
       "      <td>10.7</td>\n",
       "      <td>7.9</td>\n",
       "      <td>13.5</td>\n",
       "      <td>3</td>\n",
       "      <td>1.0263</td>\n",
       "      <td>0.94</td>\n",
       "    </tr>\n",
       "    <tr>\n",
       "      <th>22949</th>\n",
       "      <td>5</td>\n",
       "      <td>0.84</td>\n",
       "      <td>1.0193</td>\n",
       "      <td>1.34</td>\n",
       "      <td>0.22</td>\n",
       "      <td>3.2</td>\n",
       "      <td>13.5</td>\n",
       "      <td>9.9</td>\n",
       "      <td>19.2</td>\n",
       "      <td>4</td>\n",
       "      <td>...</td>\n",
       "      <td>1.0142</td>\n",
       "      <td>1.13</td>\n",
       "      <td>0.41</td>\n",
       "      <td>3.4</td>\n",
       "      <td>10.7</td>\n",
       "      <td>7.9</td>\n",
       "      <td>13.5</td>\n",
       "      <td>3</td>\n",
       "      <td>1.0263</td>\n",
       "      <td>0.97</td>\n",
       "    </tr>\n",
       "  </tbody>\n",
       "</table>\n",
       "<p>22950 rows × 135 columns</p>\n",
       "</div>"
      ],
      "text/plain": [
       "       BASEL_cloud_cover  BASEL_humidity  BASEL_pressure  \\\n",
       "0                      7            0.85          1.0180   \n",
       "1                      6            0.84          1.0180   \n",
       "2                      8            0.90          1.0180   \n",
       "3                      3            0.92          1.0180   \n",
       "4                      6            0.95          1.0180   \n",
       "...                  ...             ...             ...   \n",
       "22945                  1            0.79          1.0248   \n",
       "22946                  6            0.77          1.0244   \n",
       "22947                  4            0.76          1.0227   \n",
       "22948                  5            0.80          1.0212   \n",
       "22949                  5            0.84          1.0193   \n",
       "\n",
       "       BASEL_global_radiation  BASEL_precipitation  BASEL_sunshine  \\\n",
       "0                        0.32                 0.09             0.7   \n",
       "1                        0.36                 1.05             1.1   \n",
       "2                        0.18                 0.30             0.0   \n",
       "3                        0.58                 0.00             4.1   \n",
       "4                        0.65                 0.14             5.4   \n",
       "...                       ...                  ...             ...   \n",
       "22945                    1.34                 0.22             7.7   \n",
       "22946                    1.34                 0.22             5.4   \n",
       "22947                    1.34                 0.22             6.1   \n",
       "22948                    1.34                 0.22             5.8   \n",
       "22949                    1.34                 0.22             3.2   \n",
       "\n",
       "       BASEL_temp_mean  BASEL_temp_min  BASEL_temp_max  BELGRADE_cloud_cover  \\\n",
       "0                  6.5             0.8            10.9                     1   \n",
       "1                  6.1             3.3            10.1                     6   \n",
       "2                  8.5             5.1             9.9                     6   \n",
       "3                  6.3             3.8            10.6                     8   \n",
       "4                  3.0            -0.7             6.0                     8   \n",
       "...                ...             ...             ...                   ...   \n",
       "22945             15.9            11.4            21.4                     2   \n",
       "22946             16.7            14.3            21.9                     0   \n",
       "22947             16.7            13.1            22.4                     2   \n",
       "22948             15.4            11.6            21.1                     1   \n",
       "22949             13.5             9.9            19.2                     4   \n",
       "\n",
       "       ...  VALENTIA_pressure  VALENTIA_global_radiation  \\\n",
       "0      ...             1.0003                       0.45   \n",
       "1      ...             1.0007                       0.25   \n",
       "2      ...             1.0096                       0.17   \n",
       "3      ...             1.0184                       0.13   \n",
       "4      ...             1.0328                       0.46   \n",
       "...    ...                ...                        ...   \n",
       "22945  ...             1.0142                       1.13   \n",
       "22946  ...             1.0142                       1.13   \n",
       "22947  ...             1.0142                       1.13   \n",
       "22948  ...             1.0142                       1.13   \n",
       "22949  ...             1.0142                       1.13   \n",
       "\n",
       "       VALENTIA_precipitation  VALENTIA_sunshine  VALENTIA_temp_mean  \\\n",
       "0                        0.34                4.7                 8.5   \n",
       "1                        0.84                0.7                 8.9   \n",
       "2                        0.08                0.1                10.5   \n",
       "3                        0.98                0.0                 7.4   \n",
       "4                        0.00                5.7                 5.7   \n",
       "...                       ...                ...                 ...   \n",
       "22945                    0.41                3.4                10.7   \n",
       "22946                    0.41                3.4                10.7   \n",
       "22947                    0.41                3.4                10.7   \n",
       "22948                    0.41                3.4                10.7   \n",
       "22949                    0.41                3.4                10.7   \n",
       "\n",
       "       VALENTIA_temp_min  VALENTIA_temp_max  KASSEL_cloud_cover  \\\n",
       "0                    6.0               10.9                   8   \n",
       "1                    5.6               12.1                   6   \n",
       "2                    8.1               12.9                   8   \n",
       "3                    7.3               10.6                   6   \n",
       "4                    3.0                8.4                   7   \n",
       "...                  ...                ...                 ...   \n",
       "22945                7.9               13.5                   4   \n",
       "22946                7.9               13.5                   3   \n",
       "22947                7.9               13.5                   3   \n",
       "22948                7.9               13.5                   3   \n",
       "22949                7.9               13.5                   3   \n",
       "\n",
       "       MUNCHENB_pressure  STOCKHOLM_humidity  \n",
       "0                 1.0304                0.98  \n",
       "1                 1.0292                0.62  \n",
       "2                 1.0320                0.69  \n",
       "3                 1.0443                0.98  \n",
       "4                 1.0430                0.96  \n",
       "...                  ...                 ...  \n",
       "22945             1.0263                0.98  \n",
       "22946             1.0263                1.00  \n",
       "22947             1.0263                0.85  \n",
       "22948             1.0263                0.94  \n",
       "22949             1.0263                0.97  \n",
       "\n",
       "[22950 rows x 135 columns]"
      ]
     },
     "execution_count": 107,
     "metadata": {},
     "output_type": "execute_result"
    }
   ],
   "source": [
    "X"
   ]
  },
  {
   "cell_type": "code",
   "execution_count": 109,
   "id": "292bdc76-2a47-4341-9a78-ec9de623c47d",
   "metadata": {},
   "outputs": [
    {
     "data": {
      "text/html": [
       "<div>\n",
       "<style scoped>\n",
       "    .dataframe tbody tr th:only-of-type {\n",
       "        vertical-align: middle;\n",
       "    }\n",
       "\n",
       "    .dataframe tbody tr th {\n",
       "        vertical-align: top;\n",
       "    }\n",
       "\n",
       "    .dataframe thead th {\n",
       "        text-align: right;\n",
       "    }\n",
       "</style>\n",
       "<table border=\"1\" class=\"dataframe\">\n",
       "  <thead>\n",
       "    <tr style=\"text-align: right;\">\n",
       "      <th></th>\n",
       "      <th>BASEL_pleasant_weather</th>\n",
       "      <th>BELGRADE_pleasant_weather</th>\n",
       "      <th>BUDAPEST_pleasant_weather</th>\n",
       "      <th>DEBILT_pleasant_weather</th>\n",
       "      <th>DUSSELDORF_pleasant_weather</th>\n",
       "      <th>HEATHROW_pleasant_weather</th>\n",
       "      <th>KASSEL_pleasant_weather</th>\n",
       "      <th>LJUBLJANA_pleasant_weather</th>\n",
       "      <th>MAASTRICHT_pleasant_weather</th>\n",
       "      <th>MADRID_pleasant_weather</th>\n",
       "      <th>MUNCHENB_pleasant_weather</th>\n",
       "      <th>OSLO_pleasant_weather</th>\n",
       "      <th>SONNBLICK_pleasant_weather</th>\n",
       "      <th>STOCKHOLM_pleasant_weather</th>\n",
       "      <th>VALENTIA_pleasant_weather</th>\n",
       "    </tr>\n",
       "  </thead>\n",
       "  <tbody>\n",
       "    <tr>\n",
       "      <th>0</th>\n",
       "      <td>0</td>\n",
       "      <td>0</td>\n",
       "      <td>0</td>\n",
       "      <td>0</td>\n",
       "      <td>0</td>\n",
       "      <td>0</td>\n",
       "      <td>0</td>\n",
       "      <td>0</td>\n",
       "      <td>0</td>\n",
       "      <td>0</td>\n",
       "      <td>0</td>\n",
       "      <td>0</td>\n",
       "      <td>0</td>\n",
       "      <td>0</td>\n",
       "      <td>0</td>\n",
       "    </tr>\n",
       "    <tr>\n",
       "      <th>1</th>\n",
       "      <td>0</td>\n",
       "      <td>0</td>\n",
       "      <td>0</td>\n",
       "      <td>0</td>\n",
       "      <td>0</td>\n",
       "      <td>0</td>\n",
       "      <td>0</td>\n",
       "      <td>0</td>\n",
       "      <td>0</td>\n",
       "      <td>0</td>\n",
       "      <td>0</td>\n",
       "      <td>0</td>\n",
       "      <td>0</td>\n",
       "      <td>0</td>\n",
       "      <td>0</td>\n",
       "    </tr>\n",
       "    <tr>\n",
       "      <th>2</th>\n",
       "      <td>0</td>\n",
       "      <td>0</td>\n",
       "      <td>0</td>\n",
       "      <td>0</td>\n",
       "      <td>0</td>\n",
       "      <td>0</td>\n",
       "      <td>0</td>\n",
       "      <td>0</td>\n",
       "      <td>0</td>\n",
       "      <td>0</td>\n",
       "      <td>0</td>\n",
       "      <td>0</td>\n",
       "      <td>0</td>\n",
       "      <td>0</td>\n",
       "      <td>0</td>\n",
       "    </tr>\n",
       "    <tr>\n",
       "      <th>3</th>\n",
       "      <td>0</td>\n",
       "      <td>0</td>\n",
       "      <td>0</td>\n",
       "      <td>0</td>\n",
       "      <td>0</td>\n",
       "      <td>0</td>\n",
       "      <td>0</td>\n",
       "      <td>0</td>\n",
       "      <td>0</td>\n",
       "      <td>0</td>\n",
       "      <td>0</td>\n",
       "      <td>0</td>\n",
       "      <td>0</td>\n",
       "      <td>0</td>\n",
       "      <td>0</td>\n",
       "    </tr>\n",
       "    <tr>\n",
       "      <th>4</th>\n",
       "      <td>0</td>\n",
       "      <td>0</td>\n",
       "      <td>0</td>\n",
       "      <td>0</td>\n",
       "      <td>0</td>\n",
       "      <td>0</td>\n",
       "      <td>0</td>\n",
       "      <td>0</td>\n",
       "      <td>0</td>\n",
       "      <td>0</td>\n",
       "      <td>0</td>\n",
       "      <td>0</td>\n",
       "      <td>0</td>\n",
       "      <td>0</td>\n",
       "      <td>0</td>\n",
       "    </tr>\n",
       "    <tr>\n",
       "      <th>...</th>\n",
       "      <td>...</td>\n",
       "      <td>...</td>\n",
       "      <td>...</td>\n",
       "      <td>...</td>\n",
       "      <td>...</td>\n",
       "      <td>...</td>\n",
       "      <td>...</td>\n",
       "      <td>...</td>\n",
       "      <td>...</td>\n",
       "      <td>...</td>\n",
       "      <td>...</td>\n",
       "      <td>...</td>\n",
       "      <td>...</td>\n",
       "      <td>...</td>\n",
       "      <td>...</td>\n",
       "    </tr>\n",
       "    <tr>\n",
       "      <th>22945</th>\n",
       "      <td>0</td>\n",
       "      <td>0</td>\n",
       "      <td>0</td>\n",
       "      <td>0</td>\n",
       "      <td>0</td>\n",
       "      <td>0</td>\n",
       "      <td>0</td>\n",
       "      <td>0</td>\n",
       "      <td>0</td>\n",
       "      <td>0</td>\n",
       "      <td>0</td>\n",
       "      <td>0</td>\n",
       "      <td>0</td>\n",
       "      <td>0</td>\n",
       "      <td>0</td>\n",
       "    </tr>\n",
       "    <tr>\n",
       "      <th>22946</th>\n",
       "      <td>0</td>\n",
       "      <td>0</td>\n",
       "      <td>0</td>\n",
       "      <td>0</td>\n",
       "      <td>0</td>\n",
       "      <td>0</td>\n",
       "      <td>0</td>\n",
       "      <td>0</td>\n",
       "      <td>0</td>\n",
       "      <td>0</td>\n",
       "      <td>0</td>\n",
       "      <td>0</td>\n",
       "      <td>0</td>\n",
       "      <td>0</td>\n",
       "      <td>0</td>\n",
       "    </tr>\n",
       "    <tr>\n",
       "      <th>22947</th>\n",
       "      <td>0</td>\n",
       "      <td>0</td>\n",
       "      <td>0</td>\n",
       "      <td>0</td>\n",
       "      <td>0</td>\n",
       "      <td>0</td>\n",
       "      <td>0</td>\n",
       "      <td>0</td>\n",
       "      <td>0</td>\n",
       "      <td>0</td>\n",
       "      <td>0</td>\n",
       "      <td>0</td>\n",
       "      <td>0</td>\n",
       "      <td>0</td>\n",
       "      <td>0</td>\n",
       "    </tr>\n",
       "    <tr>\n",
       "      <th>22948</th>\n",
       "      <td>0</td>\n",
       "      <td>0</td>\n",
       "      <td>0</td>\n",
       "      <td>0</td>\n",
       "      <td>0</td>\n",
       "      <td>0</td>\n",
       "      <td>0</td>\n",
       "      <td>0</td>\n",
       "      <td>0</td>\n",
       "      <td>0</td>\n",
       "      <td>0</td>\n",
       "      <td>0</td>\n",
       "      <td>0</td>\n",
       "      <td>0</td>\n",
       "      <td>0</td>\n",
       "    </tr>\n",
       "    <tr>\n",
       "      <th>22949</th>\n",
       "      <td>0</td>\n",
       "      <td>0</td>\n",
       "      <td>0</td>\n",
       "      <td>0</td>\n",
       "      <td>0</td>\n",
       "      <td>0</td>\n",
       "      <td>0</td>\n",
       "      <td>0</td>\n",
       "      <td>0</td>\n",
       "      <td>0</td>\n",
       "      <td>0</td>\n",
       "      <td>0</td>\n",
       "      <td>0</td>\n",
       "      <td>0</td>\n",
       "      <td>0</td>\n",
       "    </tr>\n",
       "  </tbody>\n",
       "</table>\n",
       "<p>22950 rows × 15 columns</p>\n",
       "</div>"
      ],
      "text/plain": [
       "       BASEL_pleasant_weather  BELGRADE_pleasant_weather  \\\n",
       "0                           0                          0   \n",
       "1                           0                          0   \n",
       "2                           0                          0   \n",
       "3                           0                          0   \n",
       "4                           0                          0   \n",
       "...                       ...                        ...   \n",
       "22945                       0                          0   \n",
       "22946                       0                          0   \n",
       "22947                       0                          0   \n",
       "22948                       0                          0   \n",
       "22949                       0                          0   \n",
       "\n",
       "       BUDAPEST_pleasant_weather  DEBILT_pleasant_weather  \\\n",
       "0                              0                        0   \n",
       "1                              0                        0   \n",
       "2                              0                        0   \n",
       "3                              0                        0   \n",
       "4                              0                        0   \n",
       "...                          ...                      ...   \n",
       "22945                          0                        0   \n",
       "22946                          0                        0   \n",
       "22947                          0                        0   \n",
       "22948                          0                        0   \n",
       "22949                          0                        0   \n",
       "\n",
       "       DUSSELDORF_pleasant_weather  HEATHROW_pleasant_weather  \\\n",
       "0                                0                          0   \n",
       "1                                0                          0   \n",
       "2                                0                          0   \n",
       "3                                0                          0   \n",
       "4                                0                          0   \n",
       "...                            ...                        ...   \n",
       "22945                            0                          0   \n",
       "22946                            0                          0   \n",
       "22947                            0                          0   \n",
       "22948                            0                          0   \n",
       "22949                            0                          0   \n",
       "\n",
       "       KASSEL_pleasant_weather  LJUBLJANA_pleasant_weather  \\\n",
       "0                            0                           0   \n",
       "1                            0                           0   \n",
       "2                            0                           0   \n",
       "3                            0                           0   \n",
       "4                            0                           0   \n",
       "...                        ...                         ...   \n",
       "22945                        0                           0   \n",
       "22946                        0                           0   \n",
       "22947                        0                           0   \n",
       "22948                        0                           0   \n",
       "22949                        0                           0   \n",
       "\n",
       "       MAASTRICHT_pleasant_weather  MADRID_pleasant_weather  \\\n",
       "0                                0                        0   \n",
       "1                                0                        0   \n",
       "2                                0                        0   \n",
       "3                                0                        0   \n",
       "4                                0                        0   \n",
       "...                            ...                      ...   \n",
       "22945                            0                        0   \n",
       "22946                            0                        0   \n",
       "22947                            0                        0   \n",
       "22948                            0                        0   \n",
       "22949                            0                        0   \n",
       "\n",
       "       MUNCHENB_pleasant_weather  OSLO_pleasant_weather  \\\n",
       "0                              0                      0   \n",
       "1                              0                      0   \n",
       "2                              0                      0   \n",
       "3                              0                      0   \n",
       "4                              0                      0   \n",
       "...                          ...                    ...   \n",
       "22945                          0                      0   \n",
       "22946                          0                      0   \n",
       "22947                          0                      0   \n",
       "22948                          0                      0   \n",
       "22949                          0                      0   \n",
       "\n",
       "       SONNBLICK_pleasant_weather  STOCKHOLM_pleasant_weather  \\\n",
       "0                               0                           0   \n",
       "1                               0                           0   \n",
       "2                               0                           0   \n",
       "3                               0                           0   \n",
       "4                               0                           0   \n",
       "...                           ...                         ...   \n",
       "22945                           0                           0   \n",
       "22946                           0                           0   \n",
       "22947                           0                           0   \n",
       "22948                           0                           0   \n",
       "22949                           0                           0   \n",
       "\n",
       "       VALENTIA_pleasant_weather  \n",
       "0                              0  \n",
       "1                              0  \n",
       "2                              0  \n",
       "3                              0  \n",
       "4                              0  \n",
       "...                          ...  \n",
       "22945                          0  \n",
       "22946                          0  \n",
       "22947                          0  \n",
       "22948                          0  \n",
       "22949                          0  \n",
       "\n",
       "[22950 rows x 15 columns]"
      ]
     },
     "execution_count": 109,
     "metadata": {},
     "output_type": "execute_result"
    }
   ],
   "source": [
    "y"
   ]
  },
  {
   "cell_type": "code",
   "execution_count": 111,
   "id": "b19a4bc4-8914-4db9-b719-73c9983a93dc",
   "metadata": {},
   "outputs": [],
   "source": [
    "X = np.array(X.iloc[:,X.columns!=135])\n",
    "y = np.array(y)"
   ]
  },
  {
   "cell_type": "code",
   "execution_count": 113,
   "id": "2344c255-ef98-4b1d-8b65-155ad594d126",
   "metadata": {},
   "outputs": [
    {
     "data": {
      "text/plain": [
       "array([[7.    , 0.85  , 1.018 , ..., 8.    , 1.0304, 0.98  ],\n",
       "       [6.    , 0.84  , 1.018 , ..., 6.    , 1.0292, 0.62  ],\n",
       "       [8.    , 0.9   , 1.018 , ..., 8.    , 1.032 , 0.69  ],\n",
       "       ...,\n",
       "       [4.    , 0.76  , 1.0227, ..., 3.    , 1.0263, 0.85  ],\n",
       "       [5.    , 0.8   , 1.0212, ..., 3.    , 1.0263, 0.94  ],\n",
       "       [5.    , 0.84  , 1.0193, ..., 3.    , 1.0263, 0.97  ]])"
      ]
     },
     "execution_count": 113,
     "metadata": {},
     "output_type": "execute_result"
    }
   ],
   "source": [
    "X"
   ]
  },
  {
   "cell_type": "code",
   "execution_count": 115,
   "id": "09ad3705-cc69-4601-8801-bea73810fbdc",
   "metadata": {},
   "outputs": [
    {
     "data": {
      "text/plain": [
       "array([[0, 0, 0, ..., 0, 0, 0],\n",
       "       [0, 0, 0, ..., 0, 0, 0],\n",
       "       [0, 0, 0, ..., 0, 0, 0],\n",
       "       ...,\n",
       "       [0, 0, 0, ..., 0, 0, 0],\n",
       "       [0, 0, 0, ..., 0, 0, 0],\n",
       "       [0, 0, 0, ..., 0, 0, 0]], dtype=int64)"
      ]
     },
     "execution_count": 115,
     "metadata": {},
     "output_type": "execute_result"
    }
   ],
   "source": [
    "y"
   ]
  },
  {
   "cell_type": "code",
   "execution_count": 117,
   "id": "5d7d69e3-d9b5-4038-a69a-230bd4ab28fa",
   "metadata": {},
   "outputs": [],
   "source": [
    "X = X.reshape(-1,15,9)"
   ]
  },
  {
   "cell_type": "code",
   "execution_count": 119,
   "id": "52254842-834c-42d5-8414-e99d0d296418",
   "metadata": {
    "scrolled": true
   },
   "outputs": [
    {
     "data": {
      "text/plain": [
       "array([[[ 7.0000e+00,  8.5000e-01,  1.0180e+00, ...,  6.5000e+00,\n",
       "          8.0000e-01,  1.0900e+01],\n",
       "        [ 1.0000e+00,  8.1000e-01,  1.0195e+00, ...,  3.7000e+00,\n",
       "         -9.0000e-01,  7.9000e+00],\n",
       "        [ 4.0000e+00,  6.7000e-01,  1.0170e+00, ...,  2.4000e+00,\n",
       "         -4.0000e-01,  5.1000e+00],\n",
       "        ...,\n",
       "        [ 1.0304e+00,  4.8000e-01,  1.0000e-02, ..., -3.2000e+00,\n",
       "          5.0000e+00,  1.0114e+00],\n",
       "        [ 5.0000e-02,  3.2000e-01,  0.0000e+00, ...,  5.0000e+00,\n",
       "          8.8000e-01,  1.0003e+00],\n",
       "        [ 4.5000e-01,  3.4000e-01,  4.7000e+00, ...,  8.0000e+00,\n",
       "          1.0304e+00,  9.8000e-01]],\n",
       "\n",
       "       [[ 6.0000e+00,  8.4000e-01,  1.0180e+00, ...,  6.1000e+00,\n",
       "          3.3000e+00,  1.0100e+01],\n",
       "        [ 6.0000e+00,  8.4000e-01,  1.0172e+00, ...,  2.9000e+00,\n",
       "          2.2000e+00,  4.4000e+00],\n",
       "        [ 4.0000e+00,  6.7000e-01,  1.0170e+00, ...,  2.3000e+00,\n",
       "          1.4000e+00,  3.1000e+00],\n",
       "        ...,\n",
       "        [ 1.0292e+00,  2.1000e-01,  6.1000e-01, ..., -8.5000e+00,\n",
       "          5.0000e+00,  1.0114e+00],\n",
       "        [ 5.0000e-02,  6.0000e-02,  0.0000e+00, ...,  7.0000e+00,\n",
       "          9.1000e-01,  1.0007e+00],\n",
       "        [ 2.5000e-01,  8.4000e-01,  7.0000e-01, ...,  6.0000e+00,\n",
       "          1.0292e+00,  6.2000e-01]],\n",
       "\n",
       "       [[ 8.0000e+00,  9.0000e-01,  1.0180e+00, ...,  8.5000e+00,\n",
       "          5.1000e+00,  9.9000e+00],\n",
       "        [ 6.0000e+00,  7.7000e-01,  1.0179e+00, ...,  3.1000e+00,\n",
       "         -5.0000e-01,  6.4000e+00],\n",
       "        [ 4.0000e+00,  6.7000e-01,  1.0170e+00, ...,  2.7000e+00,\n",
       "          1.7000e+00,  5.3000e+00],\n",
       "        ...,\n",
       "        [ 1.0320e+00,  2.1000e-01,  3.2000e+00, ..., -8.9000e+00,\n",
       "          5.0000e+00,  1.0114e+00],\n",
       "        [ 5.0000e-02,  2.0000e-02,  0.0000e+00, ...,  7.0000e+00,\n",
       "          9.1000e-01,  1.0096e+00],\n",
       "        [ 1.7000e-01,  8.0000e-02,  1.0000e-01, ...,  8.0000e+00,\n",
       "          1.0320e+00,  6.9000e-01]],\n",
       "\n",
       "       ...,\n",
       "\n",
       "       [[ 4.0000e+00,  7.6000e-01,  1.0227e+00, ...,  1.6700e+01,\n",
       "          1.3100e+01,  2.2400e+01],\n",
       "        [ 2.0000e+00,  6.8000e-01,  1.0278e+00, ...,  1.3400e+01,\n",
       "          8.6000e+00,  1.8200e+01],\n",
       "        [ 4.0000e+00,  6.7000e-01,  1.0170e+00, ...,  1.1700e+01,\n",
       "          7.9000e+00,  1.6200e+01],\n",
       "        ...,\n",
       "        [ 1.0263e+00,  1.5600e+00,  4.7000e-01, ...,  4.5000e+00,\n",
       "          5.0000e+00,  1.0059e+00],\n",
       "        [ 1.1100e+00,  1.4000e-01,  6.9000e+00, ...,  5.0000e+00,\n",
       "          8.2000e-01,  1.0142e+00],\n",
       "        [ 1.1300e+00,  4.1000e-01,  3.4000e+00, ...,  3.0000e+00,\n",
       "          1.0263e+00,  8.5000e-01]],\n",
       "\n",
       "       [[ 5.0000e+00,  8.0000e-01,  1.0212e+00, ...,  1.5400e+01,\n",
       "          1.1600e+01,  2.1100e+01],\n",
       "        [ 1.0000e+00,  6.8000e-01,  1.0238e+00, ...,  1.5000e+01,\n",
       "          9.1000e+00,  2.0900e+01],\n",
       "        [ 4.0000e+00,  6.7000e-01,  1.0170e+00, ...,  1.1700e+01,\n",
       "          7.9000e+00,  1.6200e+01],\n",
       "        ...,\n",
       "        [ 1.0263e+00,  1.5600e+00,  4.7000e-01, ...,  4.1000e+00,\n",
       "          5.0000e+00,  1.0160e+00],\n",
       "        [ 1.1100e+00,  1.4000e-01,  8.4000e+00, ...,  5.0000e+00,\n",
       "          8.2000e-01,  1.0142e+00],\n",
       "        [ 1.1300e+00,  4.1000e-01,  3.4000e+00, ...,  3.0000e+00,\n",
       "          1.0263e+00,  9.4000e-01]],\n",
       "\n",
       "       [[ 5.0000e+00,  8.4000e-01,  1.0193e+00, ...,  1.3500e+01,\n",
       "          9.9000e+00,  1.9200e+01],\n",
       "        [ 4.0000e+00,  6.8000e-01,  1.0235e+00, ...,  1.4400e+01,\n",
       "          1.0400e+01,  1.8400e+01],\n",
       "        [ 4.0000e+00,  6.7000e-01,  1.0170e+00, ...,  1.1700e+01,\n",
       "          7.9000e+00,  1.6200e+01],\n",
       "        ...,\n",
       "        [ 1.0263e+00,  1.5600e+00,  4.7000e-01, ...,  2.7000e+00,\n",
       "          5.0000e+00,  1.0164e+00],\n",
       "        [ 1.1100e+00,  1.4000e-01,  4.0000e-01, ...,  5.0000e+00,\n",
       "          8.2000e-01,  1.0142e+00],\n",
       "        [ 1.1300e+00,  4.1000e-01,  3.4000e+00, ...,  3.0000e+00,\n",
       "          1.0263e+00,  9.7000e-01]]])"
      ]
     },
     "execution_count": 119,
     "metadata": {},
     "output_type": "execute_result"
    }
   ],
   "source": [
    "X"
   ]
  },
  {
   "cell_type": "code",
   "execution_count": 198,
   "id": "c5ae5cc0-02cb-4dc9-b0d7-562b66f84c7f",
   "metadata": {},
   "outputs": [
    {
     "name": "stdout",
     "output_type": "stream",
     "text": [
      "Original X shape: (22950, 15, 9)\n",
      "Original y shape: (22950, 15)\n"
     ]
    }
   ],
   "source": [
    "print(\"Original X shape:\", X.shape)\n",
    "print(\"Original y shape:\", y.shape)"
   ]
  },
  {
   "cell_type": "code",
   "execution_count": 200,
   "id": "0b00ed6c-4204-409f-ab34-a384e737a326",
   "metadata": {},
   "outputs": [],
   "source": [
    "# Using Many-to-Many RNN output\n",
    "\n",
    "y_for_many_to_many_model = y.reshape(y.shape[0], y.shape[1], 1)"
   ]
  },
  {
   "cell_type": "code",
   "execution_count": 202,
   "id": "6751cb31-1d8d-48eb-b58d-0d18eff6469a",
   "metadata": {},
   "outputs": [
    {
     "name": "stdout",
     "output_type": "stream",
     "text": [
      "Reshaped y for Many-to-Many RNN shape: (22950, 15, 1)\n"
     ]
    }
   ],
   "source": [
    "print(\"Reshaped y for Many-to-Many RNN shape:\", y_for_many_to_many_model.shape) # Should be (22950, 15, 1)"
   ]
  },
  {
   "cell_type": "code",
   "execution_count": 204,
   "id": "3438d4f3-f381-4a49-8987-e0ea2e52ec02",
   "metadata": {},
   "outputs": [],
   "source": [
    "# Splitting the data into training/testing\n",
    "\n",
    "X_train, X_test, y_train, y_test = train_test_split(X, y_for_many_to_many_model, test_size=0.2, random_state=42)"
   ]
  },
  {
   "cell_type": "code",
   "execution_count": 206,
   "id": "8839145b-3aa3-4fca-afcc-5f7c5cc12d53",
   "metadata": {},
   "outputs": [
    {
     "name": "stdout",
     "output_type": "stream",
     "text": [
      "\n",
      "--- After Train/Test Split (Many-to-Many) ---\n",
      "X_train shape: (18360, 15, 9)\n",
      "y_train shape: (18360, 15, 1)\n",
      "X_test shape: (4590, 15, 9)\n",
      "y_test shape: (4590, 15, 1)\n"
     ]
    }
   ],
   "source": [
    "print(\"\\n--- After Train/Test Split (Many-to-Many) ---\")\n",
    "print(\"X_train shape:\", X_train.shape)\n",
    "print(\"y_train shape:\", y_train.shape)\n",
    "print(\"X_test shape:\", X_test.shape)\n",
    "print(\"y_test shape:\", y_test.shape)"
   ]
  },
  {
   "cell_type": "markdown",
   "id": "c5966ecd-6fbe-414f-81d7-3df8495bf983",
   "metadata": {},
   "source": [
    "###### The X and y are separated into samples, timesteps, features. "
   ]
  },
  {
   "cell_type": "markdown",
   "id": "681adc2d-d356-4607-afe6-6b9cdc246d0a",
   "metadata": {},
   "source": [
    "### 4. RNN"
   ]
  },
  {
   "cell_type": "code",
   "execution_count": 216,
   "id": "a71d66ab-0347-4b32-9ff3-dda066783e13",
   "metadata": {},
   "outputs": [
    {
     "name": "stdout",
     "output_type": "stream",
     "text": [
      "Timesteps for model: 15\n",
      "Input Dimension for model: 9\n",
      "Number of Classes for output layer: 1\n"
     ]
    },
    {
     "name": "stderr",
     "output_type": "stream",
     "text": [
      "C:\\Users\\jmesi\\anaconda3\\Lib\\site-packages\\keras\\src\\layers\\rnn\\rnn.py:199: UserWarning: Do not pass an `input_shape`/`input_dim` argument to a layer. When using Sequential models, prefer using an `Input(shape)` object as the first layer in the model instead.\n",
      "  super().__init__(**kwargs)\n"
     ]
    },
    {
     "data": {
      "text/html": [
       "<pre style=\"white-space:pre;overflow-x:auto;line-height:normal;font-family:Menlo,'DejaVu Sans Mono',consolas,'Courier New',monospace\"><span style=\"font-weight: bold\">Model: \"sequential_8\"</span>\n",
       "</pre>\n"
      ],
      "text/plain": [
       "\u001b[1mModel: \"sequential_8\"\u001b[0m\n"
      ]
     },
     "metadata": {},
     "output_type": "display_data"
    },
    {
     "data": {
      "text/html": [
       "<pre style=\"white-space:pre;overflow-x:auto;line-height:normal;font-family:Menlo,'DejaVu Sans Mono',consolas,'Courier New',monospace\">┏━━━━━━━━━━━━━━━━━━━━━━━━━━━━━━━━━━━━━━┳━━━━━━━━━━━━━━━━━━━━━━━━━━━━━┳━━━━━━━━━━━━━━━━━┓\n",
       "┃<span style=\"font-weight: bold\"> Layer (type)                         </span>┃<span style=\"font-weight: bold\"> Output Shape                </span>┃<span style=\"font-weight: bold\">         Param # </span>┃\n",
       "┡━━━━━━━━━━━━━━━━━━━━━━━━━━━━━━━━━━━━━━╇━━━━━━━━━━━━━━━━━━━━━━━━━━━━━╇━━━━━━━━━━━━━━━━━┩\n",
       "│ lstm_7 (<span style=\"color: #0087ff; text-decoration-color: #0087ff\">LSTM</span>)                        │ (<span style=\"color: #00d7ff; text-decoration-color: #00d7ff\">None</span>, <span style=\"color: #00af00; text-decoration-color: #00af00\">15</span>, <span style=\"color: #00af00; text-decoration-color: #00af00\">32</span>)              │           <span style=\"color: #00af00; text-decoration-color: #00af00\">5,376</span> │\n",
       "├──────────────────────────────────────┼─────────────────────────────┼─────────────────┤\n",
       "│ dropout_7 (<span style=\"color: #0087ff; text-decoration-color: #0087ff\">Dropout</span>)                  │ (<span style=\"color: #00d7ff; text-decoration-color: #00d7ff\">None</span>, <span style=\"color: #00af00; text-decoration-color: #00af00\">15</span>, <span style=\"color: #00af00; text-decoration-color: #00af00\">32</span>)              │               <span style=\"color: #00af00; text-decoration-color: #00af00\">0</span> │\n",
       "├──────────────────────────────────────┼─────────────────────────────┼─────────────────┤\n",
       "│ time_distributed (<span style=\"color: #0087ff; text-decoration-color: #0087ff\">TimeDistributed</span>)   │ (<span style=\"color: #00d7ff; text-decoration-color: #00d7ff\">None</span>, <span style=\"color: #00af00; text-decoration-color: #00af00\">15</span>, <span style=\"color: #00af00; text-decoration-color: #00af00\">1</span>)               │              <span style=\"color: #00af00; text-decoration-color: #00af00\">33</span> │\n",
       "└──────────────────────────────────────┴─────────────────────────────┴─────────────────┘\n",
       "</pre>\n"
      ],
      "text/plain": [
       "┏━━━━━━━━━━━━━━━━━━━━━━━━━━━━━━━━━━━━━━┳━━━━━━━━━━━━━━━━━━━━━━━━━━━━━┳━━━━━━━━━━━━━━━━━┓\n",
       "┃\u001b[1m \u001b[0m\u001b[1mLayer (type)                        \u001b[0m\u001b[1m \u001b[0m┃\u001b[1m \u001b[0m\u001b[1mOutput Shape               \u001b[0m\u001b[1m \u001b[0m┃\u001b[1m \u001b[0m\u001b[1m        Param #\u001b[0m\u001b[1m \u001b[0m┃\n",
       "┡━━━━━━━━━━━━━━━━━━━━━━━━━━━━━━━━━━━━━━╇━━━━━━━━━━━━━━━━━━━━━━━━━━━━━╇━━━━━━━━━━━━━━━━━┩\n",
       "│ lstm_7 (\u001b[38;5;33mLSTM\u001b[0m)                        │ (\u001b[38;5;45mNone\u001b[0m, \u001b[38;5;34m15\u001b[0m, \u001b[38;5;34m32\u001b[0m)              │           \u001b[38;5;34m5,376\u001b[0m │\n",
       "├──────────────────────────────────────┼─────────────────────────────┼─────────────────┤\n",
       "│ dropout_7 (\u001b[38;5;33mDropout\u001b[0m)                  │ (\u001b[38;5;45mNone\u001b[0m, \u001b[38;5;34m15\u001b[0m, \u001b[38;5;34m32\u001b[0m)              │               \u001b[38;5;34m0\u001b[0m │\n",
       "├──────────────────────────────────────┼─────────────────────────────┼─────────────────┤\n",
       "│ time_distributed (\u001b[38;5;33mTimeDistributed\u001b[0m)   │ (\u001b[38;5;45mNone\u001b[0m, \u001b[38;5;34m15\u001b[0m, \u001b[38;5;34m1\u001b[0m)               │              \u001b[38;5;34m33\u001b[0m │\n",
       "└──────────────────────────────────────┴─────────────────────────────┴─────────────────┘\n"
      ]
     },
     "metadata": {},
     "output_type": "display_data"
    },
    {
     "data": {
      "text/html": [
       "<pre style=\"white-space:pre;overflow-x:auto;line-height:normal;font-family:Menlo,'DejaVu Sans Mono',consolas,'Courier New',monospace\"><span style=\"font-weight: bold\"> Total params: </span><span style=\"color: #00af00; text-decoration-color: #00af00\">5,409</span> (21.13 KB)\n",
       "</pre>\n"
      ],
      "text/plain": [
       "\u001b[1m Total params: \u001b[0m\u001b[38;5;34m5,409\u001b[0m (21.13 KB)\n"
      ]
     },
     "metadata": {},
     "output_type": "display_data"
    },
    {
     "data": {
      "text/html": [
       "<pre style=\"white-space:pre;overflow-x:auto;line-height:normal;font-family:Menlo,'DejaVu Sans Mono',consolas,'Courier New',monospace\"><span style=\"font-weight: bold\"> Trainable params: </span><span style=\"color: #00af00; text-decoration-color: #00af00\">5,409</span> (21.13 KB)\n",
       "</pre>\n"
      ],
      "text/plain": [
       "\u001b[1m Trainable params: \u001b[0m\u001b[38;5;34m5,409\u001b[0m (21.13 KB)\n"
      ]
     },
     "metadata": {},
     "output_type": "display_data"
    },
    {
     "data": {
      "text/html": [
       "<pre style=\"white-space:pre;overflow-x:auto;line-height:normal;font-family:Menlo,'DejaVu Sans Mono',consolas,'Courier New',monospace\"><span style=\"font-weight: bold\"> Non-trainable params: </span><span style=\"color: #00af00; text-decoration-color: #00af00\">0</span> (0.00 B)\n",
       "</pre>\n"
      ],
      "text/plain": [
       "\u001b[1m Non-trainable params: \u001b[0m\u001b[38;5;34m0\u001b[0m (0.00 B)\n"
      ]
     },
     "metadata": {},
     "output_type": "display_data"
    }
   ],
   "source": [
    "# Running RNN #1\n",
    "\n",
    "epochs = 30\n",
    "batch_size = 32\n",
    "n_hidden = 32\n",
    "\n",
    "timesteps = X_train.shape[1]\n",
    "input_dim = X_train.shape[2]\n",
    "n_output_features_per_timestep = 1\n",
    "\n",
    "print(f\"Timesteps for model: {timesteps}\")\n",
    "print(f\"Input Dimension for model: {input_dim}\")\n",
    "print(f\"Number of Classes for output layer: {n_output_features_per_timestep}\")\n",
    "\n",
    "model = Sequential()\n",
    "model.add(LSTM(n_hidden, return_sequences=True, input_shape=(timesteps, input_dim)))\n",
    "model.add(Dropout(0.5))\n",
    "model.add(TimeDistributed(Dense(n_output_features_per_timestep, activation='sigmoid')))\n",
    "model.summary()"
   ]
  },
  {
   "cell_type": "code",
   "execution_count": 218,
   "id": "fd11864c-27c1-4d6a-9493-4d1329c3aabe",
   "metadata": {},
   "outputs": [],
   "source": [
    "model.compile(loss='binary_crossentropy', optimizer='adam', metrics=['accuracy'])"
   ]
  },
  {
   "cell_type": "code",
   "execution_count": 220,
   "id": "f053333e-fe9c-459e-ad25-dd431c29dac8",
   "metadata": {},
   "outputs": [
    {
     "name": "stdout",
     "output_type": "stream",
     "text": [
      "\n",
      "--- Starting Model Training (Many-to-Many) ---\n",
      "Epoch 1/30\n",
      "\u001b[1m574/574\u001b[0m \u001b[32m━━━━━━━━━━━━━━━━━━━━\u001b[0m\u001b[37m\u001b[0m \u001b[1m3s\u001b[0m 3ms/step - accuracy: 0.8255 - loss: 0.3668 - val_accuracy: 0.9090 - val_loss: 0.2072\n",
      "Epoch 2/30\n",
      "\u001b[1m574/574\u001b[0m \u001b[32m━━━━━━━━━━━━━━━━━━━━\u001b[0m\u001b[37m\u001b[0m \u001b[1m1s\u001b[0m 2ms/step - accuracy: 0.9018 - loss: 0.2201 - val_accuracy: 0.9176 - val_loss: 0.1849\n",
      "Epoch 3/30\n",
      "\u001b[1m574/574\u001b[0m \u001b[32m━━━━━━━━━━━━━━━━━━━━\u001b[0m\u001b[37m\u001b[0m \u001b[1m1s\u001b[0m 2ms/step - accuracy: 0.9110 - loss: 0.2002 - val_accuracy: 0.9230 - val_loss: 0.1714\n",
      "Epoch 4/30\n",
      "\u001b[1m574/574\u001b[0m \u001b[32m━━━━━━━━━━━━━━━━━━━━\u001b[0m\u001b[37m\u001b[0m \u001b[1m1s\u001b[0m 2ms/step - accuracy: 0.9165 - loss: 0.1880 - val_accuracy: 0.9284 - val_loss: 0.1614\n",
      "Epoch 5/30\n",
      "\u001b[1m574/574\u001b[0m \u001b[32m━━━━━━━━━━━━━━━━━━━━\u001b[0m\u001b[37m\u001b[0m \u001b[1m1s\u001b[0m 2ms/step - accuracy: 0.9216 - loss: 0.1776 - val_accuracy: 0.9337 - val_loss: 0.1534\n",
      "Epoch 6/30\n",
      "\u001b[1m574/574\u001b[0m \u001b[32m━━━━━━━━━━━━━━━━━━━━\u001b[0m\u001b[37m\u001b[0m \u001b[1m1s\u001b[0m 2ms/step - accuracy: 0.9250 - loss: 0.1702 - val_accuracy: 0.9360 - val_loss: 0.1464\n",
      "Epoch 7/30\n",
      "\u001b[1m574/574\u001b[0m \u001b[32m━━━━━━━━━━━━━━━━━━━━\u001b[0m\u001b[37m\u001b[0m \u001b[1m1s\u001b[0m 3ms/step - accuracy: 0.9295 - loss: 0.1627 - val_accuracy: 0.9410 - val_loss: 0.1381\n",
      "Epoch 8/30\n",
      "\u001b[1m574/574\u001b[0m \u001b[32m━━━━━━━━━━━━━━━━━━━━\u001b[0m\u001b[37m\u001b[0m \u001b[1m1s\u001b[0m 2ms/step - accuracy: 0.9311 - loss: 0.1563 - val_accuracy: 0.9444 - val_loss: 0.1312\n",
      "Epoch 9/30\n",
      "\u001b[1m574/574\u001b[0m \u001b[32m━━━━━━━━━━━━━━━━━━━━\u001b[0m\u001b[37m\u001b[0m \u001b[1m1s\u001b[0m 2ms/step - accuracy: 0.9349 - loss: 0.1506 - val_accuracy: 0.9468 - val_loss: 0.1262\n",
      "Epoch 10/30\n",
      "\u001b[1m574/574\u001b[0m \u001b[32m━━━━━━━━━━━━━━━━━━━━\u001b[0m\u001b[37m\u001b[0m \u001b[1m1s\u001b[0m 2ms/step - accuracy: 0.9381 - loss: 0.1429 - val_accuracy: 0.9489 - val_loss: 0.1191\n",
      "Epoch 11/30\n",
      "\u001b[1m574/574\u001b[0m \u001b[32m━━━━━━━━━━━━━━━━━━━━\u001b[0m\u001b[37m\u001b[0m \u001b[1m1s\u001b[0m 2ms/step - accuracy: 0.9389 - loss: 0.1426 - val_accuracy: 0.9535 - val_loss: 0.1120\n",
      "Epoch 12/30\n",
      "\u001b[1m574/574\u001b[0m \u001b[32m━━━━━━━━━━━━━━━━━━━━\u001b[0m\u001b[37m\u001b[0m \u001b[1m1s\u001b[0m 2ms/step - accuracy: 0.9435 - loss: 0.1320 - val_accuracy: 0.9547 - val_loss: 0.1081\n",
      "Epoch 13/30\n",
      "\u001b[1m574/574\u001b[0m \u001b[32m━━━━━━━━━━━━━━━━━━━━\u001b[0m\u001b[37m\u001b[0m \u001b[1m1s\u001b[0m 2ms/step - accuracy: 0.9450 - loss: 0.1281 - val_accuracy: 0.9580 - val_loss: 0.1034\n",
      "Epoch 14/30\n",
      "\u001b[1m574/574\u001b[0m \u001b[32m━━━━━━━━━━━━━━━━━━━━\u001b[0m\u001b[37m\u001b[0m \u001b[1m1s\u001b[0m 2ms/step - accuracy: 0.9478 - loss: 0.1225 - val_accuracy: 0.9610 - val_loss: 0.0979\n",
      "Epoch 15/30\n",
      "\u001b[1m574/574\u001b[0m \u001b[32m━━━━━━━━━━━━━━━━━━━━\u001b[0m\u001b[37m\u001b[0m \u001b[1m1s\u001b[0m 3ms/step - accuracy: 0.9489 - loss: 0.1203 - val_accuracy: 0.9628 - val_loss: 0.0932\n",
      "Epoch 16/30\n",
      "\u001b[1m574/574\u001b[0m \u001b[32m━━━━━━━━━━━━━━━━━━━━\u001b[0m\u001b[37m\u001b[0m \u001b[1m1s\u001b[0m 2ms/step - accuracy: 0.9509 - loss: 0.1161 - val_accuracy: 0.9643 - val_loss: 0.0894\n",
      "Epoch 17/30\n",
      "\u001b[1m574/574\u001b[0m \u001b[32m━━━━━━━━━━━━━━━━━━━━\u001b[0m\u001b[37m\u001b[0m \u001b[1m1s\u001b[0m 2ms/step - accuracy: 0.9517 - loss: 0.1146 - val_accuracy: 0.9658 - val_loss: 0.0871\n",
      "Epoch 18/30\n",
      "\u001b[1m574/574\u001b[0m \u001b[32m━━━━━━━━━━━━━━━━━━━━\u001b[0m\u001b[37m\u001b[0m \u001b[1m1s\u001b[0m 2ms/step - accuracy: 0.9537 - loss: 0.1101 - val_accuracy: 0.9684 - val_loss: 0.0815\n",
      "Epoch 19/30\n",
      "\u001b[1m574/574\u001b[0m \u001b[32m━━━━━━━━━━━━━━━━━━━━\u001b[0m\u001b[37m\u001b[0m \u001b[1m1s\u001b[0m 2ms/step - accuracy: 0.9543 - loss: 0.1089 - val_accuracy: 0.9682 - val_loss: 0.0810\n",
      "Epoch 20/30\n",
      "\u001b[1m574/574\u001b[0m \u001b[32m━━━━━━━━━━━━━━━━━━━━\u001b[0m\u001b[37m\u001b[0m \u001b[1m1s\u001b[0m 2ms/step - accuracy: 0.9554 - loss: 0.1060 - val_accuracy: 0.9710 - val_loss: 0.0765\n",
      "Epoch 21/30\n",
      "\u001b[1m574/574\u001b[0m \u001b[32m━━━━━━━━━━━━━━━━━━━━\u001b[0m\u001b[37m\u001b[0m \u001b[1m1s\u001b[0m 2ms/step - accuracy: 0.9557 - loss: 0.1052 - val_accuracy: 0.9709 - val_loss: 0.0784\n",
      "Epoch 22/30\n",
      "\u001b[1m574/574\u001b[0m \u001b[32m━━━━━━━━━━━━━━━━━━━━\u001b[0m\u001b[37m\u001b[0m \u001b[1m1s\u001b[0m 2ms/step - accuracy: 0.9574 - loss: 0.1033 - val_accuracy: 0.9721 - val_loss: 0.0740\n",
      "Epoch 23/30\n",
      "\u001b[1m574/574\u001b[0m \u001b[32m━━━━━━━━━━━━━━━━━━━━\u001b[0m\u001b[37m\u001b[0m \u001b[1m1s\u001b[0m 2ms/step - accuracy: 0.9580 - loss: 0.1008 - val_accuracy: 0.9735 - val_loss: 0.0700\n",
      "Epoch 24/30\n",
      "\u001b[1m574/574\u001b[0m \u001b[32m━━━━━━━━━━━━━━━━━━━━\u001b[0m\u001b[37m\u001b[0m \u001b[1m1s\u001b[0m 2ms/step - accuracy: 0.9596 - loss: 0.0964 - val_accuracy: 0.9745 - val_loss: 0.0672\n",
      "Epoch 25/30\n",
      "\u001b[1m574/574\u001b[0m \u001b[32m━━━━━━━━━━━━━━━━━━━━\u001b[0m\u001b[37m\u001b[0m \u001b[1m1s\u001b[0m 2ms/step - accuracy: 0.9599 - loss: 0.0950 - val_accuracy: 0.9743 - val_loss: 0.0679\n",
      "Epoch 26/30\n",
      "\u001b[1m574/574\u001b[0m \u001b[32m━━━━━━━━━━━━━━━━━━━━\u001b[0m\u001b[37m\u001b[0m \u001b[1m1s\u001b[0m 2ms/step - accuracy: 0.9600 - loss: 0.0951 - val_accuracy: 0.9763 - val_loss: 0.0650\n",
      "Epoch 27/30\n",
      "\u001b[1m574/574\u001b[0m \u001b[32m━━━━━━━━━━━━━━━━━━━━\u001b[0m\u001b[37m\u001b[0m \u001b[1m1s\u001b[0m 2ms/step - accuracy: 0.9607 - loss: 0.0934 - val_accuracy: 0.9762 - val_loss: 0.0625\n",
      "Epoch 28/30\n",
      "\u001b[1m574/574\u001b[0m \u001b[32m━━━━━━━━━━━━━━━━━━━━\u001b[0m\u001b[37m\u001b[0m \u001b[1m1s\u001b[0m 2ms/step - accuracy: 0.9621 - loss: 0.0899 - val_accuracy: 0.9776 - val_loss: 0.0604\n",
      "Epoch 29/30\n",
      "\u001b[1m574/574\u001b[0m \u001b[32m━━━━━━━━━━━━━━━━━━━━\u001b[0m\u001b[37m\u001b[0m \u001b[1m1s\u001b[0m 2ms/step - accuracy: 0.9631 - loss: 0.0887 - val_accuracy: 0.9762 - val_loss: 0.0615\n",
      "Epoch 30/30\n",
      "\u001b[1m574/574\u001b[0m \u001b[32m━━━━━━━━━━━━━━━━━━━━\u001b[0m\u001b[37m\u001b[0m \u001b[1m1s\u001b[0m 2ms/step - accuracy: 0.9624 - loss: 0.0893 - val_accuracy: 0.9787 - val_loss: 0.0585\n"
     ]
    }
   ],
   "source": [
    "print(\"\\n--- Starting Model Training (Many-to-Many) ---\")\n",
    "history = model.fit(\n",
    "    X_train, y_train,\n",
    "    epochs=epochs,\n",
    "    batch_size=batch_size,\n",
    "    validation_data=(X_test, y_test),\n",
    "    verbose=1)"
   ]
  },
  {
   "cell_type": "code",
   "execution_count": 222,
   "id": "94cad3fd-dd65-422e-83d8-d85af868055d",
   "metadata": {},
   "outputs": [
    {
     "name": "stdout",
     "output_type": "stream",
     "text": [
      "\n",
      "--- Evaluating Model ---\n",
      "Test Loss: 0.0585\n",
      "Test Accuracy: 0.9787\n"
     ]
    }
   ],
   "source": [
    "print(\"\\n--- Evaluating Model ---\")\n",
    "loss, accuracy = model.evaluate(X_test, y_test, verbose=0)\n",
    "print(f\"Test Loss: {loss:.4f}\")\n",
    "print(f\"Test Accuracy: {accuracy:.4f}\")"
   ]
  },
  {
   "cell_type": "markdown",
   "id": "ab222ee0-8677-4edb-b165-ba01d91783d9",
   "metadata": {},
   "source": [
    "###### A: The loss decreased, starting at about 0.3668 and decreasing to 0.0893. The accuracy increased, starting at 0.8255 and increasing to 0.9624. This means that the model is converging! A confusion matrix should also be accuratly confirming our findings. "
   ]
  },
  {
   "cell_type": "code",
   "execution_count": 242,
   "id": "63089165-7e85-40b0-b8f5-c37b7c54aaf2",
   "metadata": {},
   "outputs": [
    {
     "name": "stdout",
     "output_type": "stream",
     "text": [
      "Timesteps for model: 15\n",
      "Input Dimension for model: 9\n",
      "Number of Classes for output layer: 1\n"
     ]
    },
    {
     "name": "stderr",
     "output_type": "stream",
     "text": [
      "C:\\Users\\jmesi\\anaconda3\\Lib\\site-packages\\keras\\src\\layers\\rnn\\rnn.py:199: UserWarning: Do not pass an `input_shape`/`input_dim` argument to a layer. When using Sequential models, prefer using an `Input(shape)` object as the first layer in the model instead.\n",
      "  super().__init__(**kwargs)\n"
     ]
    },
    {
     "data": {
      "text/html": [
       "<pre style=\"white-space:pre;overflow-x:auto;line-height:normal;font-family:Menlo,'DejaVu Sans Mono',consolas,'Courier New',monospace\"><span style=\"font-weight: bold\">Model: \"sequential_11\"</span>\n",
       "</pre>\n"
      ],
      "text/plain": [
       "\u001b[1mModel: \"sequential_11\"\u001b[0m\n"
      ]
     },
     "metadata": {},
     "output_type": "display_data"
    },
    {
     "data": {
      "text/html": [
       "<pre style=\"white-space:pre;overflow-x:auto;line-height:normal;font-family:Menlo,'DejaVu Sans Mono',consolas,'Courier New',monospace\">┏━━━━━━━━━━━━━━━━━━━━━━━━━━━━━━━━━━━━━━┳━━━━━━━━━━━━━━━━━━━━━━━━━━━━━┳━━━━━━━━━━━━━━━━━┓\n",
       "┃<span style=\"font-weight: bold\"> Layer (type)                         </span>┃<span style=\"font-weight: bold\"> Output Shape                </span>┃<span style=\"font-weight: bold\">         Param # </span>┃\n",
       "┡━━━━━━━━━━━━━━━━━━━━━━━━━━━━━━━━━━━━━━╇━━━━━━━━━━━━━━━━━━━━━━━━━━━━━╇━━━━━━━━━━━━━━━━━┩\n",
       "│ lstm_10 (<span style=\"color: #0087ff; text-decoration-color: #0087ff\">LSTM</span>)                       │ (<span style=\"color: #00d7ff; text-decoration-color: #00d7ff\">None</span>, <span style=\"color: #00af00; text-decoration-color: #00af00\">15</span>, <span style=\"color: #00af00; text-decoration-color: #00af00\">38</span>)              │           <span style=\"color: #00af00; text-decoration-color: #00af00\">7,296</span> │\n",
       "├──────────────────────────────────────┼─────────────────────────────┼─────────────────┤\n",
       "│ dropout_10 (<span style=\"color: #0087ff; text-decoration-color: #0087ff\">Dropout</span>)                 │ (<span style=\"color: #00d7ff; text-decoration-color: #00d7ff\">None</span>, <span style=\"color: #00af00; text-decoration-color: #00af00\">15</span>, <span style=\"color: #00af00; text-decoration-color: #00af00\">38</span>)              │               <span style=\"color: #00af00; text-decoration-color: #00af00\">0</span> │\n",
       "├──────────────────────────────────────┼─────────────────────────────┼─────────────────┤\n",
       "│ time_distributed_3 (<span style=\"color: #0087ff; text-decoration-color: #0087ff\">TimeDistributed</span>) │ (<span style=\"color: #00d7ff; text-decoration-color: #00d7ff\">None</span>, <span style=\"color: #00af00; text-decoration-color: #00af00\">15</span>, <span style=\"color: #00af00; text-decoration-color: #00af00\">1</span>)               │              <span style=\"color: #00af00; text-decoration-color: #00af00\">39</span> │\n",
       "└──────────────────────────────────────┴─────────────────────────────┴─────────────────┘\n",
       "</pre>\n"
      ],
      "text/plain": [
       "┏━━━━━━━━━━━━━━━━━━━━━━━━━━━━━━━━━━━━━━┳━━━━━━━━━━━━━━━━━━━━━━━━━━━━━┳━━━━━━━━━━━━━━━━━┓\n",
       "┃\u001b[1m \u001b[0m\u001b[1mLayer (type)                        \u001b[0m\u001b[1m \u001b[0m┃\u001b[1m \u001b[0m\u001b[1mOutput Shape               \u001b[0m\u001b[1m \u001b[0m┃\u001b[1m \u001b[0m\u001b[1m        Param #\u001b[0m\u001b[1m \u001b[0m┃\n",
       "┡━━━━━━━━━━━━━━━━━━━━━━━━━━━━━━━━━━━━━━╇━━━━━━━━━━━━━━━━━━━━━━━━━━━━━╇━━━━━━━━━━━━━━━━━┩\n",
       "│ lstm_10 (\u001b[38;5;33mLSTM\u001b[0m)                       │ (\u001b[38;5;45mNone\u001b[0m, \u001b[38;5;34m15\u001b[0m, \u001b[38;5;34m38\u001b[0m)              │           \u001b[38;5;34m7,296\u001b[0m │\n",
       "├──────────────────────────────────────┼─────────────────────────────┼─────────────────┤\n",
       "│ dropout_10 (\u001b[38;5;33mDropout\u001b[0m)                 │ (\u001b[38;5;45mNone\u001b[0m, \u001b[38;5;34m15\u001b[0m, \u001b[38;5;34m38\u001b[0m)              │               \u001b[38;5;34m0\u001b[0m │\n",
       "├──────────────────────────────────────┼─────────────────────────────┼─────────────────┤\n",
       "│ time_distributed_3 (\u001b[38;5;33mTimeDistributed\u001b[0m) │ (\u001b[38;5;45mNone\u001b[0m, \u001b[38;5;34m15\u001b[0m, \u001b[38;5;34m1\u001b[0m)               │              \u001b[38;5;34m39\u001b[0m │\n",
       "└──────────────────────────────────────┴─────────────────────────────┴─────────────────┘\n"
      ]
     },
     "metadata": {},
     "output_type": "display_data"
    },
    {
     "data": {
      "text/html": [
       "<pre style=\"white-space:pre;overflow-x:auto;line-height:normal;font-family:Menlo,'DejaVu Sans Mono',consolas,'Courier New',monospace\"><span style=\"font-weight: bold\"> Total params: </span><span style=\"color: #00af00; text-decoration-color: #00af00\">7,335</span> (28.65 KB)\n",
       "</pre>\n"
      ],
      "text/plain": [
       "\u001b[1m Total params: \u001b[0m\u001b[38;5;34m7,335\u001b[0m (28.65 KB)\n"
      ]
     },
     "metadata": {},
     "output_type": "display_data"
    },
    {
     "data": {
      "text/html": [
       "<pre style=\"white-space:pre;overflow-x:auto;line-height:normal;font-family:Menlo,'DejaVu Sans Mono',consolas,'Courier New',monospace\"><span style=\"font-weight: bold\"> Trainable params: </span><span style=\"color: #00af00; text-decoration-color: #00af00\">7,335</span> (28.65 KB)\n",
       "</pre>\n"
      ],
      "text/plain": [
       "\u001b[1m Trainable params: \u001b[0m\u001b[38;5;34m7,335\u001b[0m (28.65 KB)\n"
      ]
     },
     "metadata": {},
     "output_type": "display_data"
    },
    {
     "data": {
      "text/html": [
       "<pre style=\"white-space:pre;overflow-x:auto;line-height:normal;font-family:Menlo,'DejaVu Sans Mono',consolas,'Courier New',monospace\"><span style=\"font-weight: bold\"> Non-trainable params: </span><span style=\"color: #00af00; text-decoration-color: #00af00\">0</span> (0.00 B)\n",
       "</pre>\n"
      ],
      "text/plain": [
       "\u001b[1m Non-trainable params: \u001b[0m\u001b[38;5;34m0\u001b[0m (0.00 B)\n"
      ]
     },
     "metadata": {},
     "output_type": "display_data"
    }
   ],
   "source": [
    "# Running RNN #2\n",
    "\n",
    "epochs = 30\n",
    "batch_size = 40\n",
    "n_hidden = 38\n",
    "\n",
    "timesteps = X_train.shape[1]\n",
    "input_dim = X_train.shape[2]\n",
    "n_output_features_per_timestep = 1\n",
    "\n",
    "print(f\"Timesteps for model: {timesteps}\")\n",
    "print(f\"Input Dimension for model: {input_dim}\")\n",
    "print(f\"Number of Classes for output layer: {n_output_features_per_timestep}\")\n",
    "\n",
    "model = Sequential()\n",
    "model.add(LSTM(n_hidden, return_sequences=True, input_shape=(timesteps, input_dim)))\n",
    "model.add(Dropout(0.5))\n",
    "model.add(TimeDistributed(Dense(n_output_features_per_timestep, activation='softmax')))\n",
    "model.summary()"
   ]
  },
  {
   "cell_type": "code",
   "execution_count": 244,
   "id": "c03c8f7b-0eb8-4d89-a24e-2f7fca74ddb3",
   "metadata": {},
   "outputs": [],
   "source": [
    "model.compile(loss='binary_crossentropy', optimizer='adam', metrics=['accuracy'])"
   ]
  },
  {
   "cell_type": "code",
   "execution_count": 246,
   "id": "a5bd94f5-eab8-40a4-8aa7-7d7fdc9e76cb",
   "metadata": {},
   "outputs": [
    {
     "name": "stdout",
     "output_type": "stream",
     "text": [
      "\n",
      "--- Starting Model Training ---\n",
      "Epoch 1/30\n"
     ]
    },
    {
     "name": "stderr",
     "output_type": "stream",
     "text": [
      "C:\\Users\\jmesi\\anaconda3\\Lib\\site-packages\\keras\\src\\ops\\nn.py:944: UserWarning: You are using a softmax over axis -1 of a tensor of shape (40, 1). This axis has size 1. The softmax operation will always return the value 1, which is likely not what you intended. Did you mean to use a sigmoid instead?\n",
      "  warnings.warn(\n",
      "C:\\Users\\jmesi\\anaconda3\\Lib\\site-packages\\keras\\src\\ops\\nn.py:944: UserWarning: You are using a softmax over axis -1 of a tensor of shape (None, 1). This axis has size 1. The softmax operation will always return the value 1, which is likely not what you intended. Did you mean to use a sigmoid instead?\n",
      "  warnings.warn(\n"
     ]
    },
    {
     "name": "stdout",
     "output_type": "stream",
     "text": [
      "459/459 - 2s - 5ms/step - accuracy: 0.2161 - loss: 12.4965 - val_accuracy: 0.2105 - val_loss: 12.5872\n",
      "Epoch 2/30\n",
      "459/459 - 1s - 2ms/step - accuracy: 0.2161 - loss: 12.4965 - val_accuracy: 0.2105 - val_loss: 12.5872\n",
      "Epoch 3/30\n",
      "459/459 - 1s - 2ms/step - accuracy: 0.2161 - loss: 12.4965 - val_accuracy: 0.2105 - val_loss: 12.5872\n",
      "Epoch 4/30\n",
      "459/459 - 1s - 2ms/step - accuracy: 0.2161 - loss: 12.4965 - val_accuracy: 0.2105 - val_loss: 12.5872\n",
      "Epoch 5/30\n",
      "459/459 - 1s - 2ms/step - accuracy: 0.2161 - loss: 12.4965 - val_accuracy: 0.2105 - val_loss: 12.5872\n",
      "Epoch 6/30\n",
      "459/459 - 1s - 2ms/step - accuracy: 0.2161 - loss: 12.4965 - val_accuracy: 0.2105 - val_loss: 12.5872\n",
      "Epoch 7/30\n",
      "459/459 - 1s - 2ms/step - accuracy: 0.2161 - loss: 12.4965 - val_accuracy: 0.2105 - val_loss: 12.5872\n",
      "Epoch 8/30\n",
      "459/459 - 1s - 2ms/step - accuracy: 0.2161 - loss: 12.4965 - val_accuracy: 0.2105 - val_loss: 12.5872\n",
      "Epoch 9/30\n",
      "459/459 - 1s - 2ms/step - accuracy: 0.2161 - loss: 12.4965 - val_accuracy: 0.2105 - val_loss: 12.5872\n",
      "Epoch 10/30\n",
      "459/459 - 1s - 2ms/step - accuracy: 0.2161 - loss: 12.4965 - val_accuracy: 0.2105 - val_loss: 12.5872\n",
      "Epoch 11/30\n",
      "459/459 - 1s - 2ms/step - accuracy: 0.2161 - loss: 12.4965 - val_accuracy: 0.2105 - val_loss: 12.5872\n",
      "Epoch 12/30\n",
      "459/459 - 1s - 2ms/step - accuracy: 0.2161 - loss: 12.4965 - val_accuracy: 0.2105 - val_loss: 12.5872\n",
      "Epoch 13/30\n",
      "459/459 - 1s - 2ms/step - accuracy: 0.2161 - loss: 12.4965 - val_accuracy: 0.2105 - val_loss: 12.5872\n",
      "Epoch 14/30\n",
      "459/459 - 1s - 2ms/step - accuracy: 0.2161 - loss: 12.4965 - val_accuracy: 0.2105 - val_loss: 12.5872\n",
      "Epoch 15/30\n",
      "459/459 - 1s - 2ms/step - accuracy: 0.2161 - loss: 12.4965 - val_accuracy: 0.2105 - val_loss: 12.5872\n",
      "Epoch 16/30\n",
      "459/459 - 1s - 2ms/step - accuracy: 0.2161 - loss: 12.4965 - val_accuracy: 0.2105 - val_loss: 12.5872\n",
      "Epoch 17/30\n",
      "459/459 - 1s - 2ms/step - accuracy: 0.2161 - loss: 12.4965 - val_accuracy: 0.2105 - val_loss: 12.5872\n",
      "Epoch 18/30\n",
      "459/459 - 1s - 2ms/step - accuracy: 0.2161 - loss: 12.4965 - val_accuracy: 0.2105 - val_loss: 12.5872\n",
      "Epoch 19/30\n",
      "459/459 - 1s - 2ms/step - accuracy: 0.2161 - loss: 12.4965 - val_accuracy: 0.2105 - val_loss: 12.5872\n",
      "Epoch 20/30\n",
      "459/459 - 1s - 2ms/step - accuracy: 0.2161 - loss: 12.4965 - val_accuracy: 0.2105 - val_loss: 12.5872\n",
      "Epoch 21/30\n",
      "459/459 - 1s - 2ms/step - accuracy: 0.2161 - loss: 12.4965 - val_accuracy: 0.2105 - val_loss: 12.5872\n",
      "Epoch 22/30\n",
      "459/459 - 1s - 2ms/step - accuracy: 0.2161 - loss: 12.4965 - val_accuracy: 0.2105 - val_loss: 12.5872\n",
      "Epoch 23/30\n",
      "459/459 - 1s - 2ms/step - accuracy: 0.2161 - loss: 12.4965 - val_accuracy: 0.2105 - val_loss: 12.5872\n",
      "Epoch 24/30\n",
      "459/459 - 1s - 2ms/step - accuracy: 0.2161 - loss: 12.4965 - val_accuracy: 0.2105 - val_loss: 12.5872\n",
      "Epoch 25/30\n",
      "459/459 - 1s - 2ms/step - accuracy: 0.2161 - loss: 12.4965 - val_accuracy: 0.2105 - val_loss: 12.5872\n",
      "Epoch 26/30\n",
      "459/459 - 1s - 2ms/step - accuracy: 0.2161 - loss: 12.4965 - val_accuracy: 0.2105 - val_loss: 12.5872\n",
      "Epoch 27/30\n",
      "459/459 - 1s - 2ms/step - accuracy: 0.2161 - loss: 12.4965 - val_accuracy: 0.2105 - val_loss: 12.5872\n",
      "Epoch 28/30\n",
      "459/459 - 1s - 2ms/step - accuracy: 0.2161 - loss: 12.4965 - val_accuracy: 0.2105 - val_loss: 12.5872\n",
      "Epoch 29/30\n",
      "459/459 - 1s - 2ms/step - accuracy: 0.2161 - loss: 12.4965 - val_accuracy: 0.2105 - val_loss: 12.5872\n",
      "Epoch 30/30\n",
      "459/459 - 1s - 2ms/step - accuracy: 0.2161 - loss: 12.4965 - val_accuracy: 0.2105 - val_loss: 12.5872\n"
     ]
    }
   ],
   "source": [
    "print(\"\\n--- Starting Model Training ---\")\n",
    "history = model.fit(\n",
    "    X_train, y_train,\n",
    "    epochs=epochs,\n",
    "    batch_size=batch_size,\n",
    "    validation_data=(X_test, y_test),\n",
    "    verbose=2)"
   ]
  },
  {
   "cell_type": "code",
   "execution_count": 247,
   "id": "300ae016-254b-4b43-9313-e7e49e4dff47",
   "metadata": {},
   "outputs": [
    {
     "name": "stdout",
     "output_type": "stream",
     "text": [
      "\n",
      "--- Evaluating Model ---\n",
      "Test Loss: 12.5872\n",
      "Test Accuracy: 0.2105\n"
     ]
    }
   ],
   "source": [
    "print(\"\\n--- Evaluating Model ---\")\n",
    "loss, accuracy = model.evaluate(X_test, y_test, verbose=0)\n",
    "print(f\"Test Loss: {loss:.4f}\")\n",
    "print(f\"Test Accuracy: {accuracy:.4f}\")"
   ]
  },
  {
   "cell_type": "markdown",
   "id": "2f804a0d-e67c-4ddd-afd6-ce20c46bd332",
   "metadata": {},
   "source": [
    "###### I've left the epochs at 30, increased the batch size to 40 and increased the hidden layers to 38 and changed the verbose to 2 and changed the activation function to softmax. This didn't provide great results at all. The loss started and stayed at 12.4965 and the accuracy stayed at 0.2161. I will go back to the activation function being sigmoid."
   ]
  },
  {
   "cell_type": "code",
   "execution_count": 232,
   "id": "b87c33ad-ccf6-4c51-95a1-79fbade77f42",
   "metadata": {},
   "outputs": [
    {
     "name": "stdout",
     "output_type": "stream",
     "text": [
      "Timesteps for model: 15\n",
      "Input Dimension for model: 9\n",
      "Number of Classes for output layer: 1\n"
     ]
    },
    {
     "name": "stderr",
     "output_type": "stream",
     "text": [
      "C:\\Users\\jmesi\\anaconda3\\Lib\\site-packages\\keras\\src\\layers\\rnn\\rnn.py:199: UserWarning: Do not pass an `input_shape`/`input_dim` argument to a layer. When using Sequential models, prefer using an `Input(shape)` object as the first layer in the model instead.\n",
      "  super().__init__(**kwargs)\n"
     ]
    },
    {
     "data": {
      "text/html": [
       "<pre style=\"white-space:pre;overflow-x:auto;line-height:normal;font-family:Menlo,'DejaVu Sans Mono',consolas,'Courier New',monospace\"><span style=\"font-weight: bold\">Model: \"sequential_10\"</span>\n",
       "</pre>\n"
      ],
      "text/plain": [
       "\u001b[1mModel: \"sequential_10\"\u001b[0m\n"
      ]
     },
     "metadata": {},
     "output_type": "display_data"
    },
    {
     "data": {
      "text/html": [
       "<pre style=\"white-space:pre;overflow-x:auto;line-height:normal;font-family:Menlo,'DejaVu Sans Mono',consolas,'Courier New',monospace\">┏━━━━━━━━━━━━━━━━━━━━━━━━━━━━━━━━━━━━━━┳━━━━━━━━━━━━━━━━━━━━━━━━━━━━━┳━━━━━━━━━━━━━━━━━┓\n",
       "┃<span style=\"font-weight: bold\"> Layer (type)                         </span>┃<span style=\"font-weight: bold\"> Output Shape                </span>┃<span style=\"font-weight: bold\">         Param # </span>┃\n",
       "┡━━━━━━━━━━━━━━━━━━━━━━━━━━━━━━━━━━━━━━╇━━━━━━━━━━━━━━━━━━━━━━━━━━━━━╇━━━━━━━━━━━━━━━━━┩\n",
       "│ lstm_9 (<span style=\"color: #0087ff; text-decoration-color: #0087ff\">LSTM</span>)                        │ (<span style=\"color: #00d7ff; text-decoration-color: #00d7ff\">None</span>, <span style=\"color: #00af00; text-decoration-color: #00af00\">15</span>, <span style=\"color: #00af00; text-decoration-color: #00af00\">44</span>)              │           <span style=\"color: #00af00; text-decoration-color: #00af00\">9,504</span> │\n",
       "├──────────────────────────────────────┼─────────────────────────────┼─────────────────┤\n",
       "│ dropout_9 (<span style=\"color: #0087ff; text-decoration-color: #0087ff\">Dropout</span>)                  │ (<span style=\"color: #00d7ff; text-decoration-color: #00d7ff\">None</span>, <span style=\"color: #00af00; text-decoration-color: #00af00\">15</span>, <span style=\"color: #00af00; text-decoration-color: #00af00\">44</span>)              │               <span style=\"color: #00af00; text-decoration-color: #00af00\">0</span> │\n",
       "├──────────────────────────────────────┼─────────────────────────────┼─────────────────┤\n",
       "│ time_distributed_2 (<span style=\"color: #0087ff; text-decoration-color: #0087ff\">TimeDistributed</span>) │ (<span style=\"color: #00d7ff; text-decoration-color: #00d7ff\">None</span>, <span style=\"color: #00af00; text-decoration-color: #00af00\">15</span>, <span style=\"color: #00af00; text-decoration-color: #00af00\">1</span>)               │              <span style=\"color: #00af00; text-decoration-color: #00af00\">45</span> │\n",
       "└──────────────────────────────────────┴─────────────────────────────┴─────────────────┘\n",
       "</pre>\n"
      ],
      "text/plain": [
       "┏━━━━━━━━━━━━━━━━━━━━━━━━━━━━━━━━━━━━━━┳━━━━━━━━━━━━━━━━━━━━━━━━━━━━━┳━━━━━━━━━━━━━━━━━┓\n",
       "┃\u001b[1m \u001b[0m\u001b[1mLayer (type)                        \u001b[0m\u001b[1m \u001b[0m┃\u001b[1m \u001b[0m\u001b[1mOutput Shape               \u001b[0m\u001b[1m \u001b[0m┃\u001b[1m \u001b[0m\u001b[1m        Param #\u001b[0m\u001b[1m \u001b[0m┃\n",
       "┡━━━━━━━━━━━━━━━━━━━━━━━━━━━━━━━━━━━━━━╇━━━━━━━━━━━━━━━━━━━━━━━━━━━━━╇━━━━━━━━━━━━━━━━━┩\n",
       "│ lstm_9 (\u001b[38;5;33mLSTM\u001b[0m)                        │ (\u001b[38;5;45mNone\u001b[0m, \u001b[38;5;34m15\u001b[0m, \u001b[38;5;34m44\u001b[0m)              │           \u001b[38;5;34m9,504\u001b[0m │\n",
       "├──────────────────────────────────────┼─────────────────────────────┼─────────────────┤\n",
       "│ dropout_9 (\u001b[38;5;33mDropout\u001b[0m)                  │ (\u001b[38;5;45mNone\u001b[0m, \u001b[38;5;34m15\u001b[0m, \u001b[38;5;34m44\u001b[0m)              │               \u001b[38;5;34m0\u001b[0m │\n",
       "├──────────────────────────────────────┼─────────────────────────────┼─────────────────┤\n",
       "│ time_distributed_2 (\u001b[38;5;33mTimeDistributed\u001b[0m) │ (\u001b[38;5;45mNone\u001b[0m, \u001b[38;5;34m15\u001b[0m, \u001b[38;5;34m1\u001b[0m)               │              \u001b[38;5;34m45\u001b[0m │\n",
       "└──────────────────────────────────────┴─────────────────────────────┴─────────────────┘\n"
      ]
     },
     "metadata": {},
     "output_type": "display_data"
    },
    {
     "data": {
      "text/html": [
       "<pre style=\"white-space:pre;overflow-x:auto;line-height:normal;font-family:Menlo,'DejaVu Sans Mono',consolas,'Courier New',monospace\"><span style=\"font-weight: bold\"> Total params: </span><span style=\"color: #00af00; text-decoration-color: #00af00\">9,549</span> (37.30 KB)\n",
       "</pre>\n"
      ],
      "text/plain": [
       "\u001b[1m Total params: \u001b[0m\u001b[38;5;34m9,549\u001b[0m (37.30 KB)\n"
      ]
     },
     "metadata": {},
     "output_type": "display_data"
    },
    {
     "data": {
      "text/html": [
       "<pre style=\"white-space:pre;overflow-x:auto;line-height:normal;font-family:Menlo,'DejaVu Sans Mono',consolas,'Courier New',monospace\"><span style=\"font-weight: bold\"> Trainable params: </span><span style=\"color: #00af00; text-decoration-color: #00af00\">9,549</span> (37.30 KB)\n",
       "</pre>\n"
      ],
      "text/plain": [
       "\u001b[1m Trainable params: \u001b[0m\u001b[38;5;34m9,549\u001b[0m (37.30 KB)\n"
      ]
     },
     "metadata": {},
     "output_type": "display_data"
    },
    {
     "data": {
      "text/html": [
       "<pre style=\"white-space:pre;overflow-x:auto;line-height:normal;font-family:Menlo,'DejaVu Sans Mono',consolas,'Courier New',monospace\"><span style=\"font-weight: bold\"> Non-trainable params: </span><span style=\"color: #00af00; text-decoration-color: #00af00\">0</span> (0.00 B)\n",
       "</pre>\n"
      ],
      "text/plain": [
       "\u001b[1m Non-trainable params: \u001b[0m\u001b[38;5;34m0\u001b[0m (0.00 B)\n"
      ]
     },
     "metadata": {},
     "output_type": "display_data"
    }
   ],
   "source": [
    "# Running RNN #3\n",
    "\n",
    "epochs = 30\n",
    "batch_size = 50\n",
    "n_hidden = 44\n",
    "\n",
    "timesteps = X_train.shape[1]\n",
    "input_dim = X_train.shape[2]\n",
    "n_output_features_per_timestep = 1\n",
    "\n",
    "print(f\"Timesteps for model: {timesteps}\")\n",
    "print(f\"Input Dimension for model: {input_dim}\")\n",
    "print(f\"Number of Classes for output layer: {n_output_features_per_timestep}\")\n",
    "\n",
    "model = Sequential()\n",
    "model.add(LSTM(n_hidden, return_sequences=True, input_shape=(timesteps, input_dim)))\n",
    "model.add(Dropout(0.5))\n",
    "model.add(TimeDistributed(Dense(n_output_features_per_timestep, activation='sigmoid')))\n",
    "model.summary()"
   ]
  },
  {
   "cell_type": "code",
   "execution_count": 234,
   "id": "e3c1e1e6-8f46-4fc0-ab49-38ec0c4c3f99",
   "metadata": {},
   "outputs": [],
   "source": [
    "model.compile(loss='binary_crossentropy', optimizer='adam', metrics=['accuracy'])"
   ]
  },
  {
   "cell_type": "code",
   "execution_count": 236,
   "id": "6e3866d3-5a49-43ca-ba29-44f67f10114d",
   "metadata": {},
   "outputs": [
    {
     "name": "stdout",
     "output_type": "stream",
     "text": [
      "\n",
      "--- Starting Model Training ---\n",
      "Epoch 1/30\n",
      "\u001b[1m368/368\u001b[0m \u001b[32m━━━━━━━━━━━━━━━━━━━━\u001b[0m\u001b[37m\u001b[0m \u001b[1m2s\u001b[0m 3ms/step - accuracy: 0.8193 - loss: 0.3714 - val_accuracy: 0.9109 - val_loss: 0.2001\n",
      "Epoch 2/30\n",
      "\u001b[1m368/368\u001b[0m \u001b[32m━━━━━━━━━━━━━━━━━━━━\u001b[0m\u001b[37m\u001b[0m \u001b[1m1s\u001b[0m 3ms/step - accuracy: 0.9060 - loss: 0.2127 - val_accuracy: 0.9193 - val_loss: 0.1821\n",
      "Epoch 3/30\n",
      "\u001b[1m368/368\u001b[0m \u001b[32m━━━━━━━━━━━━━━━━━━━━\u001b[0m\u001b[37m\u001b[0m \u001b[1m1s\u001b[0m 3ms/step - accuracy: 0.9137 - loss: 0.1933 - val_accuracy: 0.9248 - val_loss: 0.1688\n",
      "Epoch 4/30\n",
      "\u001b[1m368/368\u001b[0m \u001b[32m━━━━━━━━━━━━━━━━━━━━\u001b[0m\u001b[37m\u001b[0m \u001b[1m1s\u001b[0m 3ms/step - accuracy: 0.9179 - loss: 0.1868 - val_accuracy: 0.9299 - val_loss: 0.1593\n",
      "Epoch 5/30\n",
      "\u001b[1m368/368\u001b[0m \u001b[32m━━━━━━━━━━━━━━━━━━━━\u001b[0m\u001b[37m\u001b[0m \u001b[1m1s\u001b[0m 3ms/step - accuracy: 0.9260 - loss: 0.1707 - val_accuracy: 0.9365 - val_loss: 0.1469\n",
      "Epoch 6/30\n",
      "\u001b[1m368/368\u001b[0m \u001b[32m━━━━━━━━━━━━━━━━━━━━\u001b[0m\u001b[37m\u001b[0m \u001b[1m1s\u001b[0m 3ms/step - accuracy: 0.9303 - loss: 0.1618 - val_accuracy: 0.9413 - val_loss: 0.1387\n",
      "Epoch 7/30\n",
      "\u001b[1m368/368\u001b[0m \u001b[32m━━━━━━━━━━━━━━━━━━━━\u001b[0m\u001b[37m\u001b[0m \u001b[1m1s\u001b[0m 3ms/step - accuracy: 0.9338 - loss: 0.1538 - val_accuracy: 0.9433 - val_loss: 0.1318\n",
      "Epoch 8/30\n",
      "\u001b[1m368/368\u001b[0m \u001b[32m━━━━━━━━━━━━━━━━━━━━\u001b[0m\u001b[37m\u001b[0m \u001b[1m1s\u001b[0m 3ms/step - accuracy: 0.9369 - loss: 0.1495 - val_accuracy: 0.9483 - val_loss: 0.1246\n",
      "Epoch 9/30\n",
      "\u001b[1m368/368\u001b[0m \u001b[32m━━━━━━━━━━━━━━━━━━━━\u001b[0m\u001b[37m\u001b[0m \u001b[1m1s\u001b[0m 3ms/step - accuracy: 0.9413 - loss: 0.1395 - val_accuracy: 0.9504 - val_loss: 0.1189\n",
      "Epoch 10/30\n",
      "\u001b[1m368/368\u001b[0m \u001b[32m━━━━━━━━━━━━━━━━━━━━\u001b[0m\u001b[37m\u001b[0m \u001b[1m1s\u001b[0m 3ms/step - accuracy: 0.9422 - loss: 0.1368 - val_accuracy: 0.9527 - val_loss: 0.1143\n",
      "Epoch 11/30\n",
      "\u001b[1m368/368\u001b[0m \u001b[32m━━━━━━━━━━━━━━━━━━━━\u001b[0m\u001b[37m\u001b[0m \u001b[1m1s\u001b[0m 3ms/step - accuracy: 0.9444 - loss: 0.1327 - val_accuracy: 0.9549 - val_loss: 0.1088\n",
      "Epoch 12/30\n",
      "\u001b[1m368/368\u001b[0m \u001b[32m━━━━━━━━━━━━━━━━━━━━\u001b[0m\u001b[37m\u001b[0m \u001b[1m1s\u001b[0m 3ms/step - accuracy: 0.9481 - loss: 0.1253 - val_accuracy: 0.9589 - val_loss: 0.1037\n",
      "Epoch 13/30\n",
      "\u001b[1m368/368\u001b[0m \u001b[32m━━━━━━━━━━━━━━━━━━━━\u001b[0m\u001b[37m\u001b[0m \u001b[1m1s\u001b[0m 3ms/step - accuracy: 0.9501 - loss: 0.1213 - val_accuracy: 0.9600 - val_loss: 0.0993\n",
      "Epoch 14/30\n",
      "\u001b[1m368/368\u001b[0m \u001b[32m━━━━━━━━━━━━━━━━━━━━\u001b[0m\u001b[37m\u001b[0m \u001b[1m1s\u001b[0m 3ms/step - accuracy: 0.9512 - loss: 0.1177 - val_accuracy: 0.9610 - val_loss: 0.0957\n",
      "Epoch 15/30\n",
      "\u001b[1m368/368\u001b[0m \u001b[32m━━━━━━━━━━━━━━━━━━━━\u001b[0m\u001b[37m\u001b[0m \u001b[1m1s\u001b[0m 3ms/step - accuracy: 0.9519 - loss: 0.1157 - val_accuracy: 0.9626 - val_loss: 0.0940\n",
      "Epoch 16/30\n",
      "\u001b[1m368/368\u001b[0m \u001b[32m━━━━━━━━━━━━━━━━━━━━\u001b[0m\u001b[37m\u001b[0m \u001b[1m1s\u001b[0m 3ms/step - accuracy: 0.9541 - loss: 0.1110 - val_accuracy: 0.9667 - val_loss: 0.0874\n",
      "Epoch 17/30\n",
      "\u001b[1m368/368\u001b[0m \u001b[32m━━━━━━━━━━━━━━━━━━━━\u001b[0m\u001b[37m\u001b[0m \u001b[1m1s\u001b[0m 3ms/step - accuracy: 0.9558 - loss: 0.1074 - val_accuracy: 0.9658 - val_loss: 0.0859\n",
      "Epoch 18/30\n",
      "\u001b[1m368/368\u001b[0m \u001b[32m━━━━━━━━━━━━━━━━━━━━\u001b[0m\u001b[37m\u001b[0m \u001b[1m1s\u001b[0m 3ms/step - accuracy: 0.9570 - loss: 0.1045 - val_accuracy: 0.9674 - val_loss: 0.0832\n",
      "Epoch 19/30\n",
      "\u001b[1m368/368\u001b[0m \u001b[32m━━━━━━━━━━━━━━━━━━━━\u001b[0m\u001b[37m\u001b[0m \u001b[1m1s\u001b[0m 3ms/step - accuracy: 0.9585 - loss: 0.1017 - val_accuracy: 0.9680 - val_loss: 0.0816\n",
      "Epoch 20/30\n",
      "\u001b[1m368/368\u001b[0m \u001b[32m━━━━━━━━━━━━━━━━━━━━\u001b[0m\u001b[37m\u001b[0m \u001b[1m1s\u001b[0m 3ms/step - accuracy: 0.9586 - loss: 0.1006 - val_accuracy: 0.9692 - val_loss: 0.0788\n",
      "Epoch 21/30\n",
      "\u001b[1m368/368\u001b[0m \u001b[32m━━━━━━━━━━━━━━━━━━━━\u001b[0m\u001b[37m\u001b[0m \u001b[1m1s\u001b[0m 3ms/step - accuracy: 0.9605 - loss: 0.0966 - val_accuracy: 0.9712 - val_loss: 0.0753\n",
      "Epoch 22/30\n",
      "\u001b[1m368/368\u001b[0m \u001b[32m━━━━━━━━━━━━━━━━━━━━\u001b[0m\u001b[37m\u001b[0m \u001b[1m1s\u001b[0m 3ms/step - accuracy: 0.9612 - loss: 0.0949 - val_accuracy: 0.9715 - val_loss: 0.0748\n",
      "Epoch 23/30\n",
      "\u001b[1m368/368\u001b[0m \u001b[32m━━━━━━━━━━━━━━━━━━━━\u001b[0m\u001b[37m\u001b[0m \u001b[1m1s\u001b[0m 3ms/step - accuracy: 0.9618 - loss: 0.0922 - val_accuracy: 0.9723 - val_loss: 0.0727\n",
      "Epoch 24/30\n",
      "\u001b[1m368/368\u001b[0m \u001b[32m━━━━━━━━━━━━━━━━━━━━\u001b[0m\u001b[37m\u001b[0m \u001b[1m1s\u001b[0m 3ms/step - accuracy: 0.9632 - loss: 0.0893 - val_accuracy: 0.9731 - val_loss: 0.0708\n",
      "Epoch 25/30\n",
      "\u001b[1m368/368\u001b[0m \u001b[32m━━━━━━━━━━━━━━━━━━━━\u001b[0m\u001b[37m\u001b[0m \u001b[1m1s\u001b[0m 3ms/step - accuracy: 0.9643 - loss: 0.0883 - val_accuracy: 0.9734 - val_loss: 0.0668\n",
      "Epoch 26/30\n",
      "\u001b[1m368/368\u001b[0m \u001b[32m━━━━━━━━━━━━━━━━━━━━\u001b[0m\u001b[37m\u001b[0m \u001b[1m1s\u001b[0m 3ms/step - accuracy: 0.9647 - loss: 0.0862 - val_accuracy: 0.9743 - val_loss: 0.0666\n",
      "Epoch 27/30\n",
      "\u001b[1m368/368\u001b[0m \u001b[32m━━━━━━━━━━━━━━━━━━━━\u001b[0m\u001b[37m\u001b[0m \u001b[1m1s\u001b[0m 3ms/step - accuracy: 0.9655 - loss: 0.0846 - val_accuracy: 0.9749 - val_loss: 0.0645\n",
      "Epoch 28/30\n",
      "\u001b[1m368/368\u001b[0m \u001b[32m━━━━━━━━━━━━━━━━━━━━\u001b[0m\u001b[37m\u001b[0m \u001b[1m1s\u001b[0m 3ms/step - accuracy: 0.9659 - loss: 0.0825 - val_accuracy: 0.9749 - val_loss: 0.0622\n",
      "Epoch 29/30\n",
      "\u001b[1m368/368\u001b[0m \u001b[32m━━━━━━━━━━━━━━━━━━━━\u001b[0m\u001b[37m\u001b[0m \u001b[1m1s\u001b[0m 3ms/step - accuracy: 0.9660 - loss: 0.0824 - val_accuracy: 0.9781 - val_loss: 0.0593\n",
      "Epoch 30/30\n",
      "\u001b[1m368/368\u001b[0m \u001b[32m━━━━━━━━━━━━━━━━━━━━\u001b[0m\u001b[37m\u001b[0m \u001b[1m1s\u001b[0m 3ms/step - accuracy: 0.9678 - loss: 0.0789 - val_accuracy: 0.9761 - val_loss: 0.0642\n"
     ]
    }
   ],
   "source": [
    "print(\"\\n--- Starting Model Training ---\")\n",
    "history = model.fit(\n",
    "    X_train, y_train,\n",
    "    epochs=epochs,\n",
    "    batch_size=batch_size,\n",
    "    validation_data=(X_test, y_test),\n",
    "    verbose=1)"
   ]
  },
  {
   "cell_type": "code",
   "execution_count": 238,
   "id": "8f80f081-738f-4915-8c67-d787b5dc50f7",
   "metadata": {},
   "outputs": [
    {
     "name": "stdout",
     "output_type": "stream",
     "text": [
      "\n",
      "--- Evaluating Model ---\n",
      "Test Loss: 0.0642\n",
      "Test Accuracy: 0.9761\n"
     ]
    }
   ],
   "source": [
    "print(\"\\n--- Evaluating Model ---\")\n",
    "loss, accuracy = model.evaluate(X_test, y_test, verbose=0)\n",
    "print(f\"Test Loss: {loss:.4f}\")\n",
    "print(f\"Test Accuracy: {accuracy:.4f}\")"
   ]
  },
  {
   "cell_type": "markdown",
   "id": "e2bcf833-e741-4b82-be90-9b8692bbd34a",
   "metadata": {},
   "source": [
    "###### In this 3rd run of RNN I've left the epoch at 30, increased the batch size to 50 and increased the hidden layers to 44 and reduced the verbose to 1. Our loss started around the same place as our first RNN at 0.3714 and gradually decreased to 0.0789 which is the lowest loss we've seen. The accuracy started slightly lower at 0.8193 but increased to 0.9678 which is almost equal but slightly better than the accuarcy of the first RNN we ran."
   ]
  },
  {
   "cell_type": "markdown",
   "id": "109548bd-662f-40b8-bc67-8dcdf5364644",
   "metadata": {},
   "source": [
    "#### Confusion Matrix"
   ]
  },
  {
   "cell_type": "code",
   "execution_count": 252,
   "id": "8adccdca-28a8-49a5-94f2-e4fddb9f17a9",
   "metadata": {},
   "outputs": [],
   "source": [
    "# Importing Library for Confusion Matrix\n",
    "\n",
    "from sklearn.metrics import multilabel_confusion_matrix, accuracy_score, confusion_matrix, ConfusionMatrixDisplay"
   ]
  },
  {
   "cell_type": "code",
   "execution_count": 254,
   "id": "e1209389-23b4-4a13-affa-1ebed8a822f6",
   "metadata": {},
   "outputs": [
    {
     "data": {
      "text/plain": [
       "['BASEL',\n",
       " 'BELGRADE',\n",
       " 'BUDAPEST',\n",
       " 'DEBILT',\n",
       " 'DUSSELDORF',\n",
       " 'HEATHROW',\n",
       " 'KASSEL',\n",
       " 'LJUBLJANA',\n",
       " 'MAASTRICHT',\n",
       " 'MADRID',\n",
       " 'MUNCHENB',\n",
       " 'OSLO',\n",
       " 'SONNBLICK',\n",
       " 'STOCKHOLM',\n",
       " 'VALENTIA']"
      ]
     },
     "execution_count": 254,
     "metadata": {},
     "output_type": "execute_result"
    }
   ],
   "source": [
    "locations = list({x.split(\"_\")[0] for x in climatewins_drops.columns if x not in [\"MONTH\", \"DATE\"]})\n",
    "locations.sort()\n",
    "locations"
   ]
  },
  {
   "cell_type": "code",
   "execution_count": 256,
   "id": "c4d96c7c-0609-4ae5-9e7b-c7abc2fd4104",
   "metadata": {},
   "outputs": [
    {
     "name": "stdout",
     "output_type": "stream",
     "text": [
      "\u001b[1m113/144\u001b[0m \u001b[32m━━━━━━━━━━━━━━━\u001b[0m\u001b[37m━━━━━\u001b[0m \u001b[1m0s\u001b[0m 898us/step"
     ]
    },
    {
     "name": "stderr",
     "output_type": "stream",
     "text": [
      "C:\\Users\\jmesi\\anaconda3\\Lib\\site-packages\\keras\\src\\ops\\nn.py:944: UserWarning: You are using a softmax over axis -1 of a tensor of shape (32, 1). This axis has size 1. The softmax operation will always return the value 1, which is likely not what you intended. Did you mean to use a sigmoid instead?\n",
      "  warnings.warn(\n"
     ]
    },
    {
     "name": "stdout",
     "output_type": "stream",
     "text": [
      "\u001b[1m144/144\u001b[0m \u001b[32m━━━━━━━━━━━━━━━━━━━━\u001b[0m\u001b[37m\u001b[0m \u001b[1m0s\u001b[0m 2ms/step\n"
     ]
    },
    {
     "name": "stderr",
     "output_type": "stream",
     "text": [
      "C:\\Users\\jmesi\\anaconda3\\Lib\\site-packages\\keras\\src\\ops\\nn.py:944: UserWarning: You are using a softmax over axis -1 of a tensor of shape (None, 1). This axis has size 1. The softmax operation will always return the value 1, which is likely not what you intended. Did you mean to use a sigmoid instead?\n",
      "  warnings.warn(\n"
     ]
    }
   ],
   "source": [
    "# Getting predictions from training RNN model\n",
    "\n",
    "y_pred_proba = model.predict(X_test)"
   ]
  },
  {
   "cell_type": "code",
   "execution_count": 258,
   "id": "84592120-d2e5-4c6b-a9c2-ec50cd72360a",
   "metadata": {},
   "outputs": [],
   "source": [
    "# Converting probabilities to binary predictions (0 or 1) \n",
    "\n",
    "y_pred_binary = (y_pred_proba > 0.5).astype(int)"
   ]
  },
  {
   "cell_type": "code",
   "execution_count": 262,
   "id": "ee2fec07-4f19-4dc6-a7e3-47a54d192978",
   "metadata": {},
   "outputs": [
    {
     "data": {
      "image/png": "[encoded data removed]",
      "text/plain": [
       "<Figure size 2500x1500 with 30 Axes>"
      ]
     },
     "metadata": {},
     "output_type": "display_data"
    }
   ],
   "source": [
    "figure, ax = plt.subplots(3, 5, figsize=(25, 15)) # 3 rows, 5 columns for 15 plots\n",
    "labels = ['Unpleasant', 'Pleasant']\n",
    "count = 0\n",
    "for i in range(3):\n",
    "    for j in range(5):\n",
    "        name = locations[count]\n",
    "\n",
    "        true_labels_for_station = y_test[:, count, 0]\n",
    "\n",
    "        predicted_labels_for_station = y_pred_binary[:, count, 0]\n",
    "\n",
    "        cm = confusion_matrix(true_labels_for_station, predicted_labels_for_station)\n",
    "\n",
    "        sns.heatmap(cm, annot=True, fmt='g', ax=ax[i,j], cmap='Blues');\n",
    "        \n",
    "        ax[i,j].set_xlabel('Predicted labels');\n",
    "        ax[i,j].set_ylabel('True labels'); \n",
    "        ax[i,j].set_title(name + ' Matrix'); \n",
    "        ax[i,j].xaxis.set_ticklabels(labels);\n",
    "        ax[i,j].yaxis.set_ticklabels(labels);\n",
    "        \n",
    "        count += 1\n",
    "\n",
    "plt.tight_layout()\n",
    "plt.savefig(\"ML2_2.2_Confusion_Matrix_RNN_Per_Station.png\")\n",
    "plt.show()"
   ]
  },
  {
   "cell_type": "markdown",
   "id": "bb18a147-1ca5-4c70-86ab-640caae1e2c2",
   "metadata": {},
   "source": [
    "###### This multi-confusion matrix presents very odd. This is exclusively predicting unpleasant days (unpleasant,pleasant) over pleasant days (pleasant,pleasant). This could be derived from the pleasant data set having mostly 0s or unpleasant weather over 1s or pleasant weather. "
   ]
  }
 ],
 "metadata": {
  "kernelspec": {
   "display_name": "Python [conda env:base] *",
   "language": "python",
   "name": "conda-base-py"
  },
  "language_info": {
   "codemirror_mode": {
    "name": "ipython",
    "version": 3
   },
   "file_extension": ".py",
   "mimetype": "text/x-python",
   "name": "python",
   "nbconvert_exporter": "python",
   "pygments_lexer": "ipython3",
   "version": "3.12.7"
  }
 },
 "nbformat": 4,
 "nbformat_minor": 5
}
