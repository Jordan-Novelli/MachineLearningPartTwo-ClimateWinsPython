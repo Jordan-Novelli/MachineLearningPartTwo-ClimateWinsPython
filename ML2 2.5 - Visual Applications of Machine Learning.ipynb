{
 "cells": [
  {
   "cell_type": "markdown",
   "id": "fbec4c43-106b-42c0-9e37-92250fb3a8e0",
   "metadata": {},
   "source": [
    "# ML2 2.5 - Visual Applications of Machine Learning"
   ]
  },
  {
   "cell_type": "markdown",
   "id": "60b4a8aa-84aa-4834-a885-e18394bb3c22",
   "metadata": {},
   "source": [
    "### This script contains the following:\n",
    "\n",
    "#### 1. Importing Libraries\n",
    "#### 2. Handwriting Recognition\n",
    "        Practice\n",
    "        Using Personal Handwritten Numbers\n",
    "            Importing Handwritten Numbers\n",
    "        GreyScale and Resizing Images 0-9\n",
    "        Predicting the Class\n",
    "#### 3. Radar Recognition\n",
    "        Import new libraries\n",
    "        Setting up Radar Recognition\n"
   ]
  },
  {
   "cell_type": "markdown",
   "id": "a5a7331c-75fa-4812-b779-468cc6137443",
   "metadata": {},
   "source": [
    "### 1. Importing Libraries"
   ]
  },
  {
   "cell_type": "code",
   "execution_count": 1,
   "id": "9b35b515-1f8a-4cdc-9767-000eb02e8477",
   "metadata": {},
   "outputs": [],
   "source": [
    "# Importing Libraries\n",
    "\n",
    "import pandas as pd\n",
    "import numpy as np\n",
    "import seaborn as sns\n",
    "import os\n",
    "import operator\n",
    "import matplotlib.pyplot as plt\n",
    "from sklearn.preprocessing import LabelEncoder\n",
    "from sklearn.metrics import confusion_matrix\n",
    "import tensorflow as tf\n",
    "from numpy import unique\n",
    "from numpy import reshape\n",
    "from keras.models import Sequential\n",
    "from keras.layers import Conv1D, Conv2D, Dense, BatchNormalization, Flatten, MaxPooling2D, Activation\n",
    "from keras.layers import Dense, Dropout\n",
    "from tensorflow.keras.utils import to_categorical\n",
    "from keras.datasets import mnist\n",
    "from numpy import argmax\n",
    "from PIL import Image\n",
    "from numpy import asarray"
   ]
  },
  {
   "cell_type": "code",
   "execution_count": 3,
   "id": "40d7bb89-235e-40c4-ab95-ca2ec5398da1",
   "metadata": {},
   "outputs": [],
   "source": [
    "# Creating Path\n",
    "\n",
    "path = r'D:\\Career Foundry\\3) Data Specialization\\Machine Learning with Python\\Achievement 2 - Real-World Application of Machine Learning'"
   ]
  },
  {
   "cell_type": "code",
   "execution_count": 5,
   "id": "c9991572-4a5a-4888-bd62-cb578f7b9e04",
   "metadata": {},
   "outputs": [
    {
     "data": {
      "text/plain": [
       "'D:\\\\Career Foundry\\\\3) Data Specialization\\\\Machine Learning with Python\\\\Achievement 2 - Real-World Application of Machine Learning'"
      ]
     },
     "execution_count": 5,
     "metadata": {},
     "output_type": "execute_result"
    }
   ],
   "source": [
    "path"
   ]
  },
  {
   "cell_type": "markdown",
   "id": "9b5b62ab-1876-4998-8da7-e906d91860cf",
   "metadata": {},
   "source": [
    "### 2. Handwriting Recognition"
   ]
  },
  {
   "cell_type": "markdown",
   "id": "0ccf00b9-2021-4b5e-b4e1-9d900d9199f3",
   "metadata": {
    "jp-MarkdownHeadingCollapsed": true
   },
   "source": [
    "#### Practice"
   ]
  },
  {
   "cell_type": "code",
   "execution_count": 13,
   "id": "9e6d9f31-a76f-47f4-ba5f-56b705d445a1",
   "metadata": {},
   "outputs": [],
   "source": [
    "tf.random.set_seed(42)"
   ]
  },
  {
   "cell_type": "code",
   "execution_count": 15,
   "id": "3ee6d2c6-7d49-44b1-88dd-4feb8f261019",
   "metadata": {},
   "outputs": [
    {
     "name": "stdout",
     "output_type": "stream",
     "text": [
      "Downloading data from https://storage.googleapis.com/tensorflow/tf-keras-datasets/mnist.npz\n",
      "\u001b[1m11490434/11490434\u001b[0m \u001b[32m━━━━━━━━━━━━━━━━━━━━\u001b[0m\u001b[37m\u001b[0m \u001b[1m1s\u001b[0m 0us/step\n"
     ]
    }
   ],
   "source": [
    "hand = mnist.load_data()"
   ]
  },
  {
   "cell_type": "code",
   "execution_count": 17,
   "id": "12edfb58-94f3-4d3f-993c-031ef2d01b3c",
   "metadata": {},
   "outputs": [
    {
     "data": {
      "text/plain": [
       "(array([[[0, 0, 0, ..., 0, 0, 0],\n",
       "         [0, 0, 0, ..., 0, 0, 0],\n",
       "         [0, 0, 0, ..., 0, 0, 0],\n",
       "         ...,\n",
       "         [0, 0, 0, ..., 0, 0, 0],\n",
       "         [0, 0, 0, ..., 0, 0, 0],\n",
       "         [0, 0, 0, ..., 0, 0, 0]],\n",
       " \n",
       "        [[0, 0, 0, ..., 0, 0, 0],\n",
       "         [0, 0, 0, ..., 0, 0, 0],\n",
       "         [0, 0, 0, ..., 0, 0, 0],\n",
       "         ...,\n",
       "         [0, 0, 0, ..., 0, 0, 0],\n",
       "         [0, 0, 0, ..., 0, 0, 0],\n",
       "         [0, 0, 0, ..., 0, 0, 0]],\n",
       " \n",
       "        [[0, 0, 0, ..., 0, 0, 0],\n",
       "         [0, 0, 0, ..., 0, 0, 0],\n",
       "         [0, 0, 0, ..., 0, 0, 0],\n",
       "         ...,\n",
       "         [0, 0, 0, ..., 0, 0, 0],\n",
       "         [0, 0, 0, ..., 0, 0, 0],\n",
       "         [0, 0, 0, ..., 0, 0, 0]],\n",
       " \n",
       "        ...,\n",
       " \n",
       "        [[0, 0, 0, ..., 0, 0, 0],\n",
       "         [0, 0, 0, ..., 0, 0, 0],\n",
       "         [0, 0, 0, ..., 0, 0, 0],\n",
       "         ...,\n",
       "         [0, 0, 0, ..., 0, 0, 0],\n",
       "         [0, 0, 0, ..., 0, 0, 0],\n",
       "         [0, 0, 0, ..., 0, 0, 0]],\n",
       " \n",
       "        [[0, 0, 0, ..., 0, 0, 0],\n",
       "         [0, 0, 0, ..., 0, 0, 0],\n",
       "         [0, 0, 0, ..., 0, 0, 0],\n",
       "         ...,\n",
       "         [0, 0, 0, ..., 0, 0, 0],\n",
       "         [0, 0, 0, ..., 0, 0, 0],\n",
       "         [0, 0, 0, ..., 0, 0, 0]],\n",
       " \n",
       "        [[0, 0, 0, ..., 0, 0, 0],\n",
       "         [0, 0, 0, ..., 0, 0, 0],\n",
       "         [0, 0, 0, ..., 0, 0, 0],\n",
       "         ...,\n",
       "         [0, 0, 0, ..., 0, 0, 0],\n",
       "         [0, 0, 0, ..., 0, 0, 0],\n",
       "         [0, 0, 0, ..., 0, 0, 0]]], dtype=uint8),\n",
       " array([5, 0, 4, ..., 5, 6, 8], dtype=uint8))"
      ]
     },
     "execution_count": 17,
     "metadata": {},
     "output_type": "execute_result"
    }
   ],
   "source": [
    "hand[0]"
   ]
  },
  {
   "cell_type": "code",
   "execution_count": 19,
   "id": "8f2b2aab-b120-4642-979c-ae198e43f258",
   "metadata": {},
   "outputs": [],
   "source": [
    "(X_train, y_train), (X_test, y_test) = hand"
   ]
  },
  {
   "cell_type": "code",
   "execution_count": 21,
   "id": "6dc117bc-86da-4708-a9af-61f53f4b42ae",
   "metadata": {},
   "outputs": [],
   "source": [
    "np.set_printoptions(edgeitems=3)\n",
    "np.core.arrayprint._line_width = 180000"
   ]
  },
  {
   "cell_type": "code",
   "execution_count": 23,
   "id": "799f67de-eb4e-447c-906e-e84e9c80f962",
   "metadata": {},
   "outputs": [
    {
     "data": {
      "text/plain": [
       "array([[  0,   0,   0,   0,   0,   0,   0,   0,   0,   0,   0,   0,   0,\n",
       "          0,   0,   0,   0,   0,   0,   0,   0,   0,   0,   0,   0,   0,\n",
       "          0,   0],\n",
       "       [  0,   0,   0,   0,   0,   0,   0,   0,   0,   0,   0,   0,   0,\n",
       "          0,   0,   0,   0,   0,   0,   0,   0,   0,   0,   0,   0,   0,\n",
       "          0,   0],\n",
       "       [  0,   0,   0,   0,   0,   0,   0,   0,   0,   0,   0,   0,   0,\n",
       "          0,   0,   0,   0,   0,   0,   0,   0,   0,   0,   0,   0,   0,\n",
       "          0,   0],\n",
       "       [  0,   0,   0,   0,   0,   0,   0,   0,   0,   0,   0,   0,   0,\n",
       "          0,   0,   0,   0,   0,   0,   0,   0,   0,   0,   0,   0,   0,\n",
       "          0,   0],\n",
       "       [  0,   0,   0,   0,   0,   0,   0,   0,   0,   0,   0,   0,   0,\n",
       "          0,   0,   0,   0,   0,   0,   0,   0,   0,   0,   0,   0,   0,\n",
       "          0,   0],\n",
       "       [  0,   0,   0,   0,   0,   0,   0,   0,   0,   0,   0,   0,   3,\n",
       "         18,  18,  18, 126, 136, 175,  26, 166, 255, 247, 127,   0,   0,\n",
       "          0,   0],\n",
       "       [  0,   0,   0,   0,   0,   0,   0,   0,  30,  36,  94, 154, 170,\n",
       "        253, 253, 253, 253, 253, 225, 172, 253, 242, 195,  64,   0,   0,\n",
       "          0,   0],\n",
       "       [  0,   0,   0,   0,   0,   0,   0,  49, 238, 253, 253, 253, 253,\n",
       "        253, 253, 253, 253, 251,  93,  82,  82,  56,  39,   0,   0,   0,\n",
       "          0,   0],\n",
       "       [  0,   0,   0,   0,   0,   0,   0,  18, 219, 253, 253, 253, 253,\n",
       "        253, 198, 182, 247, 241,   0,   0,   0,   0,   0,   0,   0,   0,\n",
       "          0,   0],\n",
       "       [  0,   0,   0,   0,   0,   0,   0,   0,  80, 156, 107, 253, 253,\n",
       "        205,  11,   0,  43, 154,   0,   0,   0,   0,   0,   0,   0,   0,\n",
       "          0,   0],\n",
       "       [  0,   0,   0,   0,   0,   0,   0,   0,   0,  14,   1, 154, 253,\n",
       "         90,   0,   0,   0,   0,   0,   0,   0,   0,   0,   0,   0,   0,\n",
       "          0,   0],\n",
       "       [  0,   0,   0,   0,   0,   0,   0,   0,   0,   0,   0, 139, 253,\n",
       "        190,   2,   0,   0,   0,   0,   0,   0,   0,   0,   0,   0,   0,\n",
       "          0,   0],\n",
       "       [  0,   0,   0,   0,   0,   0,   0,   0,   0,   0,   0,  11, 190,\n",
       "        253,  70,   0,   0,   0,   0,   0,   0,   0,   0,   0,   0,   0,\n",
       "          0,   0],\n",
       "       [  0,   0,   0,   0,   0,   0,   0,   0,   0,   0,   0,   0,  35,\n",
       "        241, 225, 160, 108,   1,   0,   0,   0,   0,   0,   0,   0,   0,\n",
       "          0,   0],\n",
       "       [  0,   0,   0,   0,   0,   0,   0,   0,   0,   0,   0,   0,   0,\n",
       "         81, 240, 253, 253, 119,  25,   0,   0,   0,   0,   0,   0,   0,\n",
       "          0,   0],\n",
       "       [  0,   0,   0,   0,   0,   0,   0,   0,   0,   0,   0,   0,   0,\n",
       "          0,  45, 186, 253, 253, 150,  27,   0,   0,   0,   0,   0,   0,\n",
       "          0,   0],\n",
       "       [  0,   0,   0,   0,   0,   0,   0,   0,   0,   0,   0,   0,   0,\n",
       "          0,   0,  16,  93, 252, 253, 187,   0,   0,   0,   0,   0,   0,\n",
       "          0,   0],\n",
       "       [  0,   0,   0,   0,   0,   0,   0,   0,   0,   0,   0,   0,   0,\n",
       "          0,   0,   0,   0, 249, 253, 249,  64,   0,   0,   0,   0,   0,\n",
       "          0,   0],\n",
       "       [  0,   0,   0,   0,   0,   0,   0,   0,   0,   0,   0,   0,   0,\n",
       "          0,  46, 130, 183, 253, 253, 207,   2,   0,   0,   0,   0,   0,\n",
       "          0,   0],\n",
       "       [  0,   0,   0,   0,   0,   0,   0,   0,   0,   0,   0,   0,  39,\n",
       "        148, 229, 253, 253, 253, 250, 182,   0,   0,   0,   0,   0,   0,\n",
       "          0,   0],\n",
       "       [  0,   0,   0,   0,   0,   0,   0,   0,   0,   0,  24, 114, 221,\n",
       "        253, 253, 253, 253, 201,  78,   0,   0,   0,   0,   0,   0,   0,\n",
       "          0,   0],\n",
       "       [  0,   0,   0,   0,   0,   0,   0,   0,  23,  66, 213, 253, 253,\n",
       "        253, 253, 198,  81,   2,   0,   0,   0,   0,   0,   0,   0,   0,\n",
       "          0,   0],\n",
       "       [  0,   0,   0,   0,   0,   0,  18, 171, 219, 253, 253, 253, 253,\n",
       "        195,  80,   9,   0,   0,   0,   0,   0,   0,   0,   0,   0,   0,\n",
       "          0,   0],\n",
       "       [  0,   0,   0,   0,  55, 172, 226, 253, 253, 253, 253, 244, 133,\n",
       "         11,   0,   0,   0,   0,   0,   0,   0,   0,   0,   0,   0,   0,\n",
       "          0,   0],\n",
       "       [  0,   0,   0,   0, 136, 253, 253, 253, 212, 135, 132,  16,   0,\n",
       "          0,   0,   0,   0,   0,   0,   0,   0,   0,   0,   0,   0,   0,\n",
       "          0,   0],\n",
       "       [  0,   0,   0,   0,   0,   0,   0,   0,   0,   0,   0,   0,   0,\n",
       "          0,   0,   0,   0,   0,   0,   0,   0,   0,   0,   0,   0,   0,\n",
       "          0,   0],\n",
       "       [  0,   0,   0,   0,   0,   0,   0,   0,   0,   0,   0,   0,   0,\n",
       "          0,   0,   0,   0,   0,   0,   0,   0,   0,   0,   0,   0,   0,\n",
       "          0,   0],\n",
       "       [  0,   0,   0,   0,   0,   0,   0,   0,   0,   0,   0,   0,   0,\n",
       "          0,   0,   0,   0,   0,   0,   0,   0,   0,   0,   0,   0,   0,\n",
       "          0,   0]], dtype=uint8)"
      ]
     },
     "execution_count": 23,
     "metadata": {},
     "output_type": "execute_result"
    }
   ],
   "source": [
    "X_train[0]"
   ]
  },
  {
   "cell_type": "code",
   "execution_count": 25,
   "id": "9ad0de38-e783-4ced-b722-45a773132903",
   "metadata": {},
   "outputs": [
    {
     "name": "stdout",
     "output_type": "stream",
     "text": [
      "(60000, 28, 28) (60000,)\n",
      "(10000, 28, 28) (10000,)\n"
     ]
    }
   ],
   "source": [
    "print(X_train.shape, y_train.shape)\n",
    "print(X_test.shape, y_test.shape)"
   ]
  },
  {
   "cell_type": "code",
   "execution_count": 27,
   "id": "1b5e9477-b831-4453-b7a8-35584f89e7ae",
   "metadata": {},
   "outputs": [
    {
     "data": {
      "text/plain": [
       "array([5, 0, 4, ..., 5, 6, 8], dtype=uint8)"
      ]
     },
     "execution_count": 27,
     "metadata": {},
     "output_type": "execute_result"
    }
   ],
   "source": [
    "y_train"
   ]
  },
  {
   "cell_type": "code",
   "execution_count": 29,
   "id": "e69e346b-af1c-452e-addc-41bc245d0181",
   "metadata": {},
   "outputs": [
    {
     "data": {
      "text/plain": [
       "<matplotlib.image.AxesImage at 0x223191d7800>"
      ]
     },
     "execution_count": 29,
     "metadata": {},
     "output_type": "execute_result"
    },
    {
     "data": {
      "image/png": "[encoded data removed]",
      "text/plain": [
       "<Figure size 640x480 with 1 Axes>"
      ]
     },
     "metadata": {},
     "output_type": "display_data"
    }
   ],
   "source": [
    "# Showing the images in the database\n",
    "\n",
    "plt.imshow(X_train[0])"
   ]
  },
  {
   "cell_type": "code",
   "execution_count": 31,
   "id": "bfa408b9-6bec-4d9e-80f9-947da767cada",
   "metadata": {},
   "outputs": [
    {
     "data": {
      "image/png": "[encoded data removed]",
      "text/plain": [
       "<Figure size 750x1000 with 25 Axes>"
      ]
     },
     "metadata": {},
     "output_type": "display_data"
    }
   ],
   "source": [
    "num = 25\n",
    "images = X_train[:num]\n",
    "labels = y_train[:num]\n",
    "\n",
    "num_row = 5\n",
    "num_col = 5\n",
    "# plot images\n",
    "fig, axes = plt.subplots(num_row, num_col, figsize=(1.5*num_col,2*num_row))\n",
    "for i in range(num):\n",
    "    ax = axes[i//num_col, i%num_col]\n",
    "    ax.imshow(images[i])#, cmap='gray')\n",
    "    ax.set_title('Label: {}'.format(labels[i]))\n",
    "plt.tight_layout()\n",
    "plt.show()"
   ]
  },
  {
   "cell_type": "code",
   "execution_count": 33,
   "id": "5bf9be76-6adb-497f-aefa-5425155e01c0",
   "metadata": {},
   "outputs": [],
   "source": [
    "# Preprocess input data\n",
    "\n",
    "X_train = X_train.reshape(X_train.shape[0], 28, 28, 1)\n",
    "X_test = X_test.reshape(X_test.shape[0], 28, 28, 1)"
   ]
  },
  {
   "cell_type": "code",
   "execution_count": 35,
   "id": "49b04cde-ba76-43a9-af32-f2ac1c8655f5",
   "metadata": {},
   "outputs": [],
   "source": [
    "# Converting data into floats, for decimal implementation\n",
    "\n",
    "X_train = X_train.astype('float32')\n",
    "X_test = X_test.astype('float32')"
   ]
  },
  {
   "cell_type": "code",
   "execution_count": 37,
   "id": "b367c24b-d260-4a12-ae0a-965ad9e76576",
   "metadata": {},
   "outputs": [],
   "source": [
    "# Dividing by 255 because RGB have 255 values\n",
    "\n",
    "X_train /= 255\n",
    "X_test /= 255"
   ]
  },
  {
   "cell_type": "code",
   "execution_count": 41,
   "id": "07f0ba79-449a-4610-ad33-3986c330af60",
   "metadata": {},
   "outputs": [],
   "source": [
    "#  Preprocess class labels (changing to one-hot encoding)\n",
    "\n",
    "Y_train = to_categorical(y_train, 10)\n",
    "Y_test = to_categorical(y_test, 10)"
   ]
  },
  {
   "cell_type": "code",
   "execution_count": 43,
   "id": "5ef5826f-fcba-4256-9eca-ebeaf67328eb",
   "metadata": {},
   "outputs": [
    {
     "data": {
      "text/plain": [
       "array([[0., 0., 0., ..., 0., 0., 0.],\n",
       "       [1., 0., 0., ..., 0., 0., 0.],\n",
       "       [0., 0., 0., ..., 0., 0., 0.],\n",
       "       ...,\n",
       "       [0., 0., 0., ..., 0., 0., 0.],\n",
       "       [0., 0., 0., ..., 0., 0., 0.],\n",
       "       [0., 0., 0., ..., 0., 1., 0.]])"
      ]
     },
     "execution_count": 43,
     "metadata": {},
     "output_type": "execute_result"
    }
   ],
   "source": [
    "Y_train"
   ]
  },
  {
   "cell_type": "code",
   "execution_count": 45,
   "id": "67bf0c75-a3a6-4143-8e9d-e1b941a52394",
   "metadata": {},
   "outputs": [
    {
     "name": "stdout",
     "output_type": "stream",
     "text": [
      "label:  0  in one-hot representation:  [0 0 0 0 0 1 0 0 0 0]\n",
      "label:  1  in one-hot representation:  [1 0 0 0 0 0 0 0 0 0]\n",
      "label:  2  in one-hot representation:  [0 0 0 0 1 0 0 0 0 0]\n",
      "label:  3  in one-hot representation:  [0 1 0 0 0 0 0 0 0 0]\n",
      "label:  4  in one-hot representation:  [0 0 0 0 0 0 0 0 0 1]\n",
      "label:  5  in one-hot representation:  [0 0 1 0 0 0 0 0 0 0]\n",
      "label:  6  in one-hot representation:  [0 1 0 0 0 0 0 0 0 0]\n",
      "label:  7  in one-hot representation:  [0 0 0 1 0 0 0 0 0 0]\n",
      "label:  8  in one-hot representation:  [0 1 0 0 0 0 0 0 0 0]\n",
      "label:  9  in one-hot representation:  [0 0 0 0 1 0 0 0 0 0]\n"
     ]
    }
   ],
   "source": [
    "for label in range(10):\n",
    "    one_hot = (Y_train[label]).astype(np.int32)\n",
    "    print(\"label: \", label, \" in one-hot representation: \", one_hot)"
   ]
  },
  {
   "cell_type": "code",
   "execution_count": 51,
   "id": "79daaf49-7f4b-4361-882e-2528b732eb8f",
   "metadata": {},
   "outputs": [],
   "source": [
    "epochs = 30\n",
    "batch_size = 16\n",
    "n_hidden = 32\n",
    "\n",
    "#timesteps = len(X_train[0])\n",
    "#input_dim = len(X_train[0][0])\n",
    "#n_classes = _count_classes(Y_train)\n",
    "\n",
    "# Define model architecture\n",
    "model = Sequential()\n",
    " \n",
    "model.add(Conv2D(32, (3,3), activation='relu', input_shape=(28,28,1)))\n",
    "model.add(Conv2D(32, (3,3), activation='relu'))\n",
    "model.add(MaxPooling2D(pool_size=(2,2)))\n",
    "model.add(Dropout(0.25))\n",
    " \n",
    "model.add(Flatten())\n",
    "model.add(Dense(128, activation='relu'))\n",
    "model.add(Dropout(0.5))\n",
    "model.add(Dense(10, activation='softmax'))\n",
    " \n",
    "# Compile model\n",
    "model.compile(loss='categorical_crossentropy', optimizer='adam', metrics=['accuracy'])"
   ]
  },
  {
   "cell_type": "code",
   "execution_count": 53,
   "id": "b3a11458-9d2b-4c61-bb12-0bb44403e568",
   "metadata": {},
   "outputs": [
    {
     "name": "stdout",
     "output_type": "stream",
     "text": [
      "Epoch 1/10\n",
      "\u001b[1m1875/1875\u001b[0m \u001b[32m━━━━━━━━━━━━━━━━━━━━\u001b[0m\u001b[37m\u001b[0m \u001b[1m7s\u001b[0m 3ms/step - accuracy: 0.8745 - loss: 0.3954\n",
      "Epoch 2/10\n",
      "\u001b[1m1875/1875\u001b[0m \u001b[32m━━━━━━━━━━━━━━━━━━━━\u001b[0m\u001b[37m\u001b[0m \u001b[1m6s\u001b[0m 3ms/step - accuracy: 0.9731 - loss: 0.0905\n",
      "Epoch 3/10\n",
      "\u001b[1m1875/1875\u001b[0m \u001b[32m━━━━━━━━━━━━━━━━━━━━\u001b[0m\u001b[37m\u001b[0m \u001b[1m6s\u001b[0m 3ms/step - accuracy: 0.9793 - loss: 0.0688\n",
      "Epoch 4/10\n",
      "\u001b[1m1875/1875\u001b[0m \u001b[32m━━━━━━━━━━━━━━━━━━━━\u001b[0m\u001b[37m\u001b[0m \u001b[1m6s\u001b[0m 3ms/step - accuracy: 0.9827 - loss: 0.0561\n",
      "Epoch 5/10\n",
      "\u001b[1m1875/1875\u001b[0m \u001b[32m━━━━━━━━━━━━━━━━━━━━\u001b[0m\u001b[37m\u001b[0m \u001b[1m6s\u001b[0m 3ms/step - accuracy: 0.9852 - loss: 0.0483\n",
      "Epoch 6/10\n",
      "\u001b[1m1875/1875\u001b[0m \u001b[32m━━━━━━━━━━━━━━━━━━━━\u001b[0m\u001b[37m\u001b[0m \u001b[1m6s\u001b[0m 3ms/step - accuracy: 0.9875 - loss: 0.0418\n",
      "Epoch 7/10\n",
      "\u001b[1m1875/1875\u001b[0m \u001b[32m━━━━━━━━━━━━━━━━━━━━\u001b[0m\u001b[37m\u001b[0m \u001b[1m6s\u001b[0m 3ms/step - accuracy: 0.9888 - loss: 0.0402\n",
      "Epoch 8/10\n",
      "\u001b[1m1875/1875\u001b[0m \u001b[32m━━━━━━━━━━━━━━━━━━━━\u001b[0m\u001b[37m\u001b[0m \u001b[1m6s\u001b[0m 3ms/step - accuracy: 0.9893 - loss: 0.0354\n",
      "Epoch 9/10\n",
      "\u001b[1m1875/1875\u001b[0m \u001b[32m━━━━━━━━━━━━━━━━━━━━\u001b[0m\u001b[37m\u001b[0m \u001b[1m6s\u001b[0m 3ms/step - accuracy: 0.9905 - loss: 0.0293\n",
      "Epoch 10/10\n",
      "\u001b[1m1875/1875\u001b[0m \u001b[32m━━━━━━━━━━━━━━━━━━━━\u001b[0m\u001b[37m\u001b[0m \u001b[1m6s\u001b[0m 3ms/step - accuracy: 0.9912 - loss: 0.0268\n"
     ]
    },
    {
     "data": {
      "text/plain": [
       "<keras.src.callbacks.history.History at 0x2231b50d160>"
      ]
     },
     "execution_count": 53,
     "metadata": {},
     "output_type": "execute_result"
    }
   ],
   "source": [
    "# Fit model on training data\n",
    "\n",
    "model.fit(X_train, Y_train, batch_size=32, epochs=10, verbose=1)"
   ]
  },
  {
   "cell_type": "code",
   "execution_count": 55,
   "id": "34f76ec5-b29c-449e-b9eb-459c6dc6ca31",
   "metadata": {},
   "outputs": [
    {
     "name": "stdout",
     "output_type": "stream",
     "text": [
      "313/313 - 0s - 1ms/step - accuracy: 0.9901 - loss: 0.0377\n"
     ]
    }
   ],
   "source": [
    "# Evaluate model on test data\n",
    "\n",
    "score = model.evaluate(X_test, Y_test, verbose=2)"
   ]
  },
  {
   "cell_type": "code",
   "execution_count": 57,
   "id": "bca8bf04-9b8d-4fd9-8b02-177f765b04ba",
   "metadata": {},
   "outputs": [
    {
     "name": "stdout",
     "output_type": "stream",
     "text": [
      "\u001b[1m1/1\u001b[0m \u001b[32m━━━━━━━━━━━━━━━━━━━━\u001b[0m\u001b[37m\u001b[0m \u001b[1m0s\u001b[0m 39ms/step\n"
     ]
    },
    {
     "data": {
      "text/plain": [
       "array([[1.18850869e-14, 4.52472920e-11, 4.57712712e-09, 1.04323654e-07,\n",
       "        2.28293513e-12, 2.11277054e-13, 1.83228115e-20, 9.99999881e-01,\n",
       "        8.28766255e-13, 3.88041776e-09],\n",
       "       [2.45749466e-13, 4.46357664e-12, 1.00000000e+00, 2.03022812e-17,\n",
       "        2.45014496e-18, 4.85335115e-24, 3.67239442e-12, 2.89348109e-18,\n",
       "        3.97527906e-18, 3.34104772e-21],\n",
       "       [2.32982550e-10, 9.99999881e-01, 1.53241846e-08, 1.25291874e-10,\n",
       "        1.18838086e-08, 3.74758935e-09, 3.87343242e-08, 3.64976245e-08,\n",
       "        9.04171316e-08, 3.63558716e-09],\n",
       "       [9.99997735e-01, 1.92283429e-12, 1.56979249e-10, 3.10331925e-12,\n",
       "        1.14771317e-11, 2.71677431e-10, 2.31500348e-06, 2.00032890e-11,\n",
       "        7.77925224e-11, 2.93967606e-09]], dtype=float32)"
      ]
     },
     "execution_count": 57,
     "metadata": {},
     "output_type": "execute_result"
    }
   ],
   "source": [
    "# Predict first 4 images in the test set\n",
    "\n",
    "model.predict(X_test[:4])"
   ]
  },
  {
   "cell_type": "code",
   "execution_count": 59,
   "id": "96790414-bafa-4e89-85b7-5a97a80f3e8a",
   "metadata": {},
   "outputs": [
    {
     "name": "stdout",
     "output_type": "stream",
     "text": [
      "\u001b[1m1/1\u001b[0m \u001b[32m━━━━━━━━━━━━━━━━━━━━\u001b[0m\u001b[37m\u001b[0m \u001b[1m0s\u001b[0m 19ms/step\n"
     ]
    },
    {
     "data": {
      "text/plain": [
       "array([1.       , 1.       , 1.0000001, 1.       ], dtype=float32)"
      ]
     },
     "execution_count": 59,
     "metadata": {},
     "output_type": "execute_result"
    }
   ],
   "source": [
    "sumarray = np.sum(model.predict(X_test[:4]), axis=1)\n",
    "sumarray"
   ]
  },
  {
   "cell_type": "code",
   "execution_count": 61,
   "id": "8a103ec1-aff0-4f75-a79e-a1b726dcc2f2",
   "metadata": {},
   "outputs": [
    {
     "data": {
      "text/plain": [
       "array([7, 2, 1, 0], dtype=uint8)"
      ]
     },
     "execution_count": 61,
     "metadata": {},
     "output_type": "execute_result"
    }
   ],
   "source": [
    "# Actual results for first 4 images in test set\n",
    "\n",
    "y_test[:4]"
   ]
  },
  {
   "cell_type": "code",
   "execution_count": 63,
   "id": "7f8279be-debe-4ce5-a40e-e65467daff83",
   "metadata": {},
   "outputs": [
    {
     "name": "stdout",
     "output_type": "stream",
     "text": [
      "\u001b[1m313/313\u001b[0m \u001b[32m━━━━━━━━━━━━━━━━━━━━\u001b[0m\u001b[37m\u001b[0m \u001b[1m0s\u001b[0m 1ms/step\n",
      "[[ 974    0    0    0    0    0    4    0    1    1]\n",
      " [   0 1131    1    0    0    1    1    0    1    0]\n",
      " [   1    3 1022    2    0    0    0    4    0    0]\n",
      " [   0    0    1 1006    0    2    0    0    1    0]\n",
      " [   0    0    1    0  969    0    3    0    3    6]\n",
      " [   0    0    1    4    0  885    2    0    0    0]\n",
      " [   2    1    0    1    1    3  949    0    1    0]\n",
      " [   0    1    7    0    1    0    0 1017    1    1]\n",
      " [   1    1    1    1    0    0    0    1  968    1]\n",
      " [   0    1    0    4    2   12    1    4    5  980]]\n"
     ]
    }
   ],
   "source": [
    "test_predictions = model.predict(X_test)\n",
    "cm = confusion_matrix(y_test, np.argmax(test_predictions,axis=1))\n",
    "print(cm)"
   ]
  },
  {
   "cell_type": "markdown",
   "id": "8748a015-4177-4f2d-995f-309a471f3720",
   "metadata": {},
   "source": [
    "#### Using Personal Handwritten Numbers"
   ]
  },
  {
   "cell_type": "markdown",
   "id": "f29de2cd-3988-432a-9eef-cd69c11547ba",
   "metadata": {},
   "source": [
    "##### Importing my personal handwritten numbers 0-9"
   ]
  },
  {
   "cell_type": "code",
   "execution_count": 562,
   "id": "9a3cf130-050d-477a-bacf-ba19ca1f9042",
   "metadata": {},
   "outputs": [
    {
     "name": "stdout",
     "output_type": "stream",
     "text": [
      "PNG\n",
      "(261, 211)\n",
      "RGBA\n"
     ]
    },
    {
     "data": {
      "image/png": "[encoded data removed]",
      "text/plain": [
       "<PIL.PngImagePlugin.PngImageFile image mode=RGBA size=261x211>"
      ]
     },
     "execution_count": 562,
     "metadata": {},
     "output_type": "execute_result"
    }
   ],
   "source": [
    "img0 = Image.open(os.path.join(path, 'ClimateWins', 'Python Numbers', 'Number 0.png'))\n",
    "print(img0.format)\n",
    "print(img0.size)\n",
    "print(img0.mode)\n",
    "img0"
   ]
  },
  {
   "cell_type": "code",
   "execution_count": 564,
   "id": "67fe312b-c37f-46ca-a889-d6b0e16791d4",
   "metadata": {},
   "outputs": [
    {
     "name": "stdout",
     "output_type": "stream",
     "text": [
      "PNG\n",
      "(224, 202)\n",
      "RGBA\n"
     ]
    },
    {
     "data": {
      "image/png": "[encoded data removed]",
      "text/plain": [
       "<PIL.PngImagePlugin.PngImageFile image mode=RGBA size=224x202>"
      ]
     },
     "execution_count": 564,
     "metadata": {},
     "output_type": "execute_result"
    }
   ],
   "source": [
    "img1 = Image.open(os.path.join(path, 'ClimateWins', 'Python Numbers', 'Number 1.png'))\n",
    "print(img1.format)\n",
    "print(img1.size)\n",
    "print(img1.mode)\n",
    "img1"
   ]
  },
  {
   "cell_type": "code",
   "execution_count": 566,
   "id": "a09bb8bd-fe97-4a92-ad1b-5b8b221f1ac3",
   "metadata": {},
   "outputs": [
    {
     "name": "stdout",
     "output_type": "stream",
     "text": [
      "PNG\n",
      "(228, 222)\n",
      "RGBA\n"
     ]
    },
    {
     "data": {
      "image/png": "[encoded data removed]",
      "text/plain": [
       "<PIL.PngImagePlugin.PngImageFile image mode=RGBA size=228x222>"
      ]
     },
     "execution_count": 566,
     "metadata": {},
     "output_type": "execute_result"
    }
   ],
   "source": [
    "img2 = Image.open(os.path.join(path, 'ClimateWins', 'Python Numbers', 'Number 2.png'))\n",
    "print(img2.format)\n",
    "print(img2.size)\n",
    "print(img2.mode)\n",
    "img2"
   ]
  },
  {
   "cell_type": "code",
   "execution_count": 568,
   "id": "1c02fd1e-c9fe-4ccf-abe8-f247007dfec8",
   "metadata": {},
   "outputs": [
    {
     "name": "stdout",
     "output_type": "stream",
     "text": [
      "PNG\n",
      "(264, 232)\n",
      "RGBA\n"
     ]
    },
    {
     "data": {
      "image/png": "[encoded data removed]",
      "text/plain": [
       "<PIL.PngImagePlugin.PngImageFile image mode=RGBA size=264x232>"
      ]
     },
     "execution_count": 568,
     "metadata": {},
     "output_type": "execute_result"
    }
   ],
   "source": [
    "img3 = Image.open(os.path.join(path, 'ClimateWins', 'Python Numbers', 'Number 3.png'))\n",
    "print(img3.format)\n",
    "print(img3.size)\n",
    "print(img3.mode)\n",
    "img3"
   ]
  },
  {
   "cell_type": "code",
   "execution_count": 572,
   "id": "8a9ef4c2-0804-4eb5-8b3b-4438f3049cd2",
   "metadata": {},
   "outputs": [
    {
     "name": "stdout",
     "output_type": "stream",
     "text": [
      "PNG\n",
      "(237, 202)\n",
      "RGBA\n"
     ]
    },
    {
     "data": {
      "image/png": "[encoded data removed]",
      "text/plain": [
       "<PIL.PngImagePlugin.PngImageFile image mode=RGBA size=237x202>"
      ]
     },
     "execution_count": 572,
     "metadata": {},
     "output_type": "execute_result"
    }
   ],
   "source": [
    "img4 = Image.open(os.path.join(path, 'ClimateWins', 'Python Numbers', 'Number 4.png'))\n",
    "print(img4.format)\n",
    "print(img4.size)\n",
    "print(img4.mode)\n",
    "img4"
   ]
  },
  {
   "cell_type": "code",
   "execution_count": 574,
   "id": "60d7e1e4-fea6-4b42-afed-31971caeb349",
   "metadata": {},
   "outputs": [
    {
     "name": "stdout",
     "output_type": "stream",
     "text": [
      "PNG\n",
      "(236, 229)\n",
      "RGBA\n"
     ]
    },
    {
     "data": {
      "image/png": "[encoded data removed]",
      "text/plain": [
       "<PIL.PngImagePlugin.PngImageFile image mode=RGBA size=236x229>"
      ]
     },
     "execution_count": 574,
     "metadata": {},
     "output_type": "execute_result"
    }
   ],
   "source": [
    "img5 = Image.open(os.path.join(path, 'ClimateWins', 'Python Numbers', 'Number 5.png'))\n",
    "print(img5.format)\n",
    "print(img5.size)\n",
    "print(img5.mode)\n",
    "img5"
   ]
  },
  {
   "cell_type": "code",
   "execution_count": 576,
   "id": "2122145b-f8ea-45b7-8571-c899115eadc5",
   "metadata": {},
   "outputs": [
    {
     "name": "stdout",
     "output_type": "stream",
     "text": [
      "PNG\n",
      "(235, 205)\n",
      "RGBA\n"
     ]
    },
    {
     "data": {
      "image/png": "[encoded data removed]",
      "text/plain": [
       "<PIL.PngImagePlugin.PngImageFile image mode=RGBA size=235x205>"
      ]
     },
     "execution_count": 576,
     "metadata": {},
     "output_type": "execute_result"
    }
   ],
   "source": [
    "img6 = Image.open(os.path.join(path, 'ClimateWins', 'Python Numbers', 'Number 6.png'))\n",
    "print(img6.format)\n",
    "print(img6.size)\n",
    "print(img6.mode)\n",
    "img6"
   ]
  },
  {
   "cell_type": "code",
   "execution_count": 578,
   "id": "76018ad5-c99e-4252-8c98-2e66c30b133b",
   "metadata": {},
   "outputs": [
    {
     "name": "stdout",
     "output_type": "stream",
     "text": [
      "PNG\n",
      "(229, 264)\n",
      "RGBA\n"
     ]
    },
    {
     "data": {
      "image/png": "[encoded data removed]",
      "text/plain": [
       "<PIL.PngImagePlugin.PngImageFile image mode=RGBA size=229x264>"
      ]
     },
     "execution_count": 578,
     "metadata": {},
     "output_type": "execute_result"
    }
   ],
   "source": [
    "img7 = Image.open(os.path.join(path, 'ClimateWins', 'Python Numbers', 'Number 7.png'))\n",
    "print(img7.format)\n",
    "print(img7.size)\n",
    "print(img7.mode)\n",
    "img7"
   ]
  },
  {
   "cell_type": "code",
   "execution_count": 580,
   "id": "c3ebb0eb-3302-4267-8c8a-b9bdc80b51a3",
   "metadata": {},
   "outputs": [
    {
     "name": "stdout",
     "output_type": "stream",
     "text": [
      "PNG\n",
      "(257, 259)\n",
      "RGBA\n"
     ]
    },
    {
     "data": {
      "image/png": "[encoded data removed]",
      "text/plain": [
       "<PIL.PngImagePlugin.PngImageFile image mode=RGBA size=257x259>"
      ]
     },
     "execution_count": 580,
     "metadata": {},
     "output_type": "execute_result"
    }
   ],
   "source": [
    "img8 = Image.open(os.path.join(path, 'ClimateWins', 'Python Numbers', 'Number 8.png'))\n",
    "print(img8.format)\n",
    "print(img8.size)\n",
    "print(img8.mode)\n",
    "img8"
   ]
  },
  {
   "cell_type": "code",
   "execution_count": 582,
   "id": "e6cbb547-15eb-4fac-8a8b-65b2978155f9",
   "metadata": {},
   "outputs": [
    {
     "name": "stdout",
     "output_type": "stream",
     "text": [
      "PNG\n",
      "(300, 254)\n",
      "RGBA\n"
     ]
    },
    {
     "data": {
      "image/png": "[encoded data removed]",
      "text/plain": [
       "<PIL.PngImagePlugin.PngImageFile image mode=RGBA size=300x254>"
      ]
     },
     "execution_count": 582,
     "metadata": {},
     "output_type": "execute_result"
    }
   ],
   "source": [
    "img9 = Image.open(os.path.join(path, 'ClimateWins', 'Python Numbers', 'Number 9.png'))\n",
    "print(img9.format)\n",
    "print(img9.size)\n",
    "print(img9.mode)\n",
    "img9"
   ]
  },
  {
   "cell_type": "markdown",
   "id": "d334fce7-3dfd-4188-9886-a70e654e4c14",
   "metadata": {
    "jp-MarkdownHeadingCollapsed": true
   },
   "source": [
    "#### GreyScale and Resizing Images 0-9 "
   ]
  },
  {
   "cell_type": "markdown",
   "id": "2b216ef4-1cf8-4dae-bbfe-d94ac576c902",
   "metadata": {},
   "source": [
    "IMG0"
   ]
  },
  {
   "cell_type": "code",
   "execution_count": 528,
   "id": "d15569f5-ebfe-4970-93b8-aa1dfa7f9a47",
   "metadata": {},
   "outputs": [],
   "source": [
    "img0_size = img0.resize((28, 28))"
   ]
  },
  {
   "cell_type": "code",
   "execution_count": 530,
   "id": "c04b9c69-c3f6-4570-99a6-29f656200866",
   "metadata": {},
   "outputs": [],
   "source": [
    "img0_grey = img0_size.convert('L')"
   ]
  },
  {
   "cell_type": "code",
   "execution_count": 532,
   "id": "324f0381-75fd-4315-83b1-8f7c071782de",
   "metadata": {},
   "outputs": [],
   "source": [
    "img0_np = np.array(img0_grey)"
   ]
  },
  {
   "cell_type": "code",
   "execution_count": 534,
   "id": "339cc6d6-07f6-436c-98f7-1407cccffb95",
   "metadata": {},
   "outputs": [],
   "source": [
    "img0_np = img0_np / 255.0"
   ]
  },
  {
   "cell_type": "code",
   "execution_count": 536,
   "id": "fceb1c2c-a66f-4846-83be-4eeacd504be5",
   "metadata": {},
   "outputs": [],
   "source": [
    "img0_new = img0_np.reshape(1, 28, 28, 1)"
   ]
  },
  {
   "cell_type": "code",
   "execution_count": 538,
   "id": "45372e60-8815-4a75-a45f-bb09aa193e1e",
   "metadata": {},
   "outputs": [
    {
     "name": "stdout",
     "output_type": "stream",
     "text": [
      "(1, 28, 28, 1)\n"
     ]
    }
   ],
   "source": [
    "print(img0_new.shape)"
   ]
  },
  {
   "cell_type": "markdown",
   "id": "3f2b837f-cdf4-4aef-bdd5-67341460b165",
   "metadata": {},
   "source": [
    "IMG1"
   ]
  },
  {
   "cell_type": "code",
   "execution_count": 410,
   "id": "4719f920-cefe-46d7-8cde-a64b96102957",
   "metadata": {},
   "outputs": [],
   "source": [
    "img1_size = img1.resize((28, 28))"
   ]
  },
  {
   "cell_type": "code",
   "execution_count": 412,
   "id": "e12451fa-bc21-46ea-aa64-d78722a8d725",
   "metadata": {},
   "outputs": [],
   "source": [
    "img1_grey = img1_size.convert('L')"
   ]
  },
  {
   "cell_type": "code",
   "execution_count": 414,
   "id": "940107de-9cf0-4d12-8598-47e7e1f1316b",
   "metadata": {},
   "outputs": [],
   "source": [
    "img1_np = np.array(img1_grey)"
   ]
  },
  {
   "cell_type": "code",
   "execution_count": 416,
   "id": "7073589b-9ae3-4486-b1ae-3743ebc28bcd",
   "metadata": {},
   "outputs": [],
   "source": [
    "img1_np = img1_np / 255.0"
   ]
  },
  {
   "cell_type": "code",
   "execution_count": 418,
   "id": "4be3193f-05af-45c4-a3f0-32455bce4894",
   "metadata": {},
   "outputs": [],
   "source": [
    "img1_new = img1_np.reshape(1, 28, 28, 1)"
   ]
  },
  {
   "cell_type": "code",
   "execution_count": 420,
   "id": "910affb3-da0c-4506-a181-80811dce8b03",
   "metadata": {},
   "outputs": [
    {
     "name": "stdout",
     "output_type": "stream",
     "text": [
      "(1, 28, 28, 1)\n"
     ]
    }
   ],
   "source": [
    "print(img1_new.shape)"
   ]
  },
  {
   "cell_type": "markdown",
   "id": "c6936032-4e00-4f60-a543-33a80bb1058f",
   "metadata": {},
   "source": [
    "IMG2"
   ]
  },
  {
   "cell_type": "code",
   "execution_count": 422,
   "id": "6f12ab0f-991a-4817-bda6-1a7c6b0b5864",
   "metadata": {},
   "outputs": [],
   "source": [
    "img2_size = img2.resize((28, 28))"
   ]
  },
  {
   "cell_type": "code",
   "execution_count": 424,
   "id": "93af5fcd-f6ce-415e-9146-8eb533a4fbd8",
   "metadata": {},
   "outputs": [],
   "source": [
    "img2_grey = img2_size.convert('L')"
   ]
  },
  {
   "cell_type": "code",
   "execution_count": 426,
   "id": "74f17b5c-60b3-4946-b1ff-fc95dbaebe1e",
   "metadata": {},
   "outputs": [],
   "source": [
    "img2_np = np.array(img2_grey)"
   ]
  },
  {
   "cell_type": "code",
   "execution_count": 428,
   "id": "12f98119-f453-4295-997a-77a5009cfc6f",
   "metadata": {},
   "outputs": [],
   "source": [
    "img2_np = img2_np / 255.0"
   ]
  },
  {
   "cell_type": "code",
   "execution_count": 430,
   "id": "0a5996f5-92e6-42d1-b872-71770f854bb4",
   "metadata": {},
   "outputs": [],
   "source": [
    "img2_new = img2_np.reshape(1, 28, 28, 1)"
   ]
  },
  {
   "cell_type": "code",
   "execution_count": 432,
   "id": "0070d3a9-f9c0-4601-8b96-a8a13f04ca91",
   "metadata": {},
   "outputs": [
    {
     "name": "stdout",
     "output_type": "stream",
     "text": [
      "(1, 28, 28, 1)\n"
     ]
    }
   ],
   "source": [
    "print(img2_new.shape)"
   ]
  },
  {
   "cell_type": "markdown",
   "id": "388ab17d-0734-4e1b-b5db-6c89cb1357cd",
   "metadata": {},
   "source": [
    "IMG3"
   ]
  },
  {
   "cell_type": "code",
   "execution_count": 434,
   "id": "992da3df-2c05-4bc5-8d1e-24fde8f15cab",
   "metadata": {},
   "outputs": [],
   "source": [
    "img3_size = img3.resize((28, 28))"
   ]
  },
  {
   "cell_type": "code",
   "execution_count": 436,
   "id": "a3326650-e9cc-4f3b-9096-3ed60fb36743",
   "metadata": {},
   "outputs": [],
   "source": [
    "img3_grey = img3_size.convert('L')"
   ]
  },
  {
   "cell_type": "code",
   "execution_count": 438,
   "id": "7081c674-d936-46d7-83a0-9329d30a2081",
   "metadata": {},
   "outputs": [],
   "source": [
    "img3_np = np.array(img3_grey)"
   ]
  },
  {
   "cell_type": "code",
   "execution_count": 440,
   "id": "295c3167-1a20-474b-b215-ecaf91b9e6a5",
   "metadata": {},
   "outputs": [],
   "source": [
    "img3_np = img3_np / 255.0"
   ]
  },
  {
   "cell_type": "code",
   "execution_count": 442,
   "id": "3ba132fc-b3e0-46d6-b2d7-f6e77ac4bd33",
   "metadata": {},
   "outputs": [],
   "source": [
    "img3_new = img3_np.reshape(1, 28, 28, 1)"
   ]
  },
  {
   "cell_type": "code",
   "execution_count": 444,
   "id": "3ece0b3a-8bdd-42dd-951f-3d3d29ae3878",
   "metadata": {},
   "outputs": [
    {
     "name": "stdout",
     "output_type": "stream",
     "text": [
      "(1, 28, 28, 1)\n"
     ]
    }
   ],
   "source": [
    "print(img3_new.shape)"
   ]
  },
  {
   "cell_type": "markdown",
   "id": "e64749da-6380-4417-88e0-ce88d68bf68b",
   "metadata": {},
   "source": [
    "IMG4"
   ]
  },
  {
   "cell_type": "code",
   "execution_count": 446,
   "id": "c51ef277-3647-46fd-a612-e09f758f0f87",
   "metadata": {},
   "outputs": [],
   "source": [
    "img4_size = img4.resize((28, 28))"
   ]
  },
  {
   "cell_type": "code",
   "execution_count": 448,
   "id": "4d1428ce-88da-4bfd-b14b-a10fca0edb2b",
   "metadata": {},
   "outputs": [],
   "source": [
    "img4_grey = img4_size.convert('L')"
   ]
  },
  {
   "cell_type": "code",
   "execution_count": 450,
   "id": "636ec02d-6911-4c5b-9198-4d4b300795f5",
   "metadata": {},
   "outputs": [],
   "source": [
    "img4_np = np.array(img4_grey)"
   ]
  },
  {
   "cell_type": "code",
   "execution_count": 452,
   "id": "8229c3cf-2d12-4124-bc43-60210b2db43a",
   "metadata": {},
   "outputs": [],
   "source": [
    "img4_np = img4_np / 255.0"
   ]
  },
  {
   "cell_type": "code",
   "execution_count": 454,
   "id": "de3c7f29-5945-463e-b4ef-02c63fc62ae3",
   "metadata": {},
   "outputs": [],
   "source": [
    "img4_new = img4_np.reshape(1, 28, 28, 1)"
   ]
  },
  {
   "cell_type": "code",
   "execution_count": 456,
   "id": "a1df04f3-f69e-41db-a38b-aead31b6100d",
   "metadata": {},
   "outputs": [
    {
     "name": "stdout",
     "output_type": "stream",
     "text": [
      "(1, 28, 28, 1)\n"
     ]
    }
   ],
   "source": [
    "print(img4_new.shape)"
   ]
  },
  {
   "cell_type": "markdown",
   "id": "82f78fc2-bb1b-45e7-a072-61e22a573d3d",
   "metadata": {},
   "source": [
    "IMG5"
   ]
  },
  {
   "cell_type": "code",
   "execution_count": 458,
   "id": "ee0e5fe3-70c1-4050-b9a8-b4b3c768fb0e",
   "metadata": {},
   "outputs": [],
   "source": [
    "img5_size = img5.resize((28, 28))"
   ]
  },
  {
   "cell_type": "code",
   "execution_count": 460,
   "id": "5f9d4719-cb8c-41c7-9e5b-22ff1f55c045",
   "metadata": {},
   "outputs": [],
   "source": [
    "img5_grey = img5_size.convert('L')"
   ]
  },
  {
   "cell_type": "code",
   "execution_count": 462,
   "id": "c0a981fd-ae8a-4f04-9576-b0245643ad0d",
   "metadata": {},
   "outputs": [],
   "source": [
    "img5_np = np.array(img5_grey)"
   ]
  },
  {
   "cell_type": "code",
   "execution_count": 464,
   "id": "2d011092-53b7-46c9-a4e1-833601dd2851",
   "metadata": {},
   "outputs": [],
   "source": [
    "img5_np = img5_np / 255.0"
   ]
  },
  {
   "cell_type": "code",
   "execution_count": 466,
   "id": "d5c6a234-de46-4a45-b0a6-d5857f30bcb8",
   "metadata": {},
   "outputs": [],
   "source": [
    "img5_new = img5_np.reshape(1, 28, 28, 1)"
   ]
  },
  {
   "cell_type": "code",
   "execution_count": 468,
   "id": "fc75c06a-c0d2-45a0-8be2-6f2b10453d64",
   "metadata": {},
   "outputs": [
    {
     "name": "stdout",
     "output_type": "stream",
     "text": [
      "(1, 28, 28, 1)\n"
     ]
    }
   ],
   "source": [
    "print(img5_new.shape)"
   ]
  },
  {
   "cell_type": "markdown",
   "id": "074e090e-b3ff-4781-8a7c-37c4d2ec7c1b",
   "metadata": {},
   "source": [
    "IMG6"
   ]
  },
  {
   "cell_type": "code",
   "execution_count": 470,
   "id": "39175ee4-34be-48de-a62d-95f775add420",
   "metadata": {},
   "outputs": [],
   "source": [
    "img6_size = img6.resize((28, 28))"
   ]
  },
  {
   "cell_type": "code",
   "execution_count": 472,
   "id": "ee73a5f8-a9c4-49b8-9f01-6cdf2835d7d1",
   "metadata": {},
   "outputs": [],
   "source": [
    "img6_grey = img6_size.convert('L')"
   ]
  },
  {
   "cell_type": "code",
   "execution_count": 474,
   "id": "503d914d-0569-41ff-a954-b8369f31d2f8",
   "metadata": {},
   "outputs": [],
   "source": [
    "img6_np = np.array(img6_grey)"
   ]
  },
  {
   "cell_type": "code",
   "execution_count": 476,
   "id": "a411d25b-368b-479d-a691-65614379675b",
   "metadata": {},
   "outputs": [],
   "source": [
    "img6_np = img6_np / 255.0"
   ]
  },
  {
   "cell_type": "code",
   "execution_count": 478,
   "id": "0623e115-aab9-4466-a329-4a74c83e09bf",
   "metadata": {},
   "outputs": [],
   "source": [
    "img6_new = img6_np.reshape(1, 28, 28, 1)"
   ]
  },
  {
   "cell_type": "code",
   "execution_count": 480,
   "id": "ec5b67e1-b566-4d51-85c3-e4985feece74",
   "metadata": {},
   "outputs": [
    {
     "name": "stdout",
     "output_type": "stream",
     "text": [
      "(1, 28, 28, 1)\n"
     ]
    }
   ],
   "source": [
    "print(img6_new.shape)"
   ]
  },
  {
   "cell_type": "markdown",
   "id": "54c49c78-7d84-4df3-ae36-fa8cdc682c05",
   "metadata": {},
   "source": [
    "IMG87"
   ]
  },
  {
   "cell_type": "code",
   "execution_count": 482,
   "id": "6c75c3b5-b6f7-4661-b6fa-f058521297db",
   "metadata": {},
   "outputs": [],
   "source": [
    "img7_size = img7.resize((28, 28))"
   ]
  },
  {
   "cell_type": "code",
   "execution_count": 484,
   "id": "6bc08911-b9ca-42bb-a174-b32c5fae7088",
   "metadata": {},
   "outputs": [],
   "source": [
    "img7_grey = img7_size.convert('L')"
   ]
  },
  {
   "cell_type": "code",
   "execution_count": 486,
   "id": "180e25a1-52dc-432e-97f5-124280e25e08",
   "metadata": {},
   "outputs": [],
   "source": [
    "img7_np = np.array(img7_grey)"
   ]
  },
  {
   "cell_type": "code",
   "execution_count": 488,
   "id": "1eef30e8-7f77-46a3-a9c0-46f5ecf889a2",
   "metadata": {},
   "outputs": [],
   "source": [
    "img7_np = img7_np / 255.0"
   ]
  },
  {
   "cell_type": "code",
   "execution_count": 490,
   "id": "f10e7e2f-8c4b-45dc-bcbc-bfdb95047514",
   "metadata": {},
   "outputs": [],
   "source": [
    "img7_new = img7_np.reshape(1, 28, 28, 1)"
   ]
  },
  {
   "cell_type": "code",
   "execution_count": 492,
   "id": "98f11442-6169-42e7-bf63-be452472c869",
   "metadata": {},
   "outputs": [
    {
     "name": "stdout",
     "output_type": "stream",
     "text": [
      "(1, 28, 28, 1)\n"
     ]
    }
   ],
   "source": [
    "print(img7_new.shape)"
   ]
  },
  {
   "cell_type": "markdown",
   "id": "674b9338-e3f2-48cb-81db-486ce36b5451",
   "metadata": {},
   "source": [
    "IMG8"
   ]
  },
  {
   "cell_type": "code",
   "execution_count": 494,
   "id": "fe40e792-2fa8-44ca-b7a0-901248c55cb2",
   "metadata": {},
   "outputs": [],
   "source": [
    "img8_size = img8.resize((28, 28))"
   ]
  },
  {
   "cell_type": "code",
   "execution_count": 496,
   "id": "1f8215f0-8bcb-4604-a0af-e5acef0e93a0",
   "metadata": {},
   "outputs": [],
   "source": [
    "img8_grey = img8_size.convert('L')"
   ]
  },
  {
   "cell_type": "code",
   "execution_count": 498,
   "id": "1c5449b3-4cef-4c08-85ee-c567b4a74d35",
   "metadata": {},
   "outputs": [],
   "source": [
    "img8_np = np.array(img8_grey)"
   ]
  },
  {
   "cell_type": "code",
   "execution_count": 500,
   "id": "abafa9ab-6dcc-4751-9f38-02e08e8c70f1",
   "metadata": {},
   "outputs": [],
   "source": [
    "img8_np = img8_np / 255.0"
   ]
  },
  {
   "cell_type": "code",
   "execution_count": 502,
   "id": "8c7361b3-d73b-45b7-945e-eff1514c3b88",
   "metadata": {},
   "outputs": [],
   "source": [
    "img8_new = img8_np.reshape(1, 28, 28, 1)"
   ]
  },
  {
   "cell_type": "code",
   "execution_count": 504,
   "id": "489473e9-bcf4-49df-bb9e-a6de767dd344",
   "metadata": {},
   "outputs": [
    {
     "name": "stdout",
     "output_type": "stream",
     "text": [
      "(1, 28, 28, 1)\n"
     ]
    }
   ],
   "source": [
    "print(img8_new.shape)"
   ]
  },
  {
   "cell_type": "markdown",
   "id": "2c5759c9-9d25-4bd2-8c6d-e2a7587c202e",
   "metadata": {},
   "source": [
    "IMG9"
   ]
  },
  {
   "cell_type": "code",
   "execution_count": 506,
   "id": "f0912a60-1528-477b-b50a-631e48cf5da0",
   "metadata": {},
   "outputs": [],
   "source": [
    "img9_size = img9.resize((28, 28))"
   ]
  },
  {
   "cell_type": "code",
   "execution_count": 508,
   "id": "17e265a4-3b69-4482-a81d-72983a6d74a0",
   "metadata": {},
   "outputs": [],
   "source": [
    "img9_grey = img9_size.convert('L')"
   ]
  },
  {
   "cell_type": "code",
   "execution_count": 510,
   "id": "8b0ff9be-e415-42ae-9fd4-ad6a4fc3896c",
   "metadata": {},
   "outputs": [],
   "source": [
    "img9_np = np.array(img9_grey)"
   ]
  },
  {
   "cell_type": "code",
   "execution_count": 512,
   "id": "727fde09-061c-4d64-9894-686d7b756948",
   "metadata": {},
   "outputs": [],
   "source": [
    "img9_np = img9_np / 255.0"
   ]
  },
  {
   "cell_type": "code",
   "execution_count": 514,
   "id": "750b54da-70ea-4d76-a989-335ff067b18d",
   "metadata": {},
   "outputs": [],
   "source": [
    "img9_new = img9_np.reshape(1, 28, 28, 1)"
   ]
  },
  {
   "cell_type": "code",
   "execution_count": 516,
   "id": "c39214a1-a8a8-4dfa-8d04-8591f24692b9",
   "metadata": {},
   "outputs": [
    {
     "name": "stdout",
     "output_type": "stream",
     "text": [
      "(1, 28, 28, 1)\n"
     ]
    }
   ],
   "source": [
    "print(img9_new.shape)"
   ]
  },
  {
   "cell_type": "code",
   "execution_count": null,
   "id": "d1f34413-f21e-4534-8e5e-db68db151258",
   "metadata": {},
   "outputs": [],
   "source": [
    "#testimg0 = asarray(img0)\n",
    "#print(testimg0.shape)\n",
    "(28, 28, 4)\n",
    "#testimg0 = testimg0.reshape(1, 28, 28, 1)\n",
    "ValueError                       Traceback (most recent call last)\n",
    "Cell In[137], line 1\n",
    "----> #1 test_img0 = testimg0.reshape(28, 28, 1)\n",
    "ValueError: cannot reshape array of size 3136 into shape (28,28,1)"
   ]
  },
  {
   "cell_type": "markdown",
   "id": "35d29a8a-cb93-4373-aee5-f4358fc8e594",
   "metadata": {},
   "source": [
    "##### In the portion of code above, I was trying to test the image array and reshape them. Although I tried to greyscale my images prior to loading them into python, I was met with an error. My images were not greyscale and I must manually greyscale them inside python. I have to go back to the original file and gray scale them before turning them into numpy-arrays. I'll leave this error portion of the script here."
   ]
  },
  {
   "cell_type": "markdown",
   "id": "ea00dbcb-b226-47dd-9c31-3f451b1f2bd8",
   "metadata": {},
   "source": [
    "#### Predicting the Class"
   ]
  },
  {
   "cell_type": "code",
   "execution_count": 540,
   "id": "3b712a62-4be7-4b40-88d5-24a7a7f4ff4e",
   "metadata": {},
   "outputs": [
    {
     "name": "stdout",
     "output_type": "stream",
     "text": [
      "\u001b[1m1/1\u001b[0m \u001b[32m━━━━━━━━━━━━━━━━━━━━\u001b[0m\u001b[37m\u001b[0m \u001b[1m0s\u001b[0m 25ms/step\n",
      "6\n"
     ]
    }
   ],
   "source": [
    "# Predict the class\n",
    "\n",
    "predict_value = model.predict(img0_new)\n",
    "digit = argmax(predict_value)\n",
    "print(digit)"
   ]
  },
  {
   "cell_type": "code",
   "execution_count": 542,
   "id": "c84ed978-2d8e-408f-84dd-c6be01bcc283",
   "metadata": {},
   "outputs": [
    {
     "name": "stdout",
     "output_type": "stream",
     "text": [
      "\u001b[1m1/1\u001b[0m \u001b[32m━━━━━━━━━━━━━━━━━━━━\u001b[0m\u001b[37m\u001b[0m \u001b[1m0s\u001b[0m 20ms/step\n",
      "8\n"
     ]
    }
   ],
   "source": [
    "predict_value = model.predict(img1_new)\n",
    "digit = argmax(predict_value)\n",
    "print(digit)"
   ]
  },
  {
   "cell_type": "code",
   "execution_count": 544,
   "id": "41263624-1d1e-4c50-bd3c-ce8fdc3b78ba",
   "metadata": {},
   "outputs": [
    {
     "name": "stdout",
     "output_type": "stream",
     "text": [
      "\u001b[1m1/1\u001b[0m \u001b[32m━━━━━━━━━━━━━━━━━━━━\u001b[0m\u001b[37m\u001b[0m \u001b[1m0s\u001b[0m 19ms/step\n",
      "3\n"
     ]
    }
   ],
   "source": [
    "predict_value = model.predict(img2_new)\n",
    "digit = argmax(predict_value)\n",
    "print(digit)"
   ]
  },
  {
   "cell_type": "code",
   "execution_count": 546,
   "id": "9f0589ea-e9ce-4fb5-b8b9-e9d133c8350c",
   "metadata": {},
   "outputs": [
    {
     "name": "stdout",
     "output_type": "stream",
     "text": [
      "\u001b[1m1/1\u001b[0m \u001b[32m━━━━━━━━━━━━━━━━━━━━\u001b[0m\u001b[37m\u001b[0m \u001b[1m0s\u001b[0m 20ms/step\n",
      "3\n"
     ]
    }
   ],
   "source": [
    "predict_value = model.predict(img3_new)\n",
    "digit = argmax(predict_value)\n",
    "print(digit)"
   ]
  },
  {
   "cell_type": "code",
   "execution_count": 548,
   "id": "4ab1e5f2-d189-4c9b-83a3-fcd88e1a7c6f",
   "metadata": {},
   "outputs": [
    {
     "name": "stdout",
     "output_type": "stream",
     "text": [
      "\u001b[1m1/1\u001b[0m \u001b[32m━━━━━━━━━━━━━━━━━━━━\u001b[0m\u001b[37m\u001b[0m \u001b[1m0s\u001b[0m 19ms/step\n",
      "6\n"
     ]
    }
   ],
   "source": [
    "predict_value = model.predict(img4_new)\n",
    "digit = argmax(predict_value)\n",
    "print(digit)"
   ]
  },
  {
   "cell_type": "code",
   "execution_count": 550,
   "id": "9f6832c4-8709-4b6d-80ce-d424cc0ebf62",
   "metadata": {},
   "outputs": [
    {
     "name": "stdout",
     "output_type": "stream",
     "text": [
      "\u001b[1m1/1\u001b[0m \u001b[32m━━━━━━━━━━━━━━━━━━━━\u001b[0m\u001b[37m\u001b[0m \u001b[1m0s\u001b[0m 18ms/step\n",
      "3\n"
     ]
    }
   ],
   "source": [
    "predict_value = model.predict(img5_new)\n",
    "digit = argmax(predict_value)\n",
    "print(digit)"
   ]
  },
  {
   "cell_type": "code",
   "execution_count": 552,
   "id": "2557b4f1-1f94-4920-a344-37ea8921c858",
   "metadata": {},
   "outputs": [
    {
     "name": "stdout",
     "output_type": "stream",
     "text": [
      "\u001b[1m1/1\u001b[0m \u001b[32m━━━━━━━━━━━━━━━━━━━━\u001b[0m\u001b[37m\u001b[0m \u001b[1m0s\u001b[0m 19ms/step\n",
      "6\n"
     ]
    }
   ],
   "source": [
    "predict_value = model.predict(img6_new)\n",
    "digit = argmax(predict_value)\n",
    "print(digit)"
   ]
  },
  {
   "cell_type": "code",
   "execution_count": 554,
   "id": "7e9f9f72-6dc7-4353-b41e-f35771e12736",
   "metadata": {},
   "outputs": [
    {
     "name": "stdout",
     "output_type": "stream",
     "text": [
      "\u001b[1m1/1\u001b[0m \u001b[32m━━━━━━━━━━━━━━━━━━━━\u001b[0m\u001b[37m\u001b[0m \u001b[1m0s\u001b[0m 19ms/step\n",
      "7\n"
     ]
    }
   ],
   "source": [
    "predict_value = model.predict(img7_new)\n",
    "digit = argmax(predict_value)\n",
    "print(digit)"
   ]
  },
  {
   "cell_type": "code",
   "execution_count": 556,
   "id": "e1ba8104-0168-43bd-9f32-bcd41a36218c",
   "metadata": {},
   "outputs": [
    {
     "name": "stdout",
     "output_type": "stream",
     "text": [
      "\u001b[1m1/1\u001b[0m \u001b[32m━━━━━━━━━━━━━━━━━━━━\u001b[0m\u001b[37m\u001b[0m \u001b[1m0s\u001b[0m 20ms/step\n",
      "3\n"
     ]
    }
   ],
   "source": [
    "predict_value = model.predict(img8_new)\n",
    "digit = argmax(predict_value)\n",
    "print(digit)"
   ]
  },
  {
   "cell_type": "code",
   "execution_count": 558,
   "id": "4903d417-c656-4262-962b-b3461d96c447",
   "metadata": {},
   "outputs": [
    {
     "name": "stdout",
     "output_type": "stream",
     "text": [
      "\u001b[1m1/1\u001b[0m \u001b[32m━━━━━━━━━━━━━━━━━━━━\u001b[0m\u001b[37m\u001b[0m \u001b[1m0s\u001b[0m 19ms/step\n",
      "4\n"
     ]
    }
   ],
   "source": [
    "predict_value = model.predict(img9_new)\n",
    "digit = argmax(predict_value)\n",
    "print(digit)"
   ]
  },
  {
   "cell_type": "markdown",
   "id": "f3091824-ce87-441b-ad05-8749c785f5e6",
   "metadata": {},
   "source": [
    "#### Based on the predictions of my handwritten numbers the algorithm only got 3 correct (3, 6, 7). The mistakes it made that I could understand were for numbers: 0, 8 , 9. The algorithm said 0 was 6, 8 was 3 and 9 was 4. The other numbers I don't understand why it chose the digits it did. But it's interesting to see it work with a few of my hand written values. There was only 30% accuracy."
   ]
  },
  {
   "cell_type": "markdown",
   "id": "eb0dcdca-7b0d-434a-91f8-ea53c790a3a2",
   "metadata": {},
   "source": [
    "### 3. Radar Recognition"
   ]
  },
  {
   "cell_type": "markdown",
   "id": "d7aac214-c168-4372-ae31-4cc269aac5ac",
   "metadata": {},
   "source": [
    "#### Import new libraries"
   ]
  },
  {
   "cell_type": "code",
   "execution_count": 7,
   "id": "1dac1ee1-cede-4965-b660-51754592adf7",
   "metadata": {},
   "outputs": [],
   "source": [
    "from PIL import Image\n",
    "import matplotlib.pyplot as plt\n",
    "import numpy as np\n",
    "%matplotlib inline\n",
    "from IPython.display import clear_output\n",
    "from keras.optimizers import Adam\n",
    "from keras.layers import Conv2D, BatchNormalization, Input, GlobalAveragePooling2D, Dense, Reshape, LeakyReLU\n",
    "from keras.models import Model, Sequential\n",
    "from keras.layers import Conv2DTranspose"
   ]
  },
  {
   "cell_type": "markdown",
   "id": "dac38d3a-7aa3-49aa-850c-03626d31806c",
   "metadata": {},
   "source": [
    "#### Setting up Radar Recognition"
   ]
  },
  {
   "cell_type": "code",
   "execution_count": 10,
   "id": "3bcd020e-ba11-4d46-a62a-0c14a6cac76e",
   "metadata": {},
   "outputs": [],
   "source": [
    "# function for building the discriminator layers\n",
    "def build_discriminator(start_filters, spatial_dim, filter_size):\n",
    "        \n",
    "    # function for building a CNN block for downsampling the image\n",
    "    def add_discriminator_block(x, filters, filter_size):\n",
    "        x = Conv2D(filters, filter_size, padding='same')(x)\n",
    "        x = BatchNormalization()(x)\n",
    "        x = Conv2D(filters, filter_size, padding='same', strides=2)(x)\n",
    "        x = BatchNormalization()(x)\n",
    "        x = LeakyReLU(0.2)(x) #Can try other values\n",
    "        return x\n",
    "    \n",
    "    # input is an image with shape spatial_dim x spatial_dim and 3 channels\n",
    "    inp = Input(shape=(spatial_dim, spatial_dim, 3))\n",
    "\n",
    "    # design the discrimitor to downsample the image 4x\n",
    "    x = add_discriminator_block(inp, start_filters, filter_size)\n",
    "    x = add_discriminator_block(x, start_filters * 2, filter_size)\n",
    "    x = add_discriminator_block(x, start_filters * 4, filter_size)\n",
    "    x = add_discriminator_block(x, start_filters * 8, filter_size)\n",
    "    \n",
    "    # average and return a binary output\n",
    "    x = GlobalAveragePooling2D()(x)\n",
    "    x = Dense(1, activation='sigmoid')(x) #Can also try sigmoid\n",
    "    \n",
    "    return Model(inputs=inp, outputs=x)"
   ]
  },
  {
   "cell_type": "code",
   "execution_count": 12,
   "id": "f266fbad-7749-4f54-ad56-a7a161f7961b",
   "metadata": {},
   "outputs": [],
   "source": [
    "def build_generator(start_filters, filter_size, latent_dim):\n",
    "          \n",
    "    # function for building a CNN block for upsampling the image\n",
    "    def add_generator_block(x, filters, filter_size):\n",
    "        x = Conv2DTranspose(filters, filter_size, strides=2, padding='same')(x)\n",
    "        x = BatchNormalization()(x)\n",
    "        x = LeakyReLU(0.2)(x) #Can try other values\n",
    "        return x\n",
    "\n",
    "    # input is a noise vector \n",
    "    inp = Input(shape=(latent_dim,))\n",
    "\n",
    "    # projection of the noise vector into a tensor with \n",
    "    # same shape as last conv layer in discriminator\n",
    "    x = Dense(4 * 4 * (start_filters * 8), input_dim=latent_dim)(inp)\n",
    "    x = BatchNormalization()(x)\n",
    "    x = Reshape(target_shape=(4, 4, start_filters * 8))(x)\n",
    "\n",
    "    # design the generator to upsample the image 4x\n",
    "    x = add_generator_block(x, start_filters * 4, filter_size)\n",
    "    x = add_generator_block(x, start_filters * 2, filter_size)\n",
    "    x = add_generator_block(x, start_filters, filter_size)\n",
    "    x = add_generator_block(x, start_filters, filter_size)    \n",
    "\n",
    "    # turn the output into a 3D tensor, an image with 3 channels \n",
    "    x = Conv2D(3, kernel_size=5, padding='same', activation='tanh')(x) #tanh\n",
    "  \n",
    "    return Model(inputs=inp, outputs=x)"
   ]
  },
  {
   "cell_type": "code",
   "execution_count": 14,
   "id": "78abef05-62d3-45b0-baa3-057fd349fc6e",
   "metadata": {},
   "outputs": [],
   "source": [
    "weather_path = r'D:\\Career Foundry\\3) Data Specialization\\Machine Learning with Python\\Achievement 2 - Real-World Application of Machine Learning\\ClimateWins\\DataSet\\Radar Recognition Data\\Multi-class Weather Dataset'"
   ]
  },
  {
   "cell_type": "code",
   "execution_count": 16,
   "id": "e2170566-9ddd-4fdb-ae92-3d69503be4a8",
   "metadata": {},
   "outputs": [],
   "source": [
    "# This is a list of the class names for the images downloaded from Kaggle.(which are also the folder names)\n",
    "# https://www.kaggle.com/datasets/pratik2901/multiclass-weather-dataset?select=Multi-class+Weather+Dataset\n",
    "\n",
    "class_names = ['Cloudy', 'Rain', 'Shine', 'Sunrise']"
   ]
  },
  {
   "cell_type": "code",
   "execution_count": 18,
   "id": "979e1281-4ef1-4528-8906-47edb9509ada",
   "metadata": {},
   "outputs": [],
   "source": [
    "# We will manually create a DataFrame that looks like a loaded CSV file\n",
    "# This is a list to hold all file paths and labels\n",
    "\n",
    "data = []"
   ]
  },
  {
   "cell_type": "code",
   "execution_count": 20,
   "id": "366a3d68-afa1-42b6-8ab3-ea64591372b5",
   "metadata": {},
   "outputs": [],
   "source": [
    "# Loop through each class folder to get the file paths\n",
    "\n",
    "for class_name in class_names:\n",
    "    folder_path = os.path.join(weather_path, class_name) \n",
    "\n",
    "# List all the files in the current folder\n",
    "\n",
    "    for image_file in os.listdir(folder_path):\n",
    "        # We need to make sure we're only getting image files\n",
    "        if image_file.endswith(('.jpg', '.jpeg')):\n",
    "            full_path = os.path.join(folder_path, image_file)\n",
    "            # Add a dictionary with the file path and its label to our list\n",
    "            data.append({'image_path': full_path, 'label': class_name})"
   ]
  },
  {
   "cell_type": "code",
   "execution_count": 22,
   "id": "6da526e4-7d78-42c3-b559-32afbe2c8aa7",
   "metadata": {},
   "outputs": [],
   "source": [
    "# Now we create the DataFrame from our list\n",
    "\n",
    "weather_images = pd.DataFrame(data)"
   ]
  },
  {
   "cell_type": "code",
   "execution_count": 24,
   "id": "6005073c-ce50-410e-b8a4-2ac2d1131eab",
   "metadata": {},
   "outputs": [
    {
     "name": "stdout",
     "output_type": "stream",
     "text": [
      "DataFrame created with file paths and labels:\n",
      "                                          image_path   label\n",
      "0  D:\\Career Foundry\\3) Data Specialization\\Machi...  Cloudy\n",
      "1  D:\\Career Foundry\\3) Data Specialization\\Machi...  Cloudy\n",
      "2  D:\\Career Foundry\\3) Data Specialization\\Machi...  Cloudy\n",
      "3  D:\\Career Foundry\\3) Data Specialization\\Machi...  Cloudy\n",
      "4  D:\\Career Foundry\\3) Data Specialization\\Machi...  Cloudy\n"
     ]
    }
   ],
   "source": [
    "# Let's see the first few rows of the DataFrame to confirm it looks right\n",
    "\n",
    "print(\"DataFrame created with file paths and labels:\")\n",
    "print(weather_images.head())"
   ]
  },
  {
   "cell_type": "code",
   "execution_count": 26,
   "id": "c1b93dd3-105d-4dfd-83ed-f85691ded6b8",
   "metadata": {},
   "outputs": [
    {
     "name": "stdout",
     "output_type": "stream",
     "text": [
      "\n",
      "TOTAL_SAMPLES is now: 1125\n"
     ]
    }
   ],
   "source": [
    "# Now we can continue using this DataFrame\n",
    "\n",
    "TOTAL_SAMPLES = weather_images.shape[0]\n",
    "print(f\"\\nTOTAL_SAMPLES is now: {TOTAL_SAMPLES}\")"
   ]
  },
  {
   "cell_type": "code",
   "execution_count": 28,
   "id": "abb748e5-30a6-4c28-9fad-70ca2493e6fe",
   "metadata": {},
   "outputs": [
    {
     "name": "stderr",
     "output_type": "stream",
     "text": [
      "C:\\Users\\jmesi\\anaconda3\\Lib\\site-packages\\keras\\src\\layers\\core\\dense.py:93: UserWarning: Do not pass an `input_shape`/`input_dim` argument to a layer. When using Sequential models, prefer using an `Input(shape)` object as the first layer in the model instead.\n",
      "  super().__init__(activity_regularizer=activity_regularizer, **kwargs)\n"
     ]
    },
    {
     "data": {
      "text/html": [
       "<pre style=\"white-space:pre;overflow-x:auto;line-height:normal;font-family:Menlo,'DejaVu Sans Mono',consolas,'Courier New',monospace\"><span style=\"font-weight: bold\">Model: \"functional_1\"</span>\n",
       "</pre>\n"
      ],
      "text/plain": [
       "\u001b[1mModel: \"functional_1\"\u001b[0m\n"
      ]
     },
     "metadata": {},
     "output_type": "display_data"
    },
    {
     "data": {
      "text/html": [
       "<pre style=\"white-space:pre;overflow-x:auto;line-height:normal;font-family:Menlo,'DejaVu Sans Mono',consolas,'Courier New',monospace\">┏━━━━━━━━━━━━━━━━━━━━━━━━━━━━━━━━━━━━━━┳━━━━━━━━━━━━━━━━━━━━━━━━━━━━━┳━━━━━━━━━━━━━━━━━┓\n",
       "┃<span style=\"font-weight: bold\"> Layer (type)                         </span>┃<span style=\"font-weight: bold\"> Output Shape                </span>┃<span style=\"font-weight: bold\">         Param # </span>┃\n",
       "┡━━━━━━━━━━━━━━━━━━━━━━━━━━━━━━━━━━━━━━╇━━━━━━━━━━━━━━━━━━━━━━━━━━━━━╇━━━━━━━━━━━━━━━━━┩\n",
       "│ input_layer_1 (<span style=\"color: #0087ff; text-decoration-color: #0087ff\">InputLayer</span>)           │ (<span style=\"color: #00d7ff; text-decoration-color: #00d7ff\">None</span>, <span style=\"color: #00af00; text-decoration-color: #00af00\">100</span>)                 │               <span style=\"color: #00af00; text-decoration-color: #00af00\">0</span> │\n",
       "├──────────────────────────────────────┼─────────────────────────────┼─────────────────┤\n",
       "│ dense_1 (<span style=\"color: #0087ff; text-decoration-color: #0087ff\">Dense</span>)                      │ (<span style=\"color: #00d7ff; text-decoration-color: #00d7ff\">None</span>, <span style=\"color: #00af00; text-decoration-color: #00af00\">2048</span>)                │         <span style=\"color: #00af00; text-decoration-color: #00af00\">206,848</span> │\n",
       "├──────────────────────────────────────┼─────────────────────────────┼─────────────────┤\n",
       "│ batch_normalization_8                │ (<span style=\"color: #00d7ff; text-decoration-color: #00d7ff\">None</span>, <span style=\"color: #00af00; text-decoration-color: #00af00\">2048</span>)                │           <span style=\"color: #00af00; text-decoration-color: #00af00\">8,192</span> │\n",
       "│ (<span style=\"color: #0087ff; text-decoration-color: #0087ff\">BatchNormalization</span>)                 │                             │                 │\n",
       "├──────────────────────────────────────┼─────────────────────────────┼─────────────────┤\n",
       "│ reshape (<span style=\"color: #0087ff; text-decoration-color: #0087ff\">Reshape</span>)                    │ (<span style=\"color: #00d7ff; text-decoration-color: #00d7ff\">None</span>, <span style=\"color: #00af00; text-decoration-color: #00af00\">4</span>, <span style=\"color: #00af00; text-decoration-color: #00af00\">4</span>, <span style=\"color: #00af00; text-decoration-color: #00af00\">128</span>)           │               <span style=\"color: #00af00; text-decoration-color: #00af00\">0</span> │\n",
       "├──────────────────────────────────────┼─────────────────────────────┼─────────────────┤\n",
       "│ conv2d_transpose (<span style=\"color: #0087ff; text-decoration-color: #0087ff\">Conv2DTranspose</span>)   │ (<span style=\"color: #00d7ff; text-decoration-color: #00d7ff\">None</span>, <span style=\"color: #00af00; text-decoration-color: #00af00\">8</span>, <span style=\"color: #00af00; text-decoration-color: #00af00\">8</span>, <span style=\"color: #00af00; text-decoration-color: #00af00\">64</span>)            │         <span style=\"color: #00af00; text-decoration-color: #00af00\">204,864</span> │\n",
       "├──────────────────────────────────────┼─────────────────────────────┼─────────────────┤\n",
       "│ batch_normalization_9                │ (<span style=\"color: #00d7ff; text-decoration-color: #00d7ff\">None</span>, <span style=\"color: #00af00; text-decoration-color: #00af00\">8</span>, <span style=\"color: #00af00; text-decoration-color: #00af00\">8</span>, <span style=\"color: #00af00; text-decoration-color: #00af00\">64</span>)            │             <span style=\"color: #00af00; text-decoration-color: #00af00\">256</span> │\n",
       "│ (<span style=\"color: #0087ff; text-decoration-color: #0087ff\">BatchNormalization</span>)                 │                             │                 │\n",
       "├──────────────────────────────────────┼─────────────────────────────┼─────────────────┤\n",
       "│ leaky_re_lu_4 (<span style=\"color: #0087ff; text-decoration-color: #0087ff\">LeakyReLU</span>)            │ (<span style=\"color: #00d7ff; text-decoration-color: #00d7ff\">None</span>, <span style=\"color: #00af00; text-decoration-color: #00af00\">8</span>, <span style=\"color: #00af00; text-decoration-color: #00af00\">8</span>, <span style=\"color: #00af00; text-decoration-color: #00af00\">64</span>)            │               <span style=\"color: #00af00; text-decoration-color: #00af00\">0</span> │\n",
       "├──────────────────────────────────────┼─────────────────────────────┼─────────────────┤\n",
       "│ conv2d_transpose_1 (<span style=\"color: #0087ff; text-decoration-color: #0087ff\">Conv2DTranspose</span>) │ (<span style=\"color: #00d7ff; text-decoration-color: #00d7ff\">None</span>, <span style=\"color: #00af00; text-decoration-color: #00af00\">16</span>, <span style=\"color: #00af00; text-decoration-color: #00af00\">16</span>, <span style=\"color: #00af00; text-decoration-color: #00af00\">32</span>)          │          <span style=\"color: #00af00; text-decoration-color: #00af00\">51,232</span> │\n",
       "├──────────────────────────────────────┼─────────────────────────────┼─────────────────┤\n",
       "│ batch_normalization_10               │ (<span style=\"color: #00d7ff; text-decoration-color: #00d7ff\">None</span>, <span style=\"color: #00af00; text-decoration-color: #00af00\">16</span>, <span style=\"color: #00af00; text-decoration-color: #00af00\">16</span>, <span style=\"color: #00af00; text-decoration-color: #00af00\">32</span>)          │             <span style=\"color: #00af00; text-decoration-color: #00af00\">128</span> │\n",
       "│ (<span style=\"color: #0087ff; text-decoration-color: #0087ff\">BatchNormalization</span>)                 │                             │                 │\n",
       "├──────────────────────────────────────┼─────────────────────────────┼─────────────────┤\n",
       "│ leaky_re_lu_5 (<span style=\"color: #0087ff; text-decoration-color: #0087ff\">LeakyReLU</span>)            │ (<span style=\"color: #00d7ff; text-decoration-color: #00d7ff\">None</span>, <span style=\"color: #00af00; text-decoration-color: #00af00\">16</span>, <span style=\"color: #00af00; text-decoration-color: #00af00\">16</span>, <span style=\"color: #00af00; text-decoration-color: #00af00\">32</span>)          │               <span style=\"color: #00af00; text-decoration-color: #00af00\">0</span> │\n",
       "├──────────────────────────────────────┼─────────────────────────────┼─────────────────┤\n",
       "│ conv2d_transpose_2 (<span style=\"color: #0087ff; text-decoration-color: #0087ff\">Conv2DTranspose</span>) │ (<span style=\"color: #00d7ff; text-decoration-color: #00d7ff\">None</span>, <span style=\"color: #00af00; text-decoration-color: #00af00\">32</span>, <span style=\"color: #00af00; text-decoration-color: #00af00\">32</span>, <span style=\"color: #00af00; text-decoration-color: #00af00\">16</span>)          │          <span style=\"color: #00af00; text-decoration-color: #00af00\">12,816</span> │\n",
       "├──────────────────────────────────────┼─────────────────────────────┼─────────────────┤\n",
       "│ batch_normalization_11               │ (<span style=\"color: #00d7ff; text-decoration-color: #00d7ff\">None</span>, <span style=\"color: #00af00; text-decoration-color: #00af00\">32</span>, <span style=\"color: #00af00; text-decoration-color: #00af00\">32</span>, <span style=\"color: #00af00; text-decoration-color: #00af00\">16</span>)          │              <span style=\"color: #00af00; text-decoration-color: #00af00\">64</span> │\n",
       "│ (<span style=\"color: #0087ff; text-decoration-color: #0087ff\">BatchNormalization</span>)                 │                             │                 │\n",
       "├──────────────────────────────────────┼─────────────────────────────┼─────────────────┤\n",
       "│ leaky_re_lu_6 (<span style=\"color: #0087ff; text-decoration-color: #0087ff\">LeakyReLU</span>)            │ (<span style=\"color: #00d7ff; text-decoration-color: #00d7ff\">None</span>, <span style=\"color: #00af00; text-decoration-color: #00af00\">32</span>, <span style=\"color: #00af00; text-decoration-color: #00af00\">32</span>, <span style=\"color: #00af00; text-decoration-color: #00af00\">16</span>)          │               <span style=\"color: #00af00; text-decoration-color: #00af00\">0</span> │\n",
       "├──────────────────────────────────────┼─────────────────────────────┼─────────────────┤\n",
       "│ conv2d_transpose_3 (<span style=\"color: #0087ff; text-decoration-color: #0087ff\">Conv2DTranspose</span>) │ (<span style=\"color: #00d7ff; text-decoration-color: #00d7ff\">None</span>, <span style=\"color: #00af00; text-decoration-color: #00af00\">64</span>, <span style=\"color: #00af00; text-decoration-color: #00af00\">64</span>, <span style=\"color: #00af00; text-decoration-color: #00af00\">16</span>)          │           <span style=\"color: #00af00; text-decoration-color: #00af00\">6,416</span> │\n",
       "├──────────────────────────────────────┼─────────────────────────────┼─────────────────┤\n",
       "│ batch_normalization_12               │ (<span style=\"color: #00d7ff; text-decoration-color: #00d7ff\">None</span>, <span style=\"color: #00af00; text-decoration-color: #00af00\">64</span>, <span style=\"color: #00af00; text-decoration-color: #00af00\">64</span>, <span style=\"color: #00af00; text-decoration-color: #00af00\">16</span>)          │              <span style=\"color: #00af00; text-decoration-color: #00af00\">64</span> │\n",
       "│ (<span style=\"color: #0087ff; text-decoration-color: #0087ff\">BatchNormalization</span>)                 │                             │                 │\n",
       "├──────────────────────────────────────┼─────────────────────────────┼─────────────────┤\n",
       "│ leaky_re_lu_7 (<span style=\"color: #0087ff; text-decoration-color: #0087ff\">LeakyReLU</span>)            │ (<span style=\"color: #00d7ff; text-decoration-color: #00d7ff\">None</span>, <span style=\"color: #00af00; text-decoration-color: #00af00\">64</span>, <span style=\"color: #00af00; text-decoration-color: #00af00\">64</span>, <span style=\"color: #00af00; text-decoration-color: #00af00\">16</span>)          │               <span style=\"color: #00af00; text-decoration-color: #00af00\">0</span> │\n",
       "├──────────────────────────────────────┼─────────────────────────────┼─────────────────┤\n",
       "│ conv2d_8 (<span style=\"color: #0087ff; text-decoration-color: #0087ff\">Conv2D</span>)                    │ (<span style=\"color: #00d7ff; text-decoration-color: #00d7ff\">None</span>, <span style=\"color: #00af00; text-decoration-color: #00af00\">64</span>, <span style=\"color: #00af00; text-decoration-color: #00af00\">64</span>, <span style=\"color: #00af00; text-decoration-color: #00af00\">3</span>)           │           <span style=\"color: #00af00; text-decoration-color: #00af00\">1,203</span> │\n",
       "└──────────────────────────────────────┴─────────────────────────────┴─────────────────┘\n",
       "</pre>\n"
      ],
      "text/plain": [
       "┏━━━━━━━━━━━━━━━━━━━━━━━━━━━━━━━━━━━━━━┳━━━━━━━━━━━━━━━━━━━━━━━━━━━━━┳━━━━━━━━━━━━━━━━━┓\n",
       "┃\u001b[1m \u001b[0m\u001b[1mLayer (type)                        \u001b[0m\u001b[1m \u001b[0m┃\u001b[1m \u001b[0m\u001b[1mOutput Shape               \u001b[0m\u001b[1m \u001b[0m┃\u001b[1m \u001b[0m\u001b[1m        Param #\u001b[0m\u001b[1m \u001b[0m┃\n",
       "┡━━━━━━━━━━━━━━━━━━━━━━━━━━━━━━━━━━━━━━╇━━━━━━━━━━━━━━━━━━━━━━━━━━━━━╇━━━━━━━━━━━━━━━━━┩\n",
       "│ input_layer_1 (\u001b[38;5;33mInputLayer\u001b[0m)           │ (\u001b[38;5;45mNone\u001b[0m, \u001b[38;5;34m100\u001b[0m)                 │               \u001b[38;5;34m0\u001b[0m │\n",
       "├──────────────────────────────────────┼─────────────────────────────┼─────────────────┤\n",
       "│ dense_1 (\u001b[38;5;33mDense\u001b[0m)                      │ (\u001b[38;5;45mNone\u001b[0m, \u001b[38;5;34m2048\u001b[0m)                │         \u001b[38;5;34m206,848\u001b[0m │\n",
       "├──────────────────────────────────────┼─────────────────────────────┼─────────────────┤\n",
       "│ batch_normalization_8                │ (\u001b[38;5;45mNone\u001b[0m, \u001b[38;5;34m2048\u001b[0m)                │           \u001b[38;5;34m8,192\u001b[0m │\n",
       "│ (\u001b[38;5;33mBatchNormalization\u001b[0m)                 │                             │                 │\n",
       "├──────────────────────────────────────┼─────────────────────────────┼─────────────────┤\n",
       "│ reshape (\u001b[38;5;33mReshape\u001b[0m)                    │ (\u001b[38;5;45mNone\u001b[0m, \u001b[38;5;34m4\u001b[0m, \u001b[38;5;34m4\u001b[0m, \u001b[38;5;34m128\u001b[0m)           │               \u001b[38;5;34m0\u001b[0m │\n",
       "├──────────────────────────────────────┼─────────────────────────────┼─────────────────┤\n",
       "│ conv2d_transpose (\u001b[38;5;33mConv2DTranspose\u001b[0m)   │ (\u001b[38;5;45mNone\u001b[0m, \u001b[38;5;34m8\u001b[0m, \u001b[38;5;34m8\u001b[0m, \u001b[38;5;34m64\u001b[0m)            │         \u001b[38;5;34m204,864\u001b[0m │\n",
       "├──────────────────────────────────────┼─────────────────────────────┼─────────────────┤\n",
       "│ batch_normalization_9                │ (\u001b[38;5;45mNone\u001b[0m, \u001b[38;5;34m8\u001b[0m, \u001b[38;5;34m8\u001b[0m, \u001b[38;5;34m64\u001b[0m)            │             \u001b[38;5;34m256\u001b[0m │\n",
       "│ (\u001b[38;5;33mBatchNormalization\u001b[0m)                 │                             │                 │\n",
       "├──────────────────────────────────────┼─────────────────────────────┼─────────────────┤\n",
       "│ leaky_re_lu_4 (\u001b[38;5;33mLeakyReLU\u001b[0m)            │ (\u001b[38;5;45mNone\u001b[0m, \u001b[38;5;34m8\u001b[0m, \u001b[38;5;34m8\u001b[0m, \u001b[38;5;34m64\u001b[0m)            │               \u001b[38;5;34m0\u001b[0m │\n",
       "├──────────────────────────────────────┼─────────────────────────────┼─────────────────┤\n",
       "│ conv2d_transpose_1 (\u001b[38;5;33mConv2DTranspose\u001b[0m) │ (\u001b[38;5;45mNone\u001b[0m, \u001b[38;5;34m16\u001b[0m, \u001b[38;5;34m16\u001b[0m, \u001b[38;5;34m32\u001b[0m)          │          \u001b[38;5;34m51,232\u001b[0m │\n",
       "├──────────────────────────────────────┼─────────────────────────────┼─────────────────┤\n",
       "│ batch_normalization_10               │ (\u001b[38;5;45mNone\u001b[0m, \u001b[38;5;34m16\u001b[0m, \u001b[38;5;34m16\u001b[0m, \u001b[38;5;34m32\u001b[0m)          │             \u001b[38;5;34m128\u001b[0m │\n",
       "│ (\u001b[38;5;33mBatchNormalization\u001b[0m)                 │                             │                 │\n",
       "├──────────────────────────────────────┼─────────────────────────────┼─────────────────┤\n",
       "│ leaky_re_lu_5 (\u001b[38;5;33mLeakyReLU\u001b[0m)            │ (\u001b[38;5;45mNone\u001b[0m, \u001b[38;5;34m16\u001b[0m, \u001b[38;5;34m16\u001b[0m, \u001b[38;5;34m32\u001b[0m)          │               \u001b[38;5;34m0\u001b[0m │\n",
       "├──────────────────────────────────────┼─────────────────────────────┼─────────────────┤\n",
       "│ conv2d_transpose_2 (\u001b[38;5;33mConv2DTranspose\u001b[0m) │ (\u001b[38;5;45mNone\u001b[0m, \u001b[38;5;34m32\u001b[0m, \u001b[38;5;34m32\u001b[0m, \u001b[38;5;34m16\u001b[0m)          │          \u001b[38;5;34m12,816\u001b[0m │\n",
       "├──────────────────────────────────────┼─────────────────────────────┼─────────────────┤\n",
       "│ batch_normalization_11               │ (\u001b[38;5;45mNone\u001b[0m, \u001b[38;5;34m32\u001b[0m, \u001b[38;5;34m32\u001b[0m, \u001b[38;5;34m16\u001b[0m)          │              \u001b[38;5;34m64\u001b[0m │\n",
       "│ (\u001b[38;5;33mBatchNormalization\u001b[0m)                 │                             │                 │\n",
       "├──────────────────────────────────────┼─────────────────────────────┼─────────────────┤\n",
       "│ leaky_re_lu_6 (\u001b[38;5;33mLeakyReLU\u001b[0m)            │ (\u001b[38;5;45mNone\u001b[0m, \u001b[38;5;34m32\u001b[0m, \u001b[38;5;34m32\u001b[0m, \u001b[38;5;34m16\u001b[0m)          │               \u001b[38;5;34m0\u001b[0m │\n",
       "├──────────────────────────────────────┼─────────────────────────────┼─────────────────┤\n",
       "│ conv2d_transpose_3 (\u001b[38;5;33mConv2DTranspose\u001b[0m) │ (\u001b[38;5;45mNone\u001b[0m, \u001b[38;5;34m64\u001b[0m, \u001b[38;5;34m64\u001b[0m, \u001b[38;5;34m16\u001b[0m)          │           \u001b[38;5;34m6,416\u001b[0m │\n",
       "├──────────────────────────────────────┼─────────────────────────────┼─────────────────┤\n",
       "│ batch_normalization_12               │ (\u001b[38;5;45mNone\u001b[0m, \u001b[38;5;34m64\u001b[0m, \u001b[38;5;34m64\u001b[0m, \u001b[38;5;34m16\u001b[0m)          │              \u001b[38;5;34m64\u001b[0m │\n",
       "│ (\u001b[38;5;33mBatchNormalization\u001b[0m)                 │                             │                 │\n",
       "├──────────────────────────────────────┼─────────────────────────────┼─────────────────┤\n",
       "│ leaky_re_lu_7 (\u001b[38;5;33mLeakyReLU\u001b[0m)            │ (\u001b[38;5;45mNone\u001b[0m, \u001b[38;5;34m64\u001b[0m, \u001b[38;5;34m64\u001b[0m, \u001b[38;5;34m16\u001b[0m)          │               \u001b[38;5;34m0\u001b[0m │\n",
       "├──────────────────────────────────────┼─────────────────────────────┼─────────────────┤\n",
       "│ conv2d_8 (\u001b[38;5;33mConv2D\u001b[0m)                    │ (\u001b[38;5;45mNone\u001b[0m, \u001b[38;5;34m64\u001b[0m, \u001b[38;5;34m64\u001b[0m, \u001b[38;5;34m3\u001b[0m)           │           \u001b[38;5;34m1,203\u001b[0m │\n",
       "└──────────────────────────────────────┴─────────────────────────────┴─────────────────┘\n"
      ]
     },
     "metadata": {},
     "output_type": "display_data"
    },
    {
     "data": {
      "text/html": [
       "<pre style=\"white-space:pre;overflow-x:auto;line-height:normal;font-family:Menlo,'DejaVu Sans Mono',consolas,'Courier New',monospace\"><span style=\"font-weight: bold\"> Total params: </span><span style=\"color: #00af00; text-decoration-color: #00af00\">492,083</span> (1.88 MB)\n",
       "</pre>\n"
      ],
      "text/plain": [
       "\u001b[1m Total params: \u001b[0m\u001b[38;5;34m492,083\u001b[0m (1.88 MB)\n"
      ]
     },
     "metadata": {},
     "output_type": "display_data"
    },
    {
     "data": {
      "text/html": [
       "<pre style=\"white-space:pre;overflow-x:auto;line-height:normal;font-family:Menlo,'DejaVu Sans Mono',consolas,'Courier New',monospace\"><span style=\"font-weight: bold\"> Trainable params: </span><span style=\"color: #00af00; text-decoration-color: #00af00\">487,731</span> (1.86 MB)\n",
       "</pre>\n"
      ],
      "text/plain": [
       "\u001b[1m Trainable params: \u001b[0m\u001b[38;5;34m487,731\u001b[0m (1.86 MB)\n"
      ]
     },
     "metadata": {},
     "output_type": "display_data"
    },
    {
     "data": {
      "text/html": [
       "<pre style=\"white-space:pre;overflow-x:auto;line-height:normal;font-family:Menlo,'DejaVu Sans Mono',consolas,'Courier New',monospace\"><span style=\"font-weight: bold\"> Non-trainable params: </span><span style=\"color: #00af00; text-decoration-color: #00af00\">4,352</span> (17.00 KB)\n",
       "</pre>\n"
      ],
      "text/plain": [
       "\u001b[1m Non-trainable params: \u001b[0m\u001b[38;5;34m4,352\u001b[0m (17.00 KB)\n"
      ]
     },
     "metadata": {},
     "output_type": "display_data"
    },
    {
     "data": {
      "text/html": [
       "<pre style=\"white-space:pre;overflow-x:auto;line-height:normal;font-family:Menlo,'DejaVu Sans Mono',consolas,'Courier New',monospace\"><span style=\"font-weight: bold\">Model: \"functional\"</span>\n",
       "</pre>\n"
      ],
      "text/plain": [
       "\u001b[1mModel: \"functional\"\u001b[0m\n"
      ]
     },
     "metadata": {},
     "output_type": "display_data"
    },
    {
     "data": {
      "text/html": [
       "<pre style=\"white-space:pre;overflow-x:auto;line-height:normal;font-family:Menlo,'DejaVu Sans Mono',consolas,'Courier New',monospace\">┏━━━━━━━━━━━━━━━━━━━━━━━━━━━━━━━━━━━━━━┳━━━━━━━━━━━━━━━━━━━━━━━━━━━━━┳━━━━━━━━━━━━━━━━━┓\n",
       "┃<span style=\"font-weight: bold\"> Layer (type)                         </span>┃<span style=\"font-weight: bold\"> Output Shape                </span>┃<span style=\"font-weight: bold\">         Param # </span>┃\n",
       "┡━━━━━━━━━━━━━━━━━━━━━━━━━━━━━━━━━━━━━━╇━━━━━━━━━━━━━━━━━━━━━━━━━━━━━╇━━━━━━━━━━━━━━━━━┩\n",
       "│ input_layer (<span style=\"color: #0087ff; text-decoration-color: #0087ff\">InputLayer</span>)             │ (<span style=\"color: #00d7ff; text-decoration-color: #00d7ff\">None</span>, <span style=\"color: #00af00; text-decoration-color: #00af00\">64</span>, <span style=\"color: #00af00; text-decoration-color: #00af00\">64</span>, <span style=\"color: #00af00; text-decoration-color: #00af00\">3</span>)           │               <span style=\"color: #00af00; text-decoration-color: #00af00\">0</span> │\n",
       "├──────────────────────────────────────┼─────────────────────────────┼─────────────────┤\n",
       "│ conv2d (<span style=\"color: #0087ff; text-decoration-color: #0087ff\">Conv2D</span>)                      │ (<span style=\"color: #00d7ff; text-decoration-color: #00d7ff\">None</span>, <span style=\"color: #00af00; text-decoration-color: #00af00\">64</span>, <span style=\"color: #00af00; text-decoration-color: #00af00\">64</span>, <span style=\"color: #00af00; text-decoration-color: #00af00\">16</span>)          │           <span style=\"color: #00af00; text-decoration-color: #00af00\">1,216</span> │\n",
       "├──────────────────────────────────────┼─────────────────────────────┼─────────────────┤\n",
       "│ batch_normalization                  │ (<span style=\"color: #00d7ff; text-decoration-color: #00d7ff\">None</span>, <span style=\"color: #00af00; text-decoration-color: #00af00\">64</span>, <span style=\"color: #00af00; text-decoration-color: #00af00\">64</span>, <span style=\"color: #00af00; text-decoration-color: #00af00\">16</span>)          │              <span style=\"color: #00af00; text-decoration-color: #00af00\">64</span> │\n",
       "│ (<span style=\"color: #0087ff; text-decoration-color: #0087ff\">BatchNormalization</span>)                 │                             │                 │\n",
       "├──────────────────────────────────────┼─────────────────────────────┼─────────────────┤\n",
       "│ conv2d_1 (<span style=\"color: #0087ff; text-decoration-color: #0087ff\">Conv2D</span>)                    │ (<span style=\"color: #00d7ff; text-decoration-color: #00d7ff\">None</span>, <span style=\"color: #00af00; text-decoration-color: #00af00\">32</span>, <span style=\"color: #00af00; text-decoration-color: #00af00\">32</span>, <span style=\"color: #00af00; text-decoration-color: #00af00\">16</span>)          │           <span style=\"color: #00af00; text-decoration-color: #00af00\">6,416</span> │\n",
       "├──────────────────────────────────────┼─────────────────────────────┼─────────────────┤\n",
       "│ batch_normalization_1                │ (<span style=\"color: #00d7ff; text-decoration-color: #00d7ff\">None</span>, <span style=\"color: #00af00; text-decoration-color: #00af00\">32</span>, <span style=\"color: #00af00; text-decoration-color: #00af00\">32</span>, <span style=\"color: #00af00; text-decoration-color: #00af00\">16</span>)          │              <span style=\"color: #00af00; text-decoration-color: #00af00\">64</span> │\n",
       "│ (<span style=\"color: #0087ff; text-decoration-color: #0087ff\">BatchNormalization</span>)                 │                             │                 │\n",
       "├──────────────────────────────────────┼─────────────────────────────┼─────────────────┤\n",
       "│ leaky_re_lu (<span style=\"color: #0087ff; text-decoration-color: #0087ff\">LeakyReLU</span>)              │ (<span style=\"color: #00d7ff; text-decoration-color: #00d7ff\">None</span>, <span style=\"color: #00af00; text-decoration-color: #00af00\">32</span>, <span style=\"color: #00af00; text-decoration-color: #00af00\">32</span>, <span style=\"color: #00af00; text-decoration-color: #00af00\">16</span>)          │               <span style=\"color: #00af00; text-decoration-color: #00af00\">0</span> │\n",
       "├──────────────────────────────────────┼─────────────────────────────┼─────────────────┤\n",
       "│ conv2d_2 (<span style=\"color: #0087ff; text-decoration-color: #0087ff\">Conv2D</span>)                    │ (<span style=\"color: #00d7ff; text-decoration-color: #00d7ff\">None</span>, <span style=\"color: #00af00; text-decoration-color: #00af00\">32</span>, <span style=\"color: #00af00; text-decoration-color: #00af00\">32</span>, <span style=\"color: #00af00; text-decoration-color: #00af00\">32</span>)          │          <span style=\"color: #00af00; text-decoration-color: #00af00\">12,832</span> │\n",
       "├──────────────────────────────────────┼─────────────────────────────┼─────────────────┤\n",
       "│ batch_normalization_2                │ (<span style=\"color: #00d7ff; text-decoration-color: #00d7ff\">None</span>, <span style=\"color: #00af00; text-decoration-color: #00af00\">32</span>, <span style=\"color: #00af00; text-decoration-color: #00af00\">32</span>, <span style=\"color: #00af00; text-decoration-color: #00af00\">32</span>)          │             <span style=\"color: #00af00; text-decoration-color: #00af00\">128</span> │\n",
       "│ (<span style=\"color: #0087ff; text-decoration-color: #0087ff\">BatchNormalization</span>)                 │                             │                 │\n",
       "├──────────────────────────────────────┼─────────────────────────────┼─────────────────┤\n",
       "│ conv2d_3 (<span style=\"color: #0087ff; text-decoration-color: #0087ff\">Conv2D</span>)                    │ (<span style=\"color: #00d7ff; text-decoration-color: #00d7ff\">None</span>, <span style=\"color: #00af00; text-decoration-color: #00af00\">16</span>, <span style=\"color: #00af00; text-decoration-color: #00af00\">16</span>, <span style=\"color: #00af00; text-decoration-color: #00af00\">32</span>)          │          <span style=\"color: #00af00; text-decoration-color: #00af00\">25,632</span> │\n",
       "├──────────────────────────────────────┼─────────────────────────────┼─────────────────┤\n",
       "│ batch_normalization_3                │ (<span style=\"color: #00d7ff; text-decoration-color: #00d7ff\">None</span>, <span style=\"color: #00af00; text-decoration-color: #00af00\">16</span>, <span style=\"color: #00af00; text-decoration-color: #00af00\">16</span>, <span style=\"color: #00af00; text-decoration-color: #00af00\">32</span>)          │             <span style=\"color: #00af00; text-decoration-color: #00af00\">128</span> │\n",
       "│ (<span style=\"color: #0087ff; text-decoration-color: #0087ff\">BatchNormalization</span>)                 │                             │                 │\n",
       "├──────────────────────────────────────┼─────────────────────────────┼─────────────────┤\n",
       "│ leaky_re_lu_1 (<span style=\"color: #0087ff; text-decoration-color: #0087ff\">LeakyReLU</span>)            │ (<span style=\"color: #00d7ff; text-decoration-color: #00d7ff\">None</span>, <span style=\"color: #00af00; text-decoration-color: #00af00\">16</span>, <span style=\"color: #00af00; text-decoration-color: #00af00\">16</span>, <span style=\"color: #00af00; text-decoration-color: #00af00\">32</span>)          │               <span style=\"color: #00af00; text-decoration-color: #00af00\">0</span> │\n",
       "├──────────────────────────────────────┼─────────────────────────────┼─────────────────┤\n",
       "│ conv2d_4 (<span style=\"color: #0087ff; text-decoration-color: #0087ff\">Conv2D</span>)                    │ (<span style=\"color: #00d7ff; text-decoration-color: #00d7ff\">None</span>, <span style=\"color: #00af00; text-decoration-color: #00af00\">16</span>, <span style=\"color: #00af00; text-decoration-color: #00af00\">16</span>, <span style=\"color: #00af00; text-decoration-color: #00af00\">64</span>)          │          <span style=\"color: #00af00; text-decoration-color: #00af00\">51,264</span> │\n",
       "├──────────────────────────────────────┼─────────────────────────────┼─────────────────┤\n",
       "│ batch_normalization_4                │ (<span style=\"color: #00d7ff; text-decoration-color: #00d7ff\">None</span>, <span style=\"color: #00af00; text-decoration-color: #00af00\">16</span>, <span style=\"color: #00af00; text-decoration-color: #00af00\">16</span>, <span style=\"color: #00af00; text-decoration-color: #00af00\">64</span>)          │             <span style=\"color: #00af00; text-decoration-color: #00af00\">256</span> │\n",
       "│ (<span style=\"color: #0087ff; text-decoration-color: #0087ff\">BatchNormalization</span>)                 │                             │                 │\n",
       "├──────────────────────────────────────┼─────────────────────────────┼─────────────────┤\n",
       "│ conv2d_5 (<span style=\"color: #0087ff; text-decoration-color: #0087ff\">Conv2D</span>)                    │ (<span style=\"color: #00d7ff; text-decoration-color: #00d7ff\">None</span>, <span style=\"color: #00af00; text-decoration-color: #00af00\">8</span>, <span style=\"color: #00af00; text-decoration-color: #00af00\">8</span>, <span style=\"color: #00af00; text-decoration-color: #00af00\">64</span>)            │         <span style=\"color: #00af00; text-decoration-color: #00af00\">102,464</span> │\n",
       "├──────────────────────────────────────┼─────────────────────────────┼─────────────────┤\n",
       "│ batch_normalization_5                │ (<span style=\"color: #00d7ff; text-decoration-color: #00d7ff\">None</span>, <span style=\"color: #00af00; text-decoration-color: #00af00\">8</span>, <span style=\"color: #00af00; text-decoration-color: #00af00\">8</span>, <span style=\"color: #00af00; text-decoration-color: #00af00\">64</span>)            │             <span style=\"color: #00af00; text-decoration-color: #00af00\">256</span> │\n",
       "│ (<span style=\"color: #0087ff; text-decoration-color: #0087ff\">BatchNormalization</span>)                 │                             │                 │\n",
       "├──────────────────────────────────────┼─────────────────────────────┼─────────────────┤\n",
       "│ leaky_re_lu_2 (<span style=\"color: #0087ff; text-decoration-color: #0087ff\">LeakyReLU</span>)            │ (<span style=\"color: #00d7ff; text-decoration-color: #00d7ff\">None</span>, <span style=\"color: #00af00; text-decoration-color: #00af00\">8</span>, <span style=\"color: #00af00; text-decoration-color: #00af00\">8</span>, <span style=\"color: #00af00; text-decoration-color: #00af00\">64</span>)            │               <span style=\"color: #00af00; text-decoration-color: #00af00\">0</span> │\n",
       "├──────────────────────────────────────┼─────────────────────────────┼─────────────────┤\n",
       "│ conv2d_6 (<span style=\"color: #0087ff; text-decoration-color: #0087ff\">Conv2D</span>)                    │ (<span style=\"color: #00d7ff; text-decoration-color: #00d7ff\">None</span>, <span style=\"color: #00af00; text-decoration-color: #00af00\">8</span>, <span style=\"color: #00af00; text-decoration-color: #00af00\">8</span>, <span style=\"color: #00af00; text-decoration-color: #00af00\">128</span>)           │         <span style=\"color: #00af00; text-decoration-color: #00af00\">204,928</span> │\n",
       "├──────────────────────────────────────┼─────────────────────────────┼─────────────────┤\n",
       "│ batch_normalization_6                │ (<span style=\"color: #00d7ff; text-decoration-color: #00d7ff\">None</span>, <span style=\"color: #00af00; text-decoration-color: #00af00\">8</span>, <span style=\"color: #00af00; text-decoration-color: #00af00\">8</span>, <span style=\"color: #00af00; text-decoration-color: #00af00\">128</span>)           │             <span style=\"color: #00af00; text-decoration-color: #00af00\">512</span> │\n",
       "│ (<span style=\"color: #0087ff; text-decoration-color: #0087ff\">BatchNormalization</span>)                 │                             │                 │\n",
       "├──────────────────────────────────────┼─────────────────────────────┼─────────────────┤\n",
       "│ conv2d_7 (<span style=\"color: #0087ff; text-decoration-color: #0087ff\">Conv2D</span>)                    │ (<span style=\"color: #00d7ff; text-decoration-color: #00d7ff\">None</span>, <span style=\"color: #00af00; text-decoration-color: #00af00\">4</span>, <span style=\"color: #00af00; text-decoration-color: #00af00\">4</span>, <span style=\"color: #00af00; text-decoration-color: #00af00\">128</span>)           │         <span style=\"color: #00af00; text-decoration-color: #00af00\">409,728</span> │\n",
       "├──────────────────────────────────────┼─────────────────────────────┼─────────────────┤\n",
       "│ batch_normalization_7                │ (<span style=\"color: #00d7ff; text-decoration-color: #00d7ff\">None</span>, <span style=\"color: #00af00; text-decoration-color: #00af00\">4</span>, <span style=\"color: #00af00; text-decoration-color: #00af00\">4</span>, <span style=\"color: #00af00; text-decoration-color: #00af00\">128</span>)           │             <span style=\"color: #00af00; text-decoration-color: #00af00\">512</span> │\n",
       "│ (<span style=\"color: #0087ff; text-decoration-color: #0087ff\">BatchNormalization</span>)                 │                             │                 │\n",
       "├──────────────────────────────────────┼─────────────────────────────┼─────────────────┤\n",
       "│ leaky_re_lu_3 (<span style=\"color: #0087ff; text-decoration-color: #0087ff\">LeakyReLU</span>)            │ (<span style=\"color: #00d7ff; text-decoration-color: #00d7ff\">None</span>, <span style=\"color: #00af00; text-decoration-color: #00af00\">4</span>, <span style=\"color: #00af00; text-decoration-color: #00af00\">4</span>, <span style=\"color: #00af00; text-decoration-color: #00af00\">128</span>)           │               <span style=\"color: #00af00; text-decoration-color: #00af00\">0</span> │\n",
       "├──────────────────────────────────────┼─────────────────────────────┼─────────────────┤\n",
       "│ global_average_pooling2d             │ (<span style=\"color: #00d7ff; text-decoration-color: #00d7ff\">None</span>, <span style=\"color: #00af00; text-decoration-color: #00af00\">128</span>)                 │               <span style=\"color: #00af00; text-decoration-color: #00af00\">0</span> │\n",
       "│ (<span style=\"color: #0087ff; text-decoration-color: #0087ff\">GlobalAveragePooling2D</span>)             │                             │                 │\n",
       "├──────────────────────────────────────┼─────────────────────────────┼─────────────────┤\n",
       "│ dense (<span style=\"color: #0087ff; text-decoration-color: #0087ff\">Dense</span>)                        │ (<span style=\"color: #00d7ff; text-decoration-color: #00d7ff\">None</span>, <span style=\"color: #00af00; text-decoration-color: #00af00\">1</span>)                   │             <span style=\"color: #00af00; text-decoration-color: #00af00\">129</span> │\n",
       "└──────────────────────────────────────┴─────────────────────────────┴─────────────────┘\n",
       "</pre>\n"
      ],
      "text/plain": [
       "┏━━━━━━━━━━━━━━━━━━━━━━━━━━━━━━━━━━━━━━┳━━━━━━━━━━━━━━━━━━━━━━━━━━━━━┳━━━━━━━━━━━━━━━━━┓\n",
       "┃\u001b[1m \u001b[0m\u001b[1mLayer (type)                        \u001b[0m\u001b[1m \u001b[0m┃\u001b[1m \u001b[0m\u001b[1mOutput Shape               \u001b[0m\u001b[1m \u001b[0m┃\u001b[1m \u001b[0m\u001b[1m        Param #\u001b[0m\u001b[1m \u001b[0m┃\n",
       "┡━━━━━━━━━━━━━━━━━━━━━━━━━━━━━━━━━━━━━━╇━━━━━━━━━━━━━━━━━━━━━━━━━━━━━╇━━━━━━━━━━━━━━━━━┩\n",
       "│ input_layer (\u001b[38;5;33mInputLayer\u001b[0m)             │ (\u001b[38;5;45mNone\u001b[0m, \u001b[38;5;34m64\u001b[0m, \u001b[38;5;34m64\u001b[0m, \u001b[38;5;34m3\u001b[0m)           │               \u001b[38;5;34m0\u001b[0m │\n",
       "├──────────────────────────────────────┼─────────────────────────────┼─────────────────┤\n",
       "│ conv2d (\u001b[38;5;33mConv2D\u001b[0m)                      │ (\u001b[38;5;45mNone\u001b[0m, \u001b[38;5;34m64\u001b[0m, \u001b[38;5;34m64\u001b[0m, \u001b[38;5;34m16\u001b[0m)          │           \u001b[38;5;34m1,216\u001b[0m │\n",
       "├──────────────────────────────────────┼─────────────────────────────┼─────────────────┤\n",
       "│ batch_normalization                  │ (\u001b[38;5;45mNone\u001b[0m, \u001b[38;5;34m64\u001b[0m, \u001b[38;5;34m64\u001b[0m, \u001b[38;5;34m16\u001b[0m)          │              \u001b[38;5;34m64\u001b[0m │\n",
       "│ (\u001b[38;5;33mBatchNormalization\u001b[0m)                 │                             │                 │\n",
       "├──────────────────────────────────────┼─────────────────────────────┼─────────────────┤\n",
       "│ conv2d_1 (\u001b[38;5;33mConv2D\u001b[0m)                    │ (\u001b[38;5;45mNone\u001b[0m, \u001b[38;5;34m32\u001b[0m, \u001b[38;5;34m32\u001b[0m, \u001b[38;5;34m16\u001b[0m)          │           \u001b[38;5;34m6,416\u001b[0m │\n",
       "├──────────────────────────────────────┼─────────────────────────────┼─────────────────┤\n",
       "│ batch_normalization_1                │ (\u001b[38;5;45mNone\u001b[0m, \u001b[38;5;34m32\u001b[0m, \u001b[38;5;34m32\u001b[0m, \u001b[38;5;34m16\u001b[0m)          │              \u001b[38;5;34m64\u001b[0m │\n",
       "│ (\u001b[38;5;33mBatchNormalization\u001b[0m)                 │                             │                 │\n",
       "├──────────────────────────────────────┼─────────────────────────────┼─────────────────┤\n",
       "│ leaky_re_lu (\u001b[38;5;33mLeakyReLU\u001b[0m)              │ (\u001b[38;5;45mNone\u001b[0m, \u001b[38;5;34m32\u001b[0m, \u001b[38;5;34m32\u001b[0m, \u001b[38;5;34m16\u001b[0m)          │               \u001b[38;5;34m0\u001b[0m │\n",
       "├──────────────────────────────────────┼─────────────────────────────┼─────────────────┤\n",
       "│ conv2d_2 (\u001b[38;5;33mConv2D\u001b[0m)                    │ (\u001b[38;5;45mNone\u001b[0m, \u001b[38;5;34m32\u001b[0m, \u001b[38;5;34m32\u001b[0m, \u001b[38;5;34m32\u001b[0m)          │          \u001b[38;5;34m12,832\u001b[0m │\n",
       "├──────────────────────────────────────┼─────────────────────────────┼─────────────────┤\n",
       "│ batch_normalization_2                │ (\u001b[38;5;45mNone\u001b[0m, \u001b[38;5;34m32\u001b[0m, \u001b[38;5;34m32\u001b[0m, \u001b[38;5;34m32\u001b[0m)          │             \u001b[38;5;34m128\u001b[0m │\n",
       "│ (\u001b[38;5;33mBatchNormalization\u001b[0m)                 │                             │                 │\n",
       "├──────────────────────────────────────┼─────────────────────────────┼─────────────────┤\n",
       "│ conv2d_3 (\u001b[38;5;33mConv2D\u001b[0m)                    │ (\u001b[38;5;45mNone\u001b[0m, \u001b[38;5;34m16\u001b[0m, \u001b[38;5;34m16\u001b[0m, \u001b[38;5;34m32\u001b[0m)          │          \u001b[38;5;34m25,632\u001b[0m │\n",
       "├──────────────────────────────────────┼─────────────────────────────┼─────────────────┤\n",
       "│ batch_normalization_3                │ (\u001b[38;5;45mNone\u001b[0m, \u001b[38;5;34m16\u001b[0m, \u001b[38;5;34m16\u001b[0m, \u001b[38;5;34m32\u001b[0m)          │             \u001b[38;5;34m128\u001b[0m │\n",
       "│ (\u001b[38;5;33mBatchNormalization\u001b[0m)                 │                             │                 │\n",
       "├──────────────────────────────────────┼─────────────────────────────┼─────────────────┤\n",
       "│ leaky_re_lu_1 (\u001b[38;5;33mLeakyReLU\u001b[0m)            │ (\u001b[38;5;45mNone\u001b[0m, \u001b[38;5;34m16\u001b[0m, \u001b[38;5;34m16\u001b[0m, \u001b[38;5;34m32\u001b[0m)          │               \u001b[38;5;34m0\u001b[0m │\n",
       "├──────────────────────────────────────┼─────────────────────────────┼─────────────────┤\n",
       "│ conv2d_4 (\u001b[38;5;33mConv2D\u001b[0m)                    │ (\u001b[38;5;45mNone\u001b[0m, \u001b[38;5;34m16\u001b[0m, \u001b[38;5;34m16\u001b[0m, \u001b[38;5;34m64\u001b[0m)          │          \u001b[38;5;34m51,264\u001b[0m │\n",
       "├──────────────────────────────────────┼─────────────────────────────┼─────────────────┤\n",
       "│ batch_normalization_4                │ (\u001b[38;5;45mNone\u001b[0m, \u001b[38;5;34m16\u001b[0m, \u001b[38;5;34m16\u001b[0m, \u001b[38;5;34m64\u001b[0m)          │             \u001b[38;5;34m256\u001b[0m │\n",
       "│ (\u001b[38;5;33mBatchNormalization\u001b[0m)                 │                             │                 │\n",
       "├──────────────────────────────────────┼─────────────────────────────┼─────────────────┤\n",
       "│ conv2d_5 (\u001b[38;5;33mConv2D\u001b[0m)                    │ (\u001b[38;5;45mNone\u001b[0m, \u001b[38;5;34m8\u001b[0m, \u001b[38;5;34m8\u001b[0m, \u001b[38;5;34m64\u001b[0m)            │         \u001b[38;5;34m102,464\u001b[0m │\n",
       "├──────────────────────────────────────┼─────────────────────────────┼─────────────────┤\n",
       "│ batch_normalization_5                │ (\u001b[38;5;45mNone\u001b[0m, \u001b[38;5;34m8\u001b[0m, \u001b[38;5;34m8\u001b[0m, \u001b[38;5;34m64\u001b[0m)            │             \u001b[38;5;34m256\u001b[0m │\n",
       "│ (\u001b[38;5;33mBatchNormalization\u001b[0m)                 │                             │                 │\n",
       "├──────────────────────────────────────┼─────────────────────────────┼─────────────────┤\n",
       "│ leaky_re_lu_2 (\u001b[38;5;33mLeakyReLU\u001b[0m)            │ (\u001b[38;5;45mNone\u001b[0m, \u001b[38;5;34m8\u001b[0m, \u001b[38;5;34m8\u001b[0m, \u001b[38;5;34m64\u001b[0m)            │               \u001b[38;5;34m0\u001b[0m │\n",
       "├──────────────────────────────────────┼─────────────────────────────┼─────────────────┤\n",
       "│ conv2d_6 (\u001b[38;5;33mConv2D\u001b[0m)                    │ (\u001b[38;5;45mNone\u001b[0m, \u001b[38;5;34m8\u001b[0m, \u001b[38;5;34m8\u001b[0m, \u001b[38;5;34m128\u001b[0m)           │         \u001b[38;5;34m204,928\u001b[0m │\n",
       "├──────────────────────────────────────┼─────────────────────────────┼─────────────────┤\n",
       "│ batch_normalization_6                │ (\u001b[38;5;45mNone\u001b[0m, \u001b[38;5;34m8\u001b[0m, \u001b[38;5;34m8\u001b[0m, \u001b[38;5;34m128\u001b[0m)           │             \u001b[38;5;34m512\u001b[0m │\n",
       "│ (\u001b[38;5;33mBatchNormalization\u001b[0m)                 │                             │                 │\n",
       "├──────────────────────────────────────┼─────────────────────────────┼─────────────────┤\n",
       "│ conv2d_7 (\u001b[38;5;33mConv2D\u001b[0m)                    │ (\u001b[38;5;45mNone\u001b[0m, \u001b[38;5;34m4\u001b[0m, \u001b[38;5;34m4\u001b[0m, \u001b[38;5;34m128\u001b[0m)           │         \u001b[38;5;34m409,728\u001b[0m │\n",
       "├──────────────────────────────────────┼─────────────────────────────┼─────────────────┤\n",
       "│ batch_normalization_7                │ (\u001b[38;5;45mNone\u001b[0m, \u001b[38;5;34m4\u001b[0m, \u001b[38;5;34m4\u001b[0m, \u001b[38;5;34m128\u001b[0m)           │             \u001b[38;5;34m512\u001b[0m │\n",
       "│ (\u001b[38;5;33mBatchNormalization\u001b[0m)                 │                             │                 │\n",
       "├──────────────────────────────────────┼─────────────────────────────┼─────────────────┤\n",
       "│ leaky_re_lu_3 (\u001b[38;5;33mLeakyReLU\u001b[0m)            │ (\u001b[38;5;45mNone\u001b[0m, \u001b[38;5;34m4\u001b[0m, \u001b[38;5;34m4\u001b[0m, \u001b[38;5;34m128\u001b[0m)           │               \u001b[38;5;34m0\u001b[0m │\n",
       "├──────────────────────────────────────┼─────────────────────────────┼─────────────────┤\n",
       "│ global_average_pooling2d             │ (\u001b[38;5;45mNone\u001b[0m, \u001b[38;5;34m128\u001b[0m)                 │               \u001b[38;5;34m0\u001b[0m │\n",
       "│ (\u001b[38;5;33mGlobalAveragePooling2D\u001b[0m)             │                             │                 │\n",
       "├──────────────────────────────────────┼─────────────────────────────┼─────────────────┤\n",
       "│ dense (\u001b[38;5;33mDense\u001b[0m)                        │ (\u001b[38;5;45mNone\u001b[0m, \u001b[38;5;34m1\u001b[0m)                   │             \u001b[38;5;34m129\u001b[0m │\n",
       "└──────────────────────────────────────┴─────────────────────────────┴─────────────────┘\n"
      ]
     },
     "metadata": {},
     "output_type": "display_data"
    },
    {
     "data": {
      "text/html": [
       "<pre style=\"white-space:pre;overflow-x:auto;line-height:normal;font-family:Menlo,'DejaVu Sans Mono',consolas,'Courier New',monospace\"><span style=\"font-weight: bold\"> Total params: </span><span style=\"color: #00af00; text-decoration-color: #00af00\">816,529</span> (3.11 MB)\n",
       "</pre>\n"
      ],
      "text/plain": [
       "\u001b[1m Total params: \u001b[0m\u001b[38;5;34m816,529\u001b[0m (3.11 MB)\n"
      ]
     },
     "metadata": {},
     "output_type": "display_data"
    },
    {
     "data": {
      "text/html": [
       "<pre style=\"white-space:pre;overflow-x:auto;line-height:normal;font-family:Menlo,'DejaVu Sans Mono',consolas,'Courier New',monospace\"><span style=\"font-weight: bold\"> Trainable params: </span><span style=\"color: #00af00; text-decoration-color: #00af00\">0</span> (0.00 B)\n",
       "</pre>\n"
      ],
      "text/plain": [
       "\u001b[1m Trainable params: \u001b[0m\u001b[38;5;34m0\u001b[0m (0.00 B)\n"
      ]
     },
     "metadata": {},
     "output_type": "display_data"
    },
    {
     "data": {
      "text/html": [
       "<pre style=\"white-space:pre;overflow-x:auto;line-height:normal;font-family:Menlo,'DejaVu Sans Mono',consolas,'Courier New',monospace\"><span style=\"font-weight: bold\"> Non-trainable params: </span><span style=\"color: #00af00; text-decoration-color: #00af00\">816,529</span> (3.11 MB)\n",
       "</pre>\n"
      ],
      "text/plain": [
       "\u001b[1m Non-trainable params: \u001b[0m\u001b[38;5;34m816,529\u001b[0m (3.11 MB)\n"
      ]
     },
     "metadata": {},
     "output_type": "display_data"
    },
    {
     "data": {
      "text/html": [
       "<pre style=\"white-space:pre;overflow-x:auto;line-height:normal;font-family:Menlo,'DejaVu Sans Mono',consolas,'Courier New',monospace\"><span style=\"font-weight: bold\">Model: \"sequential\"</span>\n",
       "</pre>\n"
      ],
      "text/plain": [
       "\u001b[1mModel: \"sequential\"\u001b[0m\n"
      ]
     },
     "metadata": {},
     "output_type": "display_data"
    },
    {
     "data": {
      "text/html": [
       "<pre style=\"white-space:pre;overflow-x:auto;line-height:normal;font-family:Menlo,'DejaVu Sans Mono',consolas,'Courier New',monospace\">┏━━━━━━━━━━━━━━━━━━━━━━━━━━━━━━━━━━━━━━┳━━━━━━━━━━━━━━━━━━━━━━━━━━━━━┳━━━━━━━━━━━━━━━━━┓\n",
       "┃<span style=\"font-weight: bold\"> Layer (type)                         </span>┃<span style=\"font-weight: bold\"> Output Shape                </span>┃<span style=\"font-weight: bold\">         Param # </span>┃\n",
       "┡━━━━━━━━━━━━━━━━━━━━━━━━━━━━━━━━━━━━━━╇━━━━━━━━━━━━━━━━━━━━━━━━━━━━━╇━━━━━━━━━━━━━━━━━┩\n",
       "│ functional_1 (<span style=\"color: #0087ff; text-decoration-color: #0087ff\">Functional</span>)            │ (<span style=\"color: #00d7ff; text-decoration-color: #00d7ff\">None</span>, <span style=\"color: #00af00; text-decoration-color: #00af00\">64</span>, <span style=\"color: #00af00; text-decoration-color: #00af00\">64</span>, <span style=\"color: #00af00; text-decoration-color: #00af00\">3</span>)           │         <span style=\"color: #00af00; text-decoration-color: #00af00\">492,083</span> │\n",
       "├──────────────────────────────────────┼─────────────────────────────┼─────────────────┤\n",
       "│ functional (<span style=\"color: #0087ff; text-decoration-color: #0087ff\">Functional</span>)              │ (<span style=\"color: #00d7ff; text-decoration-color: #00d7ff\">None</span>, <span style=\"color: #00af00; text-decoration-color: #00af00\">1</span>)                   │         <span style=\"color: #00af00; text-decoration-color: #00af00\">816,529</span> │\n",
       "└──────────────────────────────────────┴─────────────────────────────┴─────────────────┘\n",
       "</pre>\n"
      ],
      "text/plain": [
       "┏━━━━━━━━━━━━━━━━━━━━━━━━━━━━━━━━━━━━━━┳━━━━━━━━━━━━━━━━━━━━━━━━━━━━━┳━━━━━━━━━━━━━━━━━┓\n",
       "┃\u001b[1m \u001b[0m\u001b[1mLayer (type)                        \u001b[0m\u001b[1m \u001b[0m┃\u001b[1m \u001b[0m\u001b[1mOutput Shape               \u001b[0m\u001b[1m \u001b[0m┃\u001b[1m \u001b[0m\u001b[1m        Param #\u001b[0m\u001b[1m \u001b[0m┃\n",
       "┡━━━━━━━━━━━━━━━━━━━━━━━━━━━━━━━━━━━━━━╇━━━━━━━━━━━━━━━━━━━━━━━━━━━━━╇━━━━━━━━━━━━━━━━━┩\n",
       "│ functional_1 (\u001b[38;5;33mFunctional\u001b[0m)            │ (\u001b[38;5;45mNone\u001b[0m, \u001b[38;5;34m64\u001b[0m, \u001b[38;5;34m64\u001b[0m, \u001b[38;5;34m3\u001b[0m)           │         \u001b[38;5;34m492,083\u001b[0m │\n",
       "├──────────────────────────────────────┼─────────────────────────────┼─────────────────┤\n",
       "│ functional (\u001b[38;5;33mFunctional\u001b[0m)              │ (\u001b[38;5;45mNone\u001b[0m, \u001b[38;5;34m1\u001b[0m)                   │         \u001b[38;5;34m816,529\u001b[0m │\n",
       "└──────────────────────────────────────┴─────────────────────────────┴─────────────────┘\n"
      ]
     },
     "metadata": {},
     "output_type": "display_data"
    },
    {
     "data": {
      "text/html": [
       "<pre style=\"white-space:pre;overflow-x:auto;line-height:normal;font-family:Menlo,'DejaVu Sans Mono',consolas,'Courier New',monospace\"><span style=\"font-weight: bold\"> Total params: </span><span style=\"color: #00af00; text-decoration-color: #00af00\">1,308,612</span> (4.99 MB)\n",
       "</pre>\n"
      ],
      "text/plain": [
       "\u001b[1m Total params: \u001b[0m\u001b[38;5;34m1,308,612\u001b[0m (4.99 MB)\n"
      ]
     },
     "metadata": {},
     "output_type": "display_data"
    },
    {
     "data": {
      "text/html": [
       "<pre style=\"white-space:pre;overflow-x:auto;line-height:normal;font-family:Menlo,'DejaVu Sans Mono',consolas,'Courier New',monospace\"><span style=\"font-weight: bold\"> Trainable params: </span><span style=\"color: #00af00; text-decoration-color: #00af00\">487,731</span> (1.86 MB)\n",
       "</pre>\n"
      ],
      "text/plain": [
       "\u001b[1m Trainable params: \u001b[0m\u001b[38;5;34m487,731\u001b[0m (1.86 MB)\n"
      ]
     },
     "metadata": {},
     "output_type": "display_data"
    },
    {
     "data": {
      "text/html": [
       "<pre style=\"white-space:pre;overflow-x:auto;line-height:normal;font-family:Menlo,'DejaVu Sans Mono',consolas,'Courier New',monospace\"><span style=\"font-weight: bold\"> Non-trainable params: </span><span style=\"color: #00af00; text-decoration-color: #00af00\">820,881</span> (3.13 MB)\n",
       "</pre>\n"
      ],
      "text/plain": [
       "\u001b[1m Non-trainable params: \u001b[0m\u001b[38;5;34m820,881\u001b[0m (3.13 MB)\n"
      ]
     },
     "metadata": {},
     "output_type": "display_data"
    }
   ],
   "source": [
    "# we will downscale the images\n",
    "SPATIAL_DIM = 64 \n",
    "\n",
    "# size of noise vector\n",
    "LATENT_DIM_GAN = 100 \n",
    "\n",
    "# filter size in conv layer\n",
    "FILTER_SIZE = 5\n",
    "\n",
    "# number of filters in conv layer\n",
    "NET_CAPACITY = 16\n",
    "\n",
    "# batch size\n",
    "BATCH_SIZE_GAN = 32\n",
    "\n",
    "# interval for displaying generated images\n",
    "PROGRESS_INTERVAL = 80 \n",
    "\n",
    "# directory for storing generated images\n",
    "ROOT_DIR = 'visualization'\n",
    "if not os.path.isdir(ROOT_DIR):\n",
    "    os.mkdir(ROOT_DIR)\n",
    "\n",
    "def construct_models(verbose=False):\n",
    "    ### discriminator\n",
    "    discriminator = build_discriminator(NET_CAPACITY, SPATIAL_DIM, FILTER_SIZE)\n",
    "    # compile discriminator\n",
    "    discriminator.compile(loss='binary_crossentropy', optimizer=Adam(learning_rate=0.0002), metrics=['mae']) #Can try other values for lr\n",
    "\n",
    "    ### generator\n",
    "    # do not compile generator\n",
    "    generator = build_generator(NET_CAPACITY, FILTER_SIZE, LATENT_DIM_GAN)\n",
    "\n",
    "    ### DCGAN \n",
    "    gan = Sequential()\n",
    "    gan.add(generator)\n",
    "    gan.add(discriminator)\n",
    "    discriminator.trainable = False \n",
    "    gan.compile(loss='binary_crossentropy', optimizer=Adam(learning_rate=0.0002), metrics=['mae']) #Can try other values for lr\n",
    "\n",
    "    if verbose: \n",
    "        generator.summary()\n",
    "        discriminator.summary()\n",
    "        gan.summary()\n",
    "        \n",
    "    return generator, discriminator, gan\n",
    "  \n",
    "generator_weather_images, discriminator_weather_images, gan_weather_images = construct_models(verbose=True)"
   ]
  },
  {
   "cell_type": "code",
   "execution_count": 30,
   "id": "d650a706-1338-4772-a806-362ae644d0d4",
   "metadata": {},
   "outputs": [
    {
     "name": "stdout",
     "output_type": "stream",
     "text": [
      "Epoch 199\n"
     ]
    },
    {
     "data": {
      "image/png": "[encoded data removed]",
      "text/plain": [
       "<Figure size 640x480 with 1 Axes>"
      ]
     },
     "metadata": {},
     "output_type": "display_data"
    }
   ],
   "source": [
    "# number of discriminator updates per alternating training iteration\n",
    "\n",
    "DISC_UPDATES = 1  #Can try other values \n",
    "# number of generator updates per alternating training iteration\n",
    "GEN_UPDATES = 2 #Can try other values\n",
    "\n",
    "# function for training a GAN\n",
    "def run_training(generator, discriminator, gan, weather_images, start_it=0, num_epochs=1000):\n",
    "        \n",
    "    # helper function for selecting 'size' real images\n",
    "    # and downscaling them to lower dimension SPATIAL_DIM\n",
    "    def get_real_images(weather_images, size, total): #get_real_weather\n",
    "        cur_files = weather_images.sample(frac=1).iloc[0:size]\n",
    "        X = np.empty(shape=(size, SPATIAL_DIM, SPATIAL_DIM, 3))\n",
    "        for i in range(0, size):\n",
    "            file_path = cur_files.iloc[i]['image_path']\n",
    "            img = Image.open(file_path)\n",
    "            img = img.resize((SPATIAL_DIM, SPATIAL_DIM))\n",
    "            img = img.convert('RGB')\n",
    "            img = np.array(img)\n",
    "            img = img.astype(np.float32) / 127.5 - 1.0\n",
    "            X[i] = img\n",
    "        return X\n",
    "  \n",
    "    # list for storing loss\n",
    "    avg_loss_discriminator = []\n",
    "    avg_loss_generator = []\n",
    "    total_it = start_it\n",
    "\n",
    "    # main training loop\n",
    "    for epoch in range(num_epochs):\n",
    "        \n",
    "        # alternating training loop\n",
    "        loss_discriminator = []\n",
    "        loss_generator = []\n",
    "        for it in range(200): \n",
    "            \n",
    "            #### Discriminator training loop ####\n",
    "            for i in range(DISC_UPDATES): \n",
    "                # select a random set of real images\n",
    "                imgs_real = get_real_images(weather_images, BATCH_SIZE_GAN, TOTAL_SAMPLES)\n",
    "                # generate a set of random noise vectors\n",
    "                noise = np.random.randn(BATCH_SIZE_GAN, LATENT_DIM_GAN)\n",
    "                # generate a set of fake images using the generator\n",
    "                imgs_fake = generator.predict(noise)\n",
    "                # train the discriminator on real images with label 1\n",
    "                d_loss_real = discriminator.train_on_batch(imgs_real, np.ones([BATCH_SIZE_GAN]))[1]\n",
    "                # train the discriminator on fake images with label 0\n",
    "                d_loss_fake = discriminator.train_on_batch(imgs_fake, np.zeros([BATCH_SIZE_GAN]))[1]\n",
    "\n",
    "            # display some fake images for visual control of convergence\n",
    "            if total_it % PROGRESS_INTERVAL == 0:\n",
    "                plt.figure(figsize=(5,2))\n",
    "                num_vis = min(BATCH_SIZE_GAN, 5)\n",
    "                imgs_real = get_real_images(weather_images, num_vis, TOTAL_SAMPLES)\n",
    "                noise = np.random.randn(num_vis, LATENT_DIM_GAN)\n",
    "                imgs_fake = generator.predict(noise)\n",
    "                for obj_plot in [imgs_fake, imgs_real]:\n",
    "                    plt.figure(figsize=(num_vis * 3, 3))\n",
    "                    for b in range(num_vis):\n",
    "                        disc_score = float(discriminator.predict(np.expand_dims(obj_plot[b], axis=0))[0])\n",
    "                        plt.subplot(1, num_vis, b + 1)\n",
    "                        plt.title(str(round(disc_score, 3)))\n",
    "                        plt.imshow(obj_plot[b] * 0.5 + 0.5) \n",
    "                    if obj_plot is imgs_fake:\n",
    "                        plt.savefig(os.path.join(ROOT_DIR, str(total_it).zfill(10) + '.jpg'), format='jpg', bbox_inches='tight')\n",
    "                    plt.show()  \n",
    "\n",
    "            #### Generator training loop ####\n",
    "            loss = 0\n",
    "            y = np.ones([BATCH_SIZE_GAN, 1]) \n",
    "            for j in range(GEN_UPDATES):\n",
    "                # generate a set of random noise vectors\n",
    "                noise = np.random.randn(BATCH_SIZE_GAN, LATENT_DIM_GAN)\n",
    "                # train the generator on fake images with label 1\n",
    "                loss += gan.train_on_batch(noise, y)[1]\n",
    "\n",
    "            # store loss\n",
    "            loss_discriminator.append((d_loss_real + d_loss_fake) / 2.)        \n",
    "            loss_generator.append(loss / GEN_UPDATES)\n",
    "            total_it += 1\n",
    "\n",
    "        # visualize loss\n",
    "        clear_output(True)\n",
    "        print('Epoch', epoch)\n",
    "        avg_loss_discriminator.append(np.mean(loss_discriminator))\n",
    "        avg_loss_generator.append(np.mean(loss_generator))\n",
    "        plt.plot(range(len(avg_loss_discriminator)), avg_loss_discriminator)\n",
    "        plt.plot(range(len(avg_loss_generator)), avg_loss_generator)\n",
    "        plt.legend(['discriminator loss', 'generator loss'])\n",
    "        plt.show()\n",
    "\n",
    "    return generator, discriminator, gan\n",
    "\n",
    "generator_weather_images, discriminator_weather_images, gan_weather_images = run_training(generator_weather_images, \n",
    "                                                               discriminator_weather_images, \n",
    "                                                               gan_weather_images, \n",
    "                                                               num_epochs=200, \n",
    "                                                               weather_images=weather_images)"
   ]
  },
  {
   "cell_type": "markdown",
   "id": "456d26f1-4ec3-4842-8bd8-71fa45713803",
   "metadata": {},
   "source": [
    "##### After running 200 epochs to determine if the radar recognition was reliable, I can see that the discriminator loss and the generator loss never conjoined. However, watching it from epoch 0 to epoch 200 it started from no graphs to gradually increased loss. The DL and GL never started at their points together. I feel that if I ran the epoch to 250 or 300 I could have potentially observed conjoined losses. Running 200 Epochs took about 3 hours. Trying to run 500 epoch took more than 6 hours and still didn't complete. "
   ]
  },
  {
   "cell_type": "code",
   "execution_count": null,
   "id": "8cffd9cc-a1a5-4ac9-ac10-930d261dff54",
   "metadata": {},
   "outputs": [],
   "source": []
  }
 ],
 "metadata": {
  "kernelspec": {
   "display_name": "Python [conda env:base] *",
   "language": "python",
   "name": "conda-base-py"
  },
  "language_info": {
   "codemirror_mode": {
    "name": "ipython",
    "version": 3
   },
   "file_extension": ".py",
   "mimetype": "text/x-python",
   "name": "python",
   "nbconvert_exporter": "python",
   "pygments_lexer": "ipython3",
   "version": "3.12.7"
  }
 },
 "nbformat": 4,
 "nbformat_minor": 5
}
